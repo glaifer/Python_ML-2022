{
 "cells": [
  {
   "cell_type": "markdown",
   "metadata": {},
   "source": [
    "# Wines Points prediction "
   ]
  },
  {
   "cell_type": "markdown",
   "metadata": {
    "tags": []
   },
   "source": [
    "## Gil LAIFER (028482636) - TCDS17 6.5.2022"
   ]
  },
  {
   "cell_type": "code",
   "execution_count": 1,
   "metadata": {},
   "outputs": [],
   "source": [
    "%load_ext autoreload\n",
    "%autoreload 2\n",
    "import sys; sys.path.append('../')"
   ]
  },
  {
   "cell_type": "markdown",
   "metadata": {},
   "source": [
    "Here we will try to predict the points a wine will get based on known characteristics (i.e. features, in the ML terminology). The mine point in this stage is to establish a simple, ideally super cost effective, basline.\n",
    "In the real world there is a tradeoff between complexity and perforamnce, and the DS job, among others, is to present a tradeoff tables of what performance is achivalbel at what complexity level. \n",
    "\n",
    "to which models with increased complexity and resource demands will be compared. Complexity should then be translated into cost. For example:\n",
    " * Compute cost \n",
    " * Maintenance cost\n",
    " * Serving costs (i.e. is new platform needed?) \n",
    " "
   ]
  },
  {
   "cell_type": "markdown",
   "metadata": {},
   "source": [
    "## Loading the data"
   ]
  },
  {
   "cell_type": "code",
   "execution_count": 2,
   "metadata": {},
   "outputs": [
    {
     "data": {
      "text/html": [
       "        <script type=\"text/javascript\">\n",
       "        window.PlotlyConfig = {MathJaxConfig: 'local'};\n",
       "        if (window.MathJax) {MathJax.Hub.Config({SVG: {font: \"STIX-Web\"}});}\n",
       "        if (typeof require !== 'undefined') {\n",
       "        require.undef(\"plotly\");\n",
       "        requirejs.config({\n",
       "            paths: {\n",
       "                'plotly': ['https://cdn.plot.ly/plotly-2.9.0.min']\n",
       "            }\n",
       "        });\n",
       "        require(['plotly'], function(Plotly) {\n",
       "            window._Plotly = Plotly;\n",
       "        });\n",
       "        }\n",
       "        </script>\n",
       "        "
      ]
     },
     "metadata": {},
     "output_type": "display_data"
    }
   ],
   "source": [
    "import pandas as pd\n",
    "import cufflinks as cf; cf.go_offline()"
   ]
  },
  {
   "cell_type": "code",
   "execution_count": 3,
   "metadata": {},
   "outputs": [
    {
     "data": {
      "text/plain": [
       "(129971, 14)"
      ]
     },
     "execution_count": 3,
     "metadata": {},
     "output_type": "execute_result"
    }
   ],
   "source": [
    "wine_reviews = pd.read_csv(\"data/winemag-data-130k-v2.csv\")\n",
    "wine_reviews.shape"
   ]
  },
  {
   "cell_type": "code",
   "execution_count": 4,
   "metadata": {},
   "outputs": [
    {
     "data": {
      "text/html": [
       "<div>\n",
       "<style scoped>\n",
       "    .dataframe tbody tr th:only-of-type {\n",
       "        vertical-align: middle;\n",
       "    }\n",
       "\n",
       "    .dataframe tbody tr th {\n",
       "        vertical-align: top;\n",
       "    }\n",
       "\n",
       "    .dataframe thead th {\n",
       "        text-align: right;\n",
       "    }\n",
       "</style>\n",
       "<table border=\"1\" class=\"dataframe\">\n",
       "  <thead>\n",
       "    <tr style=\"text-align: right;\">\n",
       "      <th></th>\n",
       "      <th>Unnamed: 0</th>\n",
       "      <th>country</th>\n",
       "      <th>description</th>\n",
       "      <th>designation</th>\n",
       "      <th>points</th>\n",
       "      <th>price</th>\n",
       "      <th>province</th>\n",
       "      <th>region_1</th>\n",
       "      <th>region_2</th>\n",
       "      <th>taster_name</th>\n",
       "      <th>taster_twitter_handle</th>\n",
       "      <th>title</th>\n",
       "      <th>variety</th>\n",
       "      <th>winery</th>\n",
       "    </tr>\n",
       "  </thead>\n",
       "  <tbody>\n",
       "    <tr>\n",
       "      <th>109925</th>\n",
       "      <td>109925</td>\n",
       "      <td>Italy</td>\n",
       "      <td>Bold and full bodied, this opens with rather s...</td>\n",
       "      <td>Pajè Riserva</td>\n",
       "      <td>93</td>\n",
       "      <td>58.0</td>\n",
       "      <td>Piedmont</td>\n",
       "      <td>Barbaresco</td>\n",
       "      <td>NaN</td>\n",
       "      <td>Kerin O’Keefe</td>\n",
       "      <td>@kerinokeefe</td>\n",
       "      <td>Produttori del Barbaresco 2011 Pajè Riserva  (...</td>\n",
       "      <td>Nebbiolo</td>\n",
       "      <td>Produttori del Barbaresco</td>\n",
       "    </tr>\n",
       "    <tr>\n",
       "      <th>112314</th>\n",
       "      <td>112314</td>\n",
       "      <td>France</td>\n",
       "      <td>Soft notes of earth and gentle red fruit appea...</td>\n",
       "      <td>Collection</td>\n",
       "      <td>86</td>\n",
       "      <td>29.0</td>\n",
       "      <td>Alsace</td>\n",
       "      <td>Alsace</td>\n",
       "      <td>NaN</td>\n",
       "      <td>Anne Krebiehl MW</td>\n",
       "      <td>@AnneInVino</td>\n",
       "      <td>Kuentz-Bas 2013 Collection Pinot Noir (Alsace)</td>\n",
       "      <td>Pinot Noir</td>\n",
       "      <td>Kuentz-Bas</td>\n",
       "    </tr>\n",
       "    <tr>\n",
       "      <th>104053</th>\n",
       "      <td>104053</td>\n",
       "      <td>Australia</td>\n",
       "      <td>It's good to see this Margaret River stalwart ...</td>\n",
       "      <td>DJL</td>\n",
       "      <td>92</td>\n",
       "      <td>20.0</td>\n",
       "      <td>Western Australia</td>\n",
       "      <td>Margaret River</td>\n",
       "      <td>NaN</td>\n",
       "      <td>Joe Czerwinski</td>\n",
       "      <td>@JoeCz</td>\n",
       "      <td>Xanadu 2015 DJL Chardonnay (Margaret River)</td>\n",
       "      <td>Chardonnay</td>\n",
       "      <td>Xanadu</td>\n",
       "    </tr>\n",
       "    <tr>\n",
       "      <th>59664</th>\n",
       "      <td>59664</td>\n",
       "      <td>US</td>\n",
       "      <td>The fruit is thin and herbal, with light hints...</td>\n",
       "      <td>NaN</td>\n",
       "      <td>85</td>\n",
       "      <td>17.0</td>\n",
       "      <td>Washington</td>\n",
       "      <td>Columbia Valley (WA)</td>\n",
       "      <td>Columbia Valley</td>\n",
       "      <td>Paul Gregutt</td>\n",
       "      <td>@paulgwine</td>\n",
       "      <td>Maryhill 2011 Syrah (Columbia Valley (WA))</td>\n",
       "      <td>Syrah</td>\n",
       "      <td>Maryhill</td>\n",
       "    </tr>\n",
       "    <tr>\n",
       "      <th>61833</th>\n",
       "      <td>61833</td>\n",
       "      <td>US</td>\n",
       "      <td>Generous fruit flavors of strawberry preserves...</td>\n",
       "      <td>Skyraider Reserve</td>\n",
       "      <td>89</td>\n",
       "      <td>60.0</td>\n",
       "      <td>Oregon</td>\n",
       "      <td>Willamette Valley</td>\n",
       "      <td>Willamette Valley</td>\n",
       "      <td>Paul Gregutt</td>\n",
       "      <td>@paulgwine</td>\n",
       "      <td>Vista Hills 2009 Skyraider Reserve Pinot Noir ...</td>\n",
       "      <td>Pinot Noir</td>\n",
       "      <td>Vista Hills</td>\n",
       "    </tr>\n",
       "  </tbody>\n",
       "</table>\n",
       "</div>"
      ],
      "text/plain": [
       "        Unnamed: 0    country  \\\n",
       "109925      109925      Italy   \n",
       "112314      112314     France   \n",
       "104053      104053  Australia   \n",
       "59664        59664         US   \n",
       "61833        61833         US   \n",
       "\n",
       "                                              description        designation  \\\n",
       "109925  Bold and full bodied, this opens with rather s...       Pajè Riserva   \n",
       "112314  Soft notes of earth and gentle red fruit appea...         Collection   \n",
       "104053  It's good to see this Margaret River stalwart ...                DJL   \n",
       "59664   The fruit is thin and herbal, with light hints...                NaN   \n",
       "61833   Generous fruit flavors of strawberry preserves...  Skyraider Reserve   \n",
       "\n",
       "        points  price           province              region_1  \\\n",
       "109925      93   58.0           Piedmont            Barbaresco   \n",
       "112314      86   29.0             Alsace                Alsace   \n",
       "104053      92   20.0  Western Australia        Margaret River   \n",
       "59664       85   17.0         Washington  Columbia Valley (WA)   \n",
       "61833       89   60.0             Oregon     Willamette Valley   \n",
       "\n",
       "                 region_2       taster_name taster_twitter_handle  \\\n",
       "109925                NaN     Kerin O’Keefe          @kerinokeefe   \n",
       "112314                NaN  Anne Krebiehl MW           @AnneInVino   \n",
       "104053                NaN    Joe Czerwinski                @JoeCz   \n",
       "59664     Columbia Valley      Paul Gregutt           @paulgwine    \n",
       "61833   Willamette Valley      Paul Gregutt           @paulgwine    \n",
       "\n",
       "                                                    title     variety  \\\n",
       "109925  Produttori del Barbaresco 2011 Pajè Riserva  (...    Nebbiolo   \n",
       "112314     Kuentz-Bas 2013 Collection Pinot Noir (Alsace)  Pinot Noir   \n",
       "104053        Xanadu 2015 DJL Chardonnay (Margaret River)  Chardonnay   \n",
       "59664          Maryhill 2011 Syrah (Columbia Valley (WA))       Syrah   \n",
       "61833   Vista Hills 2009 Skyraider Reserve Pinot Noir ...  Pinot Noir   \n",
       "\n",
       "                           winery  \n",
       "109925  Produttori del Barbaresco  \n",
       "112314                 Kuentz-Bas  \n",
       "104053                     Xanadu  \n",
       "59664                    Maryhill  \n",
       "61833                 Vista Hills  "
      ]
     },
     "execution_count": 4,
     "metadata": {},
     "output_type": "execute_result"
    }
   ],
   "source": [
    "wine_reviews.sample(5)"
   ]
  },
  {
   "cell_type": "code",
   "execution_count": 5,
   "metadata": {},
   "outputs": [],
   "source": [
    "wine_reviews = wine_reviews.drop(columns=['Unnamed: 0'])"
   ]
  },
  {
   "cell_type": "code",
   "execution_count": 6,
   "metadata": {},
   "outputs": [
    {
     "data": {
      "text/plain": [
       "(119988, 13)"
      ]
     },
     "execution_count": 6,
     "metadata": {},
     "output_type": "execute_result"
    }
   ],
   "source": [
    "wine_reviews = wine_reviews.drop_duplicates()\n",
    "wine_reviews.shape"
   ]
  },
  {
   "cell_type": "markdown",
   "metadata": {},
   "source": [
    "## Points prediction"
   ]
  },
  {
   "cell_type": "markdown",
   "metadata": {},
   "source": [
    "Points is descrete value target. There for we are talking about a prediction (Regression) problem (in contrary to classification problem). Prediction solutions can be measured in few metrics:\n",
    "\n",
    "* MSE - [Mean score error](https://en.wikipedia.org/wiki/Mean_squared_error)\n",
    "* R2 - [R Square](https://en.wikipedia.org/wiki/Coefficient_of_determination)\n",
    "* MAE - [Mean absolut error](https://en.wikipedia.org/wiki/Mean_absolute_error)\n",
    "\n",
    "Read more [here](https://towardsdatascience.com/what-are-the-best-metrics-to-evaluate-your-regression-model-418ca481755b)"
   ]
  },
  {
   "cell_type": "markdown",
   "metadata": {},
   "source": [
    "### Train and test set split"
   ]
  },
  {
   "cell_type": "markdown",
   "metadata": {},
   "source": [
    "To properly report results, let's split to train and test datasets:"
   ]
  },
  {
   "cell_type": "code",
   "execution_count": 7,
   "metadata": {},
   "outputs": [],
   "source": [
    "train_data = wine_reviews.sample(frac = 0.8)\n",
    "test_data = wine_reviews[~wine_reviews.index.isin(train_data.index)]\n",
    "assert(len(train_data) + len(test_data) == len(wine_reviews))"
   ]
  },
  {
   "cell_type": "code",
   "execution_count": 8,
   "metadata": {},
   "outputs": [
    {
     "data": {
      "text/plain": [
       "(23998, 95990)"
      ]
     },
     "execution_count": 8,
     "metadata": {},
     "output_type": "execute_result"
    }
   ],
   "source": [
    "len(test_data), len(train_data)"
   ]
  },
  {
   "cell_type": "markdown",
   "metadata": {},
   "source": [
    "### Baselines"
   ]
  },
  {
   "cell_type": "code",
   "execution_count": 9,
   "metadata": {},
   "outputs": [],
   "source": [
    "from sklearn.metrics import mean_absolute_error, mean_squared_error, r2_score"
   ]
  },
  {
   "cell_type": "code",
   "execution_count": 10,
   "metadata": {},
   "outputs": [],
   "source": [
    "def calc_prediction_quality(df, pred_score_col, true_score_col):\n",
    "    return pd.Series({'MSE': mean_squared_error(df[true_score_col], df[pred_score_col]),\n",
    "                      'MAE': mean_absolute_error(df[true_score_col], df[pred_score_col]),\n",
    "                      'R2': r2_score(df[true_score_col], df[pred_score_col])})"
   ]
  },
  {
   "cell_type": "markdown",
   "metadata": {},
   "source": [
    "#### Baseline 1"
   ]
  },
  {
   "cell_type": "markdown",
   "metadata": {},
   "source": [
    "The most basic baseline is simply the average points. The implementaion is as simple as:"
   ]
  },
  {
   "cell_type": "code",
   "execution_count": 11,
   "metadata": {},
   "outputs": [
    {
     "data": {
      "text/plain": [
       "MSE    9.684853\n",
       "MAE    2.558104\n",
       "R2    -0.000009\n",
       "dtype: float64"
      ]
     },
     "execution_count": 11,
     "metadata": {},
     "output_type": "execute_result"
    }
   ],
   "source": [
    "test_data['baseline_1_predicted_points'] = train_data.points.mean()\n",
    "b1_stats = calc_prediction_quality(test_data, 'baseline_1_predicted_points', 'points')\n",
    "b1_stats"
   ]
  },
  {
   "cell_type": "markdown",
   "metadata": {},
   "source": [
    "#### Basline 2"
   ]
  },
  {
   "cell_type": "markdown",
   "metadata": {},
   "source": [
    "We can probably improve by predicting the average score based on the origin country:"
   ]
  },
  {
   "cell_type": "code",
   "execution_count": 12,
   "metadata": {},
   "outputs": [
    {
     "data": {
      "text/plain": [
       "country\n",
       "Argentina                 86.660191\n",
       "Armenia                   87.000000\n",
       "Australia                 88.538240\n",
       "Austria                   90.134187\n",
       "Bosnia and Herzegovina    86.500000\n",
       "Name: points, dtype: float64"
      ]
     },
     "execution_count": 12,
     "metadata": {},
     "output_type": "execute_result"
    }
   ],
   "source": [
    "avg_points_by_country = train_data.groupby('country').points.mean()\n",
    "avg_points_by_country.head()"
   ]
  },
  {
   "cell_type": "code",
   "execution_count": 13,
   "metadata": {},
   "outputs": [
    {
     "data": {
      "text/plain": [
       "MSE    9.168517\n",
       "MAE    2.481975\n",
       "R2     0.053305\n",
       "dtype: float64"
      ]
     },
     "execution_count": 13,
     "metadata": {},
     "output_type": "execute_result"
    }
   ],
   "source": [
    "test_data['baseline_2_predicted_points'] = test_data.country.map(avg_points_by_country).fillna(train_data.points.mean())\n",
    "b2_stats = calc_prediction_quality(test_data, 'baseline_2_predicted_points', 'points')\n",
    "b2_stats"
   ]
  },
  {
   "cell_type": "markdown",
   "metadata": {},
   "source": [
    "### Baseline 3"
   ]
  },
  {
   "cell_type": "markdown",
   "metadata": {},
   "source": [
    "Adding more breakdowns will increase our granularity but can result in overfitting. Yet:"
   ]
  },
  {
   "cell_type": "code",
   "execution_count": 14,
   "metadata": {},
   "outputs": [
    {
     "data": {
      "text/plain": [
       "country    province        \n",
       "Argentina  Mendoza Province    86.774035\n",
       "           Other               85.962217\n",
       "Armenia    Armenia             87.000000\n",
       "Australia  Australia Other     85.582418\n",
       "           New South Wales     87.803030\n",
       "Name: baseline_3_predicted_points, dtype: float64"
      ]
     },
     "execution_count": 14,
     "metadata": {},
     "output_type": "execute_result"
    }
   ],
   "source": [
    "avg_points_by_country_and_region = train_data.groupby(['country','province']).points.mean().rename('baseline_3_predicted_points')\n",
    "avg_points_by_country_and_region.head()"
   ]
  },
  {
   "cell_type": "code",
   "execution_count": 15,
   "metadata": {},
   "outputs": [
    {
     "data": {
      "text/plain": [
       "((23998, 16), (23998, 15))"
      ]
     },
     "execution_count": 15,
     "metadata": {},
     "output_type": "execute_result"
    }
   ],
   "source": [
    "test_data_with_baseline_3 = test_data.merge(avg_points_by_country_and_region, on = ['country','province'], how='left')\n",
    "test_data_with_baseline_3.baseline_3_predicted_points = test_data_with_baseline_3.baseline_3_predicted_points.fillna(test_data_with_baseline_3.baseline_2_predicted_points).fillna(test_data.baseline_1_predicted_points)\n",
    "test_data_with_baseline_3.shape, test_data.shape"
   ]
  },
  {
   "cell_type": "code",
   "execution_count": 16,
   "metadata": {},
   "outputs": [
    {
     "data": {
      "text/plain": [
       "MSE    8.599106\n",
       "MAE    2.382239\n",
       "R2     0.112099\n",
       "dtype: float64"
      ]
     },
     "execution_count": 16,
     "metadata": {},
     "output_type": "execute_result"
    }
   ],
   "source": [
    "b3_stats = calc_prediction_quality(test_data_with_baseline_3, 'baseline_3_predicted_points', 'points')\n",
    "b3_stats"
   ]
  },
  {
   "cell_type": "markdown",
   "metadata": {},
   "source": [
    "### Baselines summary"
   ]
  },
  {
   "cell_type": "code",
   "execution_count": 17,
   "metadata": {},
   "outputs": [
    {
     "data": {
      "text/html": [
       "<div>\n",
       "<style scoped>\n",
       "    .dataframe tbody tr th:only-of-type {\n",
       "        vertical-align: middle;\n",
       "    }\n",
       "\n",
       "    .dataframe tbody tr th {\n",
       "        vertical-align: top;\n",
       "    }\n",
       "\n",
       "    .dataframe thead th {\n",
       "        text-align: right;\n",
       "    }\n",
       "</style>\n",
       "<table border=\"1\" class=\"dataframe\">\n",
       "  <thead>\n",
       "    <tr style=\"text-align: right;\">\n",
       "      <th></th>\n",
       "      <th>MSE</th>\n",
       "      <th>MAE</th>\n",
       "      <th>R2</th>\n",
       "    </tr>\n",
       "  </thead>\n",
       "  <tbody>\n",
       "    <tr>\n",
       "      <th>baseline_1</th>\n",
       "      <td>9.684853</td>\n",
       "      <td>2.558104</td>\n",
       "      <td>-0.000009</td>\n",
       "    </tr>\n",
       "    <tr>\n",
       "      <th>baseline_2</th>\n",
       "      <td>9.168517</td>\n",
       "      <td>2.481975</td>\n",
       "      <td>0.053305</td>\n",
       "    </tr>\n",
       "    <tr>\n",
       "      <th>baseline_3</th>\n",
       "      <td>8.599106</td>\n",
       "      <td>2.382239</td>\n",
       "      <td>0.112099</td>\n",
       "    </tr>\n",
       "  </tbody>\n",
       "</table>\n",
       "</div>"
      ],
      "text/plain": [
       "                 MSE       MAE        R2\n",
       "baseline_1  9.684853  2.558104 -0.000009\n",
       "baseline_2  9.168517  2.481975  0.053305\n",
       "baseline_3  8.599106  2.382239  0.112099"
      ]
     },
     "execution_count": 17,
     "metadata": {},
     "output_type": "execute_result"
    }
   ],
   "source": [
    "baseline_summary = pd.DataFrame([b1_stats, b2_stats, b3_stats], index=['baseline_1', 'baseline_2','baseline_3'])\n",
    "baseline_summary"
   ]
  },
  {
   "cell_type": "code",
   "execution_count": 18,
   "metadata": {},
   "outputs": [],
   "source": [
    "baseline_summary.to_csv('data/baselines_summary.csv', index=False)"
   ]
  },
  {
   "cell_type": "markdown",
   "metadata": {},
   "source": [
    "## Training a Boosting trees regressor"
   ]
  },
  {
   "cell_type": "code",
   "execution_count": 19,
   "metadata": {},
   "outputs": [],
   "source": [
    "from sklearn.preprocessing import LabelEncoder\n",
    "le = LabelEncoder()"
   ]
  },
  {
   "cell_type": "markdown",
   "metadata": {},
   "source": [
    "#### Preparing data - Label encoding categorical features"
   ]
  },
  {
   "cell_type": "code",
   "execution_count": 20,
   "metadata": {},
   "outputs": [],
   "source": [
    "categorical_features = ['country','province','region_1','region_2','taster_name','variety','winery']\n",
    "numerical_features = ['price']\n",
    "features = categorical_features + numerical_features"
   ]
  },
  {
   "cell_type": "code",
   "execution_count": 21,
   "metadata": {},
   "outputs": [
    {
     "data": {
      "text/html": [
       "<div>\n",
       "<style scoped>\n",
       "    .dataframe tbody tr th:only-of-type {\n",
       "        vertical-align: middle;\n",
       "    }\n",
       "\n",
       "    .dataframe tbody tr th {\n",
       "        vertical-align: top;\n",
       "    }\n",
       "\n",
       "    .dataframe thead th {\n",
       "        text-align: right;\n",
       "    }\n",
       "</style>\n",
       "<table border=\"1\" class=\"dataframe\">\n",
       "  <thead>\n",
       "    <tr style=\"text-align: right;\">\n",
       "      <th></th>\n",
       "      <th>country</th>\n",
       "      <th>province</th>\n",
       "      <th>region_1</th>\n",
       "      <th>region_2</th>\n",
       "      <th>taster_name</th>\n",
       "      <th>variety</th>\n",
       "      <th>winery</th>\n",
       "      <th>price</th>\n",
       "      <th>points</th>\n",
       "    </tr>\n",
       "  </thead>\n",
       "  <tbody>\n",
       "    <tr>\n",
       "      <th>0</th>\n",
       "      <td>22</td>\n",
       "      <td>332</td>\n",
       "      <td>424</td>\n",
       "      <td>6</td>\n",
       "      <td>9</td>\n",
       "      <td>691</td>\n",
       "      <td>11608</td>\n",
       "      <td>-1.0</td>\n",
       "      <td>87</td>\n",
       "    </tr>\n",
       "    <tr>\n",
       "      <th>1</th>\n",
       "      <td>32</td>\n",
       "      <td>108</td>\n",
       "      <td>738</td>\n",
       "      <td>6</td>\n",
       "      <td>16</td>\n",
       "      <td>451</td>\n",
       "      <td>12956</td>\n",
       "      <td>15.0</td>\n",
       "      <td>87</td>\n",
       "    </tr>\n",
       "    <tr>\n",
       "      <th>2</th>\n",
       "      <td>41</td>\n",
       "      <td>269</td>\n",
       "      <td>1218</td>\n",
       "      <td>17</td>\n",
       "      <td>15</td>\n",
       "      <td>437</td>\n",
       "      <td>13018</td>\n",
       "      <td>14.0</td>\n",
       "      <td>87</td>\n",
       "    </tr>\n",
       "    <tr>\n",
       "      <th>3</th>\n",
       "      <td>41</td>\n",
       "      <td>218</td>\n",
       "      <td>549</td>\n",
       "      <td>6</td>\n",
       "      <td>0</td>\n",
       "      <td>480</td>\n",
       "      <td>14390</td>\n",
       "      <td>13.0</td>\n",
       "      <td>87</td>\n",
       "    </tr>\n",
       "    <tr>\n",
       "      <th>4</th>\n",
       "      <td>41</td>\n",
       "      <td>269</td>\n",
       "      <td>1218</td>\n",
       "      <td>17</td>\n",
       "      <td>15</td>\n",
       "      <td>441</td>\n",
       "      <td>14621</td>\n",
       "      <td>65.0</td>\n",
       "      <td>87</td>\n",
       "    </tr>\n",
       "  </tbody>\n",
       "</table>\n",
       "</div>"
      ],
      "text/plain": [
       "   country  province  region_1  region_2  taster_name  variety  winery  price  \\\n",
       "0       22       332       424         6            9      691   11608   -1.0   \n",
       "1       32       108       738         6           16      451   12956   15.0   \n",
       "2       41       269      1218        17           15      437   13018   14.0   \n",
       "3       41       218       549         6            0      480   14390   13.0   \n",
       "4       41       269      1218        17           15      441   14621   65.0   \n",
       "\n",
       "   points  \n",
       "0      87  \n",
       "1      87  \n",
       "2      87  \n",
       "3      87  \n",
       "4      87  "
      ]
     },
     "execution_count": 21,
     "metadata": {},
     "output_type": "execute_result"
    }
   ],
   "source": [
    "encoded_features = wine_reviews[categorical_features].apply(lambda col: le.fit_transform(col.fillna('NA')))\n",
    "encoded_features['price'] = wine_reviews.price.fillna(-1)\n",
    "encoded_features['points'] = wine_reviews.points\n",
    "encoded_features.head()"
   ]
  },
  {
   "cell_type": "markdown",
   "metadata": {},
   "source": [
    "#### Re-splitting to train and test"
   ]
  },
  {
   "cell_type": "code",
   "execution_count": 22,
   "metadata": {},
   "outputs": [],
   "source": [
    "train_encoded_features = encoded_features[encoded_features.index.isin(train_data.index)]\n",
    "test_encoded_features = encoded_features[encoded_features.index.isin(test_data.index)]\n",
    "assert(len(train_encoded_features) + len(test_encoded_features) == len(wine_reviews))"
   ]
  },
  {
   "cell_type": "markdown",
   "metadata": {},
   "source": [
    "#### Fitting a tree-regressor"
   ]
  },
  {
   "cell_type": "code",
   "execution_count": 23,
   "metadata": {},
   "outputs": [],
   "source": [
    "from src.models import i_feel_lucky_xgboost_training"
   ]
  },
  {
   "cell_type": "code",
   "execution_count": 24,
   "metadata": {},
   "outputs": [
    {
     "name": "stdout",
     "output_type": "stream",
     "text": [
      "<class 'pandas.core.frame.DataFrame'>\n",
      "Int64Index: 95990 entries, 0 to 129969\n",
      "Data columns (total 9 columns):\n",
      " #   Column       Non-Null Count  Dtype  \n",
      "---  ------       --------------  -----  \n",
      " 0   country      95990 non-null  int32  \n",
      " 1   province     95990 non-null  int32  \n",
      " 2   region_1     95990 non-null  int32  \n",
      " 3   region_2     95990 non-null  int32  \n",
      " 4   taster_name  95990 non-null  int32  \n",
      " 5   variety      95990 non-null  int32  \n",
      " 6   winery       95990 non-null  int32  \n",
      " 7   price        95990 non-null  float64\n",
      " 8   points       95990 non-null  int64  \n",
      "dtypes: float64(1), int32(7), int64(1)\n",
      "memory usage: 4.8 MB\n"
     ]
    }
   ],
   "source": [
    "train_encoded_features.info()"
   ]
  },
  {
   "cell_type": "code",
   "execution_count": 25,
   "metadata": {},
   "outputs": [],
   "source": [
    "xgb_clf, clf_name = i_feel_lucky_xgboost_training(train_encoded_features, test_encoded_features, features, 'points', name='xgb_clf_points_prediction')"
   ]
  },
  {
   "cell_type": "markdown",
   "metadata": {},
   "source": [
    "Let's look at the function output - specifically the **xgb_clf_points_prediction** column:"
   ]
  },
  {
   "cell_type": "code",
   "execution_count": 26,
   "metadata": {},
   "outputs": [
    {
     "data": {
      "text/html": [
       "<div>\n",
       "<style scoped>\n",
       "    .dataframe tbody tr th:only-of-type {\n",
       "        vertical-align: middle;\n",
       "    }\n",
       "\n",
       "    .dataframe tbody tr th {\n",
       "        vertical-align: top;\n",
       "    }\n",
       "\n",
       "    .dataframe thead th {\n",
       "        text-align: right;\n",
       "    }\n",
       "</style>\n",
       "<table border=\"1\" class=\"dataframe\">\n",
       "  <thead>\n",
       "    <tr style=\"text-align: right;\">\n",
       "      <th></th>\n",
       "      <th>country</th>\n",
       "      <th>province</th>\n",
       "      <th>region_1</th>\n",
       "      <th>region_2</th>\n",
       "      <th>taster_name</th>\n",
       "      <th>variety</th>\n",
       "      <th>winery</th>\n",
       "      <th>price</th>\n",
       "      <th>points</th>\n",
       "      <th>xgb_clf_points_prediction</th>\n",
       "    </tr>\n",
       "  </thead>\n",
       "  <tbody>\n",
       "    <tr>\n",
       "      <th>1</th>\n",
       "      <td>32</td>\n",
       "      <td>108</td>\n",
       "      <td>738</td>\n",
       "      <td>6</td>\n",
       "      <td>16</td>\n",
       "      <td>451</td>\n",
       "      <td>12956</td>\n",
       "      <td>15.0</td>\n",
       "      <td>87</td>\n",
       "      <td>87</td>\n",
       "    </tr>\n",
       "    <tr>\n",
       "      <th>11</th>\n",
       "      <td>15</td>\n",
       "      <td>11</td>\n",
       "      <td>21</td>\n",
       "      <td>6</td>\n",
       "      <td>16</td>\n",
       "      <td>209</td>\n",
       "      <td>9963</td>\n",
       "      <td>30.0</td>\n",
       "      <td>87</td>\n",
       "      <td>88</td>\n",
       "    </tr>\n",
       "    <tr>\n",
       "      <th>15</th>\n",
       "      <td>17</td>\n",
       "      <td>232</td>\n",
       "      <td>738</td>\n",
       "      <td>6</td>\n",
       "      <td>1</td>\n",
       "      <td>480</td>\n",
       "      <td>13236</td>\n",
       "      <td>24.0</td>\n",
       "      <td>87</td>\n",
       "      <td>90</td>\n",
       "    </tr>\n",
       "    <tr>\n",
       "      <th>27</th>\n",
       "      <td>22</td>\n",
       "      <td>332</td>\n",
       "      <td>1063</td>\n",
       "      <td>6</td>\n",
       "      <td>9</td>\n",
       "      <td>389</td>\n",
       "      <td>14472</td>\n",
       "      <td>10.0</td>\n",
       "      <td>87</td>\n",
       "      <td>87</td>\n",
       "    </tr>\n",
       "    <tr>\n",
       "      <th>34</th>\n",
       "      <td>41</td>\n",
       "      <td>51</td>\n",
       "      <td>1019</td>\n",
       "      <td>13</td>\n",
       "      <td>14</td>\n",
       "      <td>515</td>\n",
       "      <td>6957</td>\n",
       "      <td>20.0</td>\n",
       "      <td>86</td>\n",
       "      <td>87</td>\n",
       "    </tr>\n",
       "  </tbody>\n",
       "</table>\n",
       "</div>"
      ],
      "text/plain": [
       "    country  province  region_1  region_2  taster_name  variety  winery  \\\n",
       "1        32       108       738         6           16      451   12956   \n",
       "11       15        11        21         6           16      209    9963   \n",
       "15       17       232       738         6            1      480   13236   \n",
       "27       22       332      1063         6            9      389   14472   \n",
       "34       41        51      1019        13           14      515    6957   \n",
       "\n",
       "    price  points  xgb_clf_points_prediction  \n",
       "1    15.0      87                         87  \n",
       "11   30.0      87                         88  \n",
       "15   24.0      87                         90  \n",
       "27   10.0      87                         87  \n",
       "34   20.0      86                         87  "
      ]
     },
     "execution_count": 26,
     "metadata": {},
     "output_type": "execute_result"
    }
   ],
   "source": [
    "test_encoded_features.head()"
   ]
  },
  {
   "cell_type": "code",
   "execution_count": 27,
   "metadata": {},
   "outputs": [
    {
     "data": {
      "text/plain": [
       "MSE    6.375198\n",
       "MAE    1.912409\n",
       "R2     0.341729\n",
       "dtype: float64"
      ]
     },
     "execution_count": 27,
     "metadata": {},
     "output_type": "execute_result"
    }
   ],
   "source": [
    "xgb_stats = calc_prediction_quality(test_encoded_features, 'xgb_clf_points_prediction','points')\n",
    "xgb_stats"
   ]
  },
  {
   "cell_type": "code",
   "execution_count": 28,
   "metadata": {},
   "outputs": [
    {
     "data": {
      "text/html": [
       "<div>\n",
       "<style scoped>\n",
       "    .dataframe tbody tr th:only-of-type {\n",
       "        vertical-align: middle;\n",
       "    }\n",
       "\n",
       "    .dataframe tbody tr th {\n",
       "        vertical-align: top;\n",
       "    }\n",
       "\n",
       "    .dataframe thead th {\n",
       "        text-align: right;\n",
       "    }\n",
       "</style>\n",
       "<table border=\"1\" class=\"dataframe\">\n",
       "  <thead>\n",
       "    <tr style=\"text-align: right;\">\n",
       "      <th></th>\n",
       "      <th>MSE</th>\n",
       "      <th>MAE</th>\n",
       "      <th>R2</th>\n",
       "    </tr>\n",
       "  </thead>\n",
       "  <tbody>\n",
       "    <tr>\n",
       "      <th>baseline_1</th>\n",
       "      <td>9.684853</td>\n",
       "      <td>2.558104</td>\n",
       "      <td>-0.000009</td>\n",
       "    </tr>\n",
       "    <tr>\n",
       "      <th>baseline_2</th>\n",
       "      <td>9.168517</td>\n",
       "      <td>2.481975</td>\n",
       "      <td>0.053305</td>\n",
       "    </tr>\n",
       "    <tr>\n",
       "      <th>baseline_3</th>\n",
       "      <td>8.599106</td>\n",
       "      <td>2.382239</td>\n",
       "      <td>0.112099</td>\n",
       "    </tr>\n",
       "    <tr>\n",
       "      <th>regression_by_xgb</th>\n",
       "      <td>6.375198</td>\n",
       "      <td>1.912409</td>\n",
       "      <td>0.341729</td>\n",
       "    </tr>\n",
       "  </tbody>\n",
       "</table>\n",
       "</div>"
      ],
      "text/plain": [
       "                        MSE       MAE        R2\n",
       "baseline_1         9.684853  2.558104 -0.000009\n",
       "baseline_2         9.168517  2.481975  0.053305\n",
       "baseline_3         8.599106  2.382239  0.112099\n",
       "regression_by_xgb  6.375198  1.912409  0.341729"
      ]
     },
     "execution_count": 28,
     "metadata": {},
     "output_type": "execute_result"
    }
   ],
   "source": [
    "all_compared = pd.DataFrame([b1_stats, b2_stats, b3_stats, xgb_stats], index=['baseline_1', 'baseline_2','baseline_3','regression_by_xgb'])\n",
    "all_compared"
   ]
  },
  {
   "cell_type": "code",
   "execution_count": 29,
   "metadata": {},
   "outputs": [],
   "source": [
    "all_compared.to_csv('data/all_models_compared.csv', index=False)"
   ]
  },
  {
   "cell_type": "markdown",
   "metadata": {},
   "source": [
    "## Classical NLP approaches"
   ]
  },
  {
   "cell_type": "markdown",
   "metadata": {},
   "source": [
    "### Using only the text from the \"description\" column"
   ]
  },
  {
   "cell_type": "markdown",
   "metadata": {},
   "source": [
    "#### Text tokenization"
   ]
  },
  {
   "cell_type": "code",
   "execution_count": 30,
   "metadata": {},
   "outputs": [
    {
     "name": "stderr",
     "output_type": "stream",
     "text": [
      "[nltk_data] Downloading package stopwords to\n",
      "[nltk_data]     C:\\Users\\omriL\\AppData\\Roaming\\nltk_data...\n",
      "[nltk_data]   Package stopwords is already up-to-date!\n",
      "[nltk_data] Downloading package punkt to\n",
      "[nltk_data]     C:\\Users\\omriL\\AppData\\Roaming\\nltk_data...\n",
      "[nltk_data]   Package punkt is already up-to-date!\n",
      "[nltk_data] Downloading package averaged_perceptron_tagger to\n",
      "[nltk_data]     C:\\Users\\omriL\\AppData\\Roaming\\nltk_data...\n",
      "[nltk_data]   Package averaged_perceptron_tagger is already up-to-\n",
      "[nltk_data]       date!\n"
     ]
    },
    {
     "data": {
      "text/plain": [
       "True"
      ]
     },
     "execution_count": 30,
     "metadata": {},
     "output_type": "execute_result"
    }
   ],
   "source": [
    "import nltk\n",
    "nltk.download('stopwords')\n",
    "nltk.download('punkt')\n",
    "nltk.download('averaged_perceptron_tagger')"
   ]
  },
  {
   "cell_type": "code",
   "execution_count": 31,
   "metadata": {},
   "outputs": [
    {
     "data": {
      "text/html": [
       "        <script type=\"text/javascript\">\n",
       "        window.PlotlyConfig = {MathJaxConfig: 'local'};\n",
       "        if (window.MathJax) {MathJax.Hub.Config({SVG: {font: \"STIX-Web\"}});}\n",
       "        if (typeof require !== 'undefined') {\n",
       "        require.undef(\"plotly\");\n",
       "        requirejs.config({\n",
       "            paths: {\n",
       "                'plotly': ['https://cdn.plot.ly/plotly-2.9.0.min']\n",
       "            }\n",
       "        });\n",
       "        require(['plotly'], function(Plotly) {\n",
       "            window._Plotly = Plotly;\n",
       "        });\n",
       "        }\n",
       "        </script>\n",
       "        "
      ]
     },
     "metadata": {},
     "output_type": "display_data"
    }
   ],
   "source": [
    "from pandas import * \n",
    "import cufflinks as cf; cf.go_offline()"
   ]
  },
  {
   "cell_type": "code",
   "execution_count": 32,
   "metadata": {},
   "outputs": [],
   "source": [
    "set_option('display.max_colwidth',200)"
   ]
  },
  {
   "cell_type": "code",
   "execution_count": 33,
   "metadata": {},
   "outputs": [
    {
     "data": {
      "text/html": [
       "<div>\n",
       "<style scoped>\n",
       "    .dataframe tbody tr th:only-of-type {\n",
       "        vertical-align: middle;\n",
       "    }\n",
       "\n",
       "    .dataframe tbody tr th {\n",
       "        vertical-align: top;\n",
       "    }\n",
       "\n",
       "    .dataframe thead th {\n",
       "        text-align: right;\n",
       "    }\n",
       "</style>\n",
       "<table border=\"1\" class=\"dataframe\">\n",
       "  <thead>\n",
       "    <tr style=\"text-align: right;\">\n",
       "      <th></th>\n",
       "      <th>country</th>\n",
       "      <th>description</th>\n",
       "      <th>designation</th>\n",
       "      <th>points</th>\n",
       "      <th>price</th>\n",
       "      <th>province</th>\n",
       "      <th>region_1</th>\n",
       "      <th>region_2</th>\n",
       "      <th>taster_name</th>\n",
       "      <th>taster_twitter_handle</th>\n",
       "      <th>title</th>\n",
       "      <th>variety</th>\n",
       "      <th>winery</th>\n",
       "    </tr>\n",
       "  </thead>\n",
       "  <tbody>\n",
       "    <tr>\n",
       "      <th>0</th>\n",
       "      <td>Italy</td>\n",
       "      <td>Aromas include tropical fruit, broom, brimstone and dried herb. The palate isn't overly expressive, offering unripened apple, citrus and dried sage alongside brisk acidity.</td>\n",
       "      <td>Vulkà Bianco</td>\n",
       "      <td>87</td>\n",
       "      <td>NaN</td>\n",
       "      <td>Sicily &amp; Sardinia</td>\n",
       "      <td>Etna</td>\n",
       "      <td>NaN</td>\n",
       "      <td>Kerin O’Keefe</td>\n",
       "      <td>@kerinokeefe</td>\n",
       "      <td>Nicosia 2013 Vulkà Bianco  (Etna)</td>\n",
       "      <td>White Blend</td>\n",
       "      <td>Nicosia</td>\n",
       "    </tr>\n",
       "  </tbody>\n",
       "</table>\n",
       "</div>"
      ],
      "text/plain": [
       "  country  \\\n",
       "0   Italy   \n",
       "\n",
       "                                                                                                                                                                    description  \\\n",
       "0  Aromas include tropical fruit, broom, brimstone and dried herb. The palate isn't overly expressive, offering unripened apple, citrus and dried sage alongside brisk acidity.   \n",
       "\n",
       "    designation  points  price           province region_1 region_2  \\\n",
       "0  Vulkà Bianco      87    NaN  Sicily & Sardinia     Etna      NaN   \n",
       "\n",
       "     taster_name taster_twitter_handle                              title  \\\n",
       "0  Kerin O’Keefe          @kerinokeefe  Nicosia 2013 Vulkà Bianco  (Etna)   \n",
       "\n",
       "       variety   winery  \n",
       "0  White Blend  Nicosia  "
      ]
     },
     "execution_count": 33,
     "metadata": {},
     "output_type": "execute_result"
    }
   ],
   "source": [
    "wine_reviews.head(1)"
   ]
  },
  {
   "cell_type": "code",
   "execution_count": 34,
   "metadata": {},
   "outputs": [
    {
     "name": "stdout",
     "output_type": "stream",
     "text": [
      "Requirement already satisfied: ttp in c:\\users\\omril\\anaconda3\\lib\\site-packages (0.8.4)\n"
     ]
    }
   ],
   "source": [
    "!pip install ttp"
   ]
  },
  {
   "cell_type": "code",
   "execution_count": 35,
   "metadata": {},
   "outputs": [
    {
     "name": "stdout",
     "output_type": "stream",
     "text": [
      "Requirement already satisfied: emoji in c:\\users\\omril\\anaconda3\\lib\\site-packages (1.7.0)\n"
     ]
    }
   ],
   "source": [
    "!pip install emoji"
   ]
  },
  {
   "cell_type": "code",
   "execution_count": 36,
   "metadata": {},
   "outputs": [],
   "source": [
    "import string\n",
    "import emoji\n",
    "import re as regex"
   ]
  },
  {
   "cell_type": "code",
   "execution_count": 37,
   "metadata": {},
   "outputs": [],
   "source": [
    "specialChars = ''.join([\",\", \":\", \"\\\"\", \"=\", \"&\", \";\", \"%\", \"$\",\"@\", \"%\", \"^\", \"*\", \"(\", \")\", \"{\", \"}\",'–','“', '”'\n",
    "                      \"[\", \"]\", \"|\", \"/\", \"\\\\\", \">\", \"<\", \"-\",\"!\", \"?\", \".\", \"'\",\"--\", \"---\", \"#\", '‘', '’', '…'])  \n",
    "space_chars = ['.',',',';', '&', '?','!']\n",
    "def remove_by_regex(description, regexp):\n",
    "    return description.replace(regexp, \"\")\n",
    "\n",
    "def remove_urls(description):\n",
    "    return remove_by_regex(description, regex.compile(r\"http\\S+\"))\n",
    "\n",
    "def remove_special_chars(description): \n",
    "    return description.apply(lambda desc: ''.join([c for c in desc if c not in specialChars]))\n",
    "\n",
    "def remove_usernames(description):\n",
    "    return remove_by_regex(description, regex.compile(r\"@[^\\s]+[\\s]?\"))\n",
    "\n",
    "def remove_numbers(description):\n",
    "    return remove_by_regex(description, regex.compile(r\"\\s?[0-9]+\\.?[0-9]*\"))\n",
    "\n",
    "def remove_emojis(description):\n",
    "    return description.apply(lambda desc: ''.join(c for c in desc if c not in emoji.UNICODE_EMOJI))\n",
    "\n",
    "def add_spaces(descriptions):\n",
    "    def add_spaces_int(description):\n",
    "        for char in space_chars:\n",
    "            description = description.replace(char, char + ' ')\n",
    "        return description\n",
    "    return descriptions.apply(lambda desc: add_spaces_int(desc))\n",
    "\n",
    "def leave_language_only(descriptions):\n",
    "    for f in [remove_urls, remove_emojis, add_spaces, remove_numbers, remove_usernames, remove_special_chars]:\n",
    "        descriptions = f(descriptions)\n",
    "    return descriptions"
   ]
  },
  {
   "cell_type": "markdown",
   "metadata": {},
   "source": [
    "Generating df - a DataFrame with the original 'description' and 'points' variables and a new 'pureTextDescription' variable which will be used for Tokenization. "
   ]
  },
  {
   "cell_type": "code",
   "execution_count": 38,
   "metadata": {},
   "outputs": [],
   "source": [
    "df = DataFrame(wine_reviews['description'])\n",
    "df['y'] = wine_reviews['points']"
   ]
  },
  {
   "cell_type": "code",
   "execution_count": 39,
   "metadata": {},
   "outputs": [
    {
     "name": "stdout",
     "output_type": "stream",
     "text": [
      "<class 'pandas.core.frame.DataFrame'>\n",
      "Int64Index: 119988 entries, 0 to 129970\n",
      "Data columns (total 3 columns):\n",
      " #   Column               Non-Null Count   Dtype \n",
      "---  ------               --------------   ----- \n",
      " 0   description          119988 non-null  object\n",
      " 1   y                    119988 non-null  int64 \n",
      " 2   pureTextDescription  119988 non-null  object\n",
      "dtypes: int64(1), object(2)\n",
      "memory usage: 3.7+ MB\n"
     ]
    }
   ],
   "source": [
    "df['pureTextDescription'] = leave_language_only(df.description.str.lower())\n",
    "df.info()"
   ]
  },
  {
   "cell_type": "code",
   "execution_count": 40,
   "metadata": {},
   "outputs": [
    {
     "data": {
      "text/plain": [
       "['i', 'me', 'my', 'myself', 'we']"
      ]
     },
     "execution_count": 40,
     "metadata": {},
     "output_type": "execute_result"
    }
   ],
   "source": [
    "stopwords=nltk.corpus.stopwords.words(\"english\") + nltk.corpus.stopwords.words(\"italian\") + nltk.corpus.stopwords.words(\"spanish\")\n",
    "stopwords[:5]"
   ]
  },
  {
   "cell_type": "code",
   "execution_count": 41,
   "metadata": {},
   "outputs": [
    {
     "data": {
      "text/plain": [
       "['aromas',\n",
       " 'include',\n",
       " 'tropical',\n",
       " 'fruit',\n",
       " 'broom',\n",
       " 'brimstone',\n",
       " 'and',\n",
       " 'dried',\n",
       " 'herb',\n",
       " 'the',\n",
       " 'palate',\n",
       " 'isnt',\n",
       " 'overly',\n",
       " 'expressive',\n",
       " 'offering',\n",
       " 'unripened',\n",
       " 'apple',\n",
       " 'citrus',\n",
       " 'and',\n",
       " 'dried',\n",
       " 'sage',\n",
       " 'alongside',\n",
       " 'brisk',\n",
       " 'acidity']"
      ]
     },
     "execution_count": 41,
     "metadata": {},
     "output_type": "execute_result"
    }
   ],
   "source": [
    "nltk.word_tokenize(df.pureTextDescription.iloc[0])"
   ]
  },
  {
   "cell_type": "markdown",
   "metadata": {},
   "source": [
    "Tokenizing the dataset text using the pureTextDescription feature:"
   ]
  },
  {
   "cell_type": "code",
   "execution_count": 42,
   "metadata": {},
   "outputs": [
    {
     "data": {
      "text/html": [
       "<div>\n",
       "<style scoped>\n",
       "    .dataframe tbody tr th:only-of-type {\n",
       "        vertical-align: middle;\n",
       "    }\n",
       "\n",
       "    .dataframe tbody tr th {\n",
       "        vertical-align: top;\n",
       "    }\n",
       "\n",
       "    .dataframe thead th {\n",
       "        text-align: right;\n",
       "    }\n",
       "</style>\n",
       "<table border=\"1\" class=\"dataframe\">\n",
       "  <thead>\n",
       "    <tr style=\"text-align: right;\">\n",
       "      <th></th>\n",
       "      <th>word</th>\n",
       "      <th>wordCount</th>\n",
       "      <th>wordImportance</th>\n",
       "    </tr>\n",
       "  </thead>\n",
       "  <tbody>\n",
       "    <tr>\n",
       "      <th>0</th>\n",
       "      <td>wine</td>\n",
       "      <td>72157</td>\n",
       "      <td>0.000009</td>\n",
       "    </tr>\n",
       "    <tr>\n",
       "      <th>1</th>\n",
       "      <td>flavors</td>\n",
       "      <td>57958</td>\n",
       "      <td>0.000011</td>\n",
       "    </tr>\n",
       "    <tr>\n",
       "      <th>2</th>\n",
       "      <td>fruit</td>\n",
       "      <td>41575</td>\n",
       "      <td>0.000015</td>\n",
       "    </tr>\n",
       "    <tr>\n",
       "      <th>3</th>\n",
       "      <td>aromas</td>\n",
       "      <td>36242</td>\n",
       "      <td>0.000017</td>\n",
       "    </tr>\n",
       "    <tr>\n",
       "      <th>4</th>\n",
       "      <td>palate</td>\n",
       "      <td>34726</td>\n",
       "      <td>0.000018</td>\n",
       "    </tr>\n",
       "  </tbody>\n",
       "</table>\n",
       "</div>"
      ],
      "text/plain": [
       "      word  wordCount  wordImportance\n",
       "0     wine      72157        0.000009\n",
       "1  flavors      57958        0.000011\n",
       "2    fruit      41575        0.000015\n",
       "3   aromas      36242        0.000017\n",
       "4   palate      34726        0.000018"
      ]
     },
     "execution_count": 42,
     "metadata": {},
     "output_type": "execute_result"
    }
   ],
   "source": [
    "all_words = [word for desc in df.pureTextDescription for word in nltk.word_tokenize(desc) if word.lower() not in stopwords] # Words without stop words\n",
    "words_df = DataFrame(data = all_words, columns = ['word']).word.value_counts().reset_index()\n",
    "words_df.columns = ['word','wordCount']\n",
    "words_df['wordImportance'] = len(words_df) / words_df.wordCount / words_df.wordCount.max()\n",
    "words_df.head()"
   ]
  },
  {
   "cell_type": "code",
   "execution_count": 43,
   "metadata": {},
   "outputs": [
    {
     "data": {
      "application/vnd.plotly.v1+json": {
       "config": {
        "linkText": "Export to plot.ly",
        "plotlyServerURL": "https://plot.ly",
        "showLink": true
       },
       "data": [
        {
         "marker": {
          "color": "rgba(255, 153, 51, 0.6)",
          "line": {
           "color": "rgba(255, 153, 51, 1.0)",
           "width": 1
          }
         },
         "name": "wordCount",
         "orientation": "v",
         "text": "",
         "type": "bar",
         "x": [
          "wine",
          "flavors",
          "fruit",
          "aromas",
          "palate",
          "finish",
          "acidity",
          "tannins",
          "drink",
          "cherry",
          "ripe",
          "black",
          "notes",
          "red",
          "spice",
          "rich",
          "fresh",
          "nose",
          "oak",
          "dry"
         ],
         "y": [
          72157,
          57958,
          41575,
          36242,
          34726,
          32126,
          32104,
          28443,
          27543,
          25145,
          24769,
          23358,
          17456,
          17328,
          17315,
          16050,
          15527,
          15477,
          15391,
          14313
         ]
        }
       ],
       "layout": {
        "autosize": true,
        "legend": {
         "bgcolor": "#F5F6F9",
         "font": {
          "color": "#4D5663"
         }
        },
        "paper_bgcolor": "#F5F6F9",
        "plot_bgcolor": "#F5F6F9",
        "template": {
         "data": {
          "bar": [
           {
            "error_x": {
             "color": "#2a3f5f"
            },
            "error_y": {
             "color": "#2a3f5f"
            },
            "marker": {
             "line": {
              "color": "#E5ECF6",
              "width": 0.5
             },
             "pattern": {
              "fillmode": "overlay",
              "size": 10,
              "solidity": 0.2
             }
            },
            "type": "bar"
           }
          ],
          "barpolar": [
           {
            "marker": {
             "line": {
              "color": "#E5ECF6",
              "width": 0.5
             },
             "pattern": {
              "fillmode": "overlay",
              "size": 10,
              "solidity": 0.2
             }
            },
            "type": "barpolar"
           }
          ],
          "carpet": [
           {
            "aaxis": {
             "endlinecolor": "#2a3f5f",
             "gridcolor": "white",
             "linecolor": "white",
             "minorgridcolor": "white",
             "startlinecolor": "#2a3f5f"
            },
            "baxis": {
             "endlinecolor": "#2a3f5f",
             "gridcolor": "white",
             "linecolor": "white",
             "minorgridcolor": "white",
             "startlinecolor": "#2a3f5f"
            },
            "type": "carpet"
           }
          ],
          "choropleth": [
           {
            "colorbar": {
             "outlinewidth": 0,
             "ticks": ""
            },
            "type": "choropleth"
           }
          ],
          "contour": [
           {
            "colorbar": {
             "outlinewidth": 0,
             "ticks": ""
            },
            "colorscale": [
             [
              0,
              "#0d0887"
             ],
             [
              0.1111111111111111,
              "#46039f"
             ],
             [
              0.2222222222222222,
              "#7201a8"
             ],
             [
              0.3333333333333333,
              "#9c179e"
             ],
             [
              0.4444444444444444,
              "#bd3786"
             ],
             [
              0.5555555555555556,
              "#d8576b"
             ],
             [
              0.6666666666666666,
              "#ed7953"
             ],
             [
              0.7777777777777778,
              "#fb9f3a"
             ],
             [
              0.8888888888888888,
              "#fdca26"
             ],
             [
              1,
              "#f0f921"
             ]
            ],
            "type": "contour"
           }
          ],
          "contourcarpet": [
           {
            "colorbar": {
             "outlinewidth": 0,
             "ticks": ""
            },
            "type": "contourcarpet"
           }
          ],
          "heatmap": [
           {
            "colorbar": {
             "outlinewidth": 0,
             "ticks": ""
            },
            "colorscale": [
             [
              0,
              "#0d0887"
             ],
             [
              0.1111111111111111,
              "#46039f"
             ],
             [
              0.2222222222222222,
              "#7201a8"
             ],
             [
              0.3333333333333333,
              "#9c179e"
             ],
             [
              0.4444444444444444,
              "#bd3786"
             ],
             [
              0.5555555555555556,
              "#d8576b"
             ],
             [
              0.6666666666666666,
              "#ed7953"
             ],
             [
              0.7777777777777778,
              "#fb9f3a"
             ],
             [
              0.8888888888888888,
              "#fdca26"
             ],
             [
              1,
              "#f0f921"
             ]
            ],
            "type": "heatmap"
           }
          ],
          "heatmapgl": [
           {
            "colorbar": {
             "outlinewidth": 0,
             "ticks": ""
            },
            "colorscale": [
             [
              0,
              "#0d0887"
             ],
             [
              0.1111111111111111,
              "#46039f"
             ],
             [
              0.2222222222222222,
              "#7201a8"
             ],
             [
              0.3333333333333333,
              "#9c179e"
             ],
             [
              0.4444444444444444,
              "#bd3786"
             ],
             [
              0.5555555555555556,
              "#d8576b"
             ],
             [
              0.6666666666666666,
              "#ed7953"
             ],
             [
              0.7777777777777778,
              "#fb9f3a"
             ],
             [
              0.8888888888888888,
              "#fdca26"
             ],
             [
              1,
              "#f0f921"
             ]
            ],
            "type": "heatmapgl"
           }
          ],
          "histogram": [
           {
            "marker": {
             "pattern": {
              "fillmode": "overlay",
              "size": 10,
              "solidity": 0.2
             }
            },
            "type": "histogram"
           }
          ],
          "histogram2d": [
           {
            "colorbar": {
             "outlinewidth": 0,
             "ticks": ""
            },
            "colorscale": [
             [
              0,
              "#0d0887"
             ],
             [
              0.1111111111111111,
              "#46039f"
             ],
             [
              0.2222222222222222,
              "#7201a8"
             ],
             [
              0.3333333333333333,
              "#9c179e"
             ],
             [
              0.4444444444444444,
              "#bd3786"
             ],
             [
              0.5555555555555556,
              "#d8576b"
             ],
             [
              0.6666666666666666,
              "#ed7953"
             ],
             [
              0.7777777777777778,
              "#fb9f3a"
             ],
             [
              0.8888888888888888,
              "#fdca26"
             ],
             [
              1,
              "#f0f921"
             ]
            ],
            "type": "histogram2d"
           }
          ],
          "histogram2dcontour": [
           {
            "colorbar": {
             "outlinewidth": 0,
             "ticks": ""
            },
            "colorscale": [
             [
              0,
              "#0d0887"
             ],
             [
              0.1111111111111111,
              "#46039f"
             ],
             [
              0.2222222222222222,
              "#7201a8"
             ],
             [
              0.3333333333333333,
              "#9c179e"
             ],
             [
              0.4444444444444444,
              "#bd3786"
             ],
             [
              0.5555555555555556,
              "#d8576b"
             ],
             [
              0.6666666666666666,
              "#ed7953"
             ],
             [
              0.7777777777777778,
              "#fb9f3a"
             ],
             [
              0.8888888888888888,
              "#fdca26"
             ],
             [
              1,
              "#f0f921"
             ]
            ],
            "type": "histogram2dcontour"
           }
          ],
          "mesh3d": [
           {
            "colorbar": {
             "outlinewidth": 0,
             "ticks": ""
            },
            "type": "mesh3d"
           }
          ],
          "parcoords": [
           {
            "line": {
             "colorbar": {
              "outlinewidth": 0,
              "ticks": ""
             }
            },
            "type": "parcoords"
           }
          ],
          "pie": [
           {
            "automargin": true,
            "type": "pie"
           }
          ],
          "scatter": [
           {
            "marker": {
             "colorbar": {
              "outlinewidth": 0,
              "ticks": ""
             }
            },
            "type": "scatter"
           }
          ],
          "scatter3d": [
           {
            "line": {
             "colorbar": {
              "outlinewidth": 0,
              "ticks": ""
             }
            },
            "marker": {
             "colorbar": {
              "outlinewidth": 0,
              "ticks": ""
             }
            },
            "type": "scatter3d"
           }
          ],
          "scattercarpet": [
           {
            "marker": {
             "colorbar": {
              "outlinewidth": 0,
              "ticks": ""
             }
            },
            "type": "scattercarpet"
           }
          ],
          "scattergeo": [
           {
            "marker": {
             "colorbar": {
              "outlinewidth": 0,
              "ticks": ""
             }
            },
            "type": "scattergeo"
           }
          ],
          "scattergl": [
           {
            "marker": {
             "colorbar": {
              "outlinewidth": 0,
              "ticks": ""
             }
            },
            "type": "scattergl"
           }
          ],
          "scattermapbox": [
           {
            "marker": {
             "colorbar": {
              "outlinewidth": 0,
              "ticks": ""
             }
            },
            "type": "scattermapbox"
           }
          ],
          "scatterpolar": [
           {
            "marker": {
             "colorbar": {
              "outlinewidth": 0,
              "ticks": ""
             }
            },
            "type": "scatterpolar"
           }
          ],
          "scatterpolargl": [
           {
            "marker": {
             "colorbar": {
              "outlinewidth": 0,
              "ticks": ""
             }
            },
            "type": "scatterpolargl"
           }
          ],
          "scatterternary": [
           {
            "marker": {
             "colorbar": {
              "outlinewidth": 0,
              "ticks": ""
             }
            },
            "type": "scatterternary"
           }
          ],
          "surface": [
           {
            "colorbar": {
             "outlinewidth": 0,
             "ticks": ""
            },
            "colorscale": [
             [
              0,
              "#0d0887"
             ],
             [
              0.1111111111111111,
              "#46039f"
             ],
             [
              0.2222222222222222,
              "#7201a8"
             ],
             [
              0.3333333333333333,
              "#9c179e"
             ],
             [
              0.4444444444444444,
              "#bd3786"
             ],
             [
              0.5555555555555556,
              "#d8576b"
             ],
             [
              0.6666666666666666,
              "#ed7953"
             ],
             [
              0.7777777777777778,
              "#fb9f3a"
             ],
             [
              0.8888888888888888,
              "#fdca26"
             ],
             [
              1,
              "#f0f921"
             ]
            ],
            "type": "surface"
           }
          ],
          "table": [
           {
            "cells": {
             "fill": {
              "color": "#EBF0F8"
             },
             "line": {
              "color": "white"
             }
            },
            "header": {
             "fill": {
              "color": "#C8D4E3"
             },
             "line": {
              "color": "white"
             }
            },
            "type": "table"
           }
          ]
         },
         "layout": {
          "annotationdefaults": {
           "arrowcolor": "#2a3f5f",
           "arrowhead": 0,
           "arrowwidth": 1
          },
          "autotypenumbers": "strict",
          "coloraxis": {
           "colorbar": {
            "outlinewidth": 0,
            "ticks": ""
           }
          },
          "colorscale": {
           "diverging": [
            [
             0,
             "#8e0152"
            ],
            [
             0.1,
             "#c51b7d"
            ],
            [
             0.2,
             "#de77ae"
            ],
            [
             0.3,
             "#f1b6da"
            ],
            [
             0.4,
             "#fde0ef"
            ],
            [
             0.5,
             "#f7f7f7"
            ],
            [
             0.6,
             "#e6f5d0"
            ],
            [
             0.7,
             "#b8e186"
            ],
            [
             0.8,
             "#7fbc41"
            ],
            [
             0.9,
             "#4d9221"
            ],
            [
             1,
             "#276419"
            ]
           ],
           "sequential": [
            [
             0,
             "#0d0887"
            ],
            [
             0.1111111111111111,
             "#46039f"
            ],
            [
             0.2222222222222222,
             "#7201a8"
            ],
            [
             0.3333333333333333,
             "#9c179e"
            ],
            [
             0.4444444444444444,
             "#bd3786"
            ],
            [
             0.5555555555555556,
             "#d8576b"
            ],
            [
             0.6666666666666666,
             "#ed7953"
            ],
            [
             0.7777777777777778,
             "#fb9f3a"
            ],
            [
             0.8888888888888888,
             "#fdca26"
            ],
            [
             1,
             "#f0f921"
            ]
           ],
           "sequentialminus": [
            [
             0,
             "#0d0887"
            ],
            [
             0.1111111111111111,
             "#46039f"
            ],
            [
             0.2222222222222222,
             "#7201a8"
            ],
            [
             0.3333333333333333,
             "#9c179e"
            ],
            [
             0.4444444444444444,
             "#bd3786"
            ],
            [
             0.5555555555555556,
             "#d8576b"
            ],
            [
             0.6666666666666666,
             "#ed7953"
            ],
            [
             0.7777777777777778,
             "#fb9f3a"
            ],
            [
             0.8888888888888888,
             "#fdca26"
            ],
            [
             1,
             "#f0f921"
            ]
           ]
          },
          "colorway": [
           "#636efa",
           "#EF553B",
           "#00cc96",
           "#ab63fa",
           "#FFA15A",
           "#19d3f3",
           "#FF6692",
           "#B6E880",
           "#FF97FF",
           "#FECB52"
          ],
          "font": {
           "color": "#2a3f5f"
          },
          "geo": {
           "bgcolor": "white",
           "lakecolor": "white",
           "landcolor": "#E5ECF6",
           "showlakes": true,
           "showland": true,
           "subunitcolor": "white"
          },
          "hoverlabel": {
           "align": "left"
          },
          "hovermode": "closest",
          "mapbox": {
           "style": "light"
          },
          "paper_bgcolor": "white",
          "plot_bgcolor": "#E5ECF6",
          "polar": {
           "angularaxis": {
            "gridcolor": "white",
            "linecolor": "white",
            "ticks": ""
           },
           "bgcolor": "#E5ECF6",
           "radialaxis": {
            "gridcolor": "white",
            "linecolor": "white",
            "ticks": ""
           }
          },
          "scene": {
           "xaxis": {
            "backgroundcolor": "#E5ECF6",
            "gridcolor": "white",
            "gridwidth": 2,
            "linecolor": "white",
            "showbackground": true,
            "ticks": "",
            "zerolinecolor": "white"
           },
           "yaxis": {
            "backgroundcolor": "#E5ECF6",
            "gridcolor": "white",
            "gridwidth": 2,
            "linecolor": "white",
            "showbackground": true,
            "ticks": "",
            "zerolinecolor": "white"
           },
           "zaxis": {
            "backgroundcolor": "#E5ECF6",
            "gridcolor": "white",
            "gridwidth": 2,
            "linecolor": "white",
            "showbackground": true,
            "ticks": "",
            "zerolinecolor": "white"
           }
          },
          "shapedefaults": {
           "line": {
            "color": "#2a3f5f"
           }
          },
          "ternary": {
           "aaxis": {
            "gridcolor": "white",
            "linecolor": "white",
            "ticks": ""
           },
           "baxis": {
            "gridcolor": "white",
            "linecolor": "white",
            "ticks": ""
           },
           "bgcolor": "#E5ECF6",
           "caxis": {
            "gridcolor": "white",
            "linecolor": "white",
            "ticks": ""
           }
          },
          "title": {
           "x": 0.05
          },
          "xaxis": {
           "automargin": true,
           "gridcolor": "white",
           "linecolor": "white",
           "ticks": "",
           "title": {
            "standoff": 15
           },
           "zerolinecolor": "white",
           "zerolinewidth": 2
          },
          "yaxis": {
           "automargin": true,
           "gridcolor": "white",
           "linecolor": "white",
           "ticks": "",
           "title": {
            "standoff": 15
           },
           "zerolinecolor": "white",
           "zerolinewidth": 2
          }
         }
        },
        "title": {
         "font": {
          "color": "#4D5663"
         },
         "text": "Most frequent words in Corpus"
        },
        "xaxis": {
         "autorange": true,
         "gridcolor": "#E1E5ED",
         "range": [
          -0.5,
          19.5
         ],
         "showgrid": true,
         "tickfont": {
          "color": "#4D5663"
         },
         "title": {
          "font": {
           "color": "#4D5663"
          },
          "text": "Word"
         },
         "type": "category",
         "zerolinecolor": "#E1E5ED"
        },
        "yaxis": {
         "autorange": true,
         "gridcolor": "#E1E5ED",
         "range": [
          0,
          75954.73684210527
         ],
         "showgrid": true,
         "tickfont": {
          "color": "#4D5663"
         },
         "title": {
          "font": {
           "color": "#4D5663"
          },
          "text": "Count"
         },
         "type": "linear",
         "zerolinecolor": "#E1E5ED"
        }
       }
      },
      "image/png": "[encoded data removed]",
      "text/html": [
       "<div>                            <div id=\"bf4fc84a-d8b5-4644-8093-a420bf7362af\" class=\"plotly-graph-div\" style=\"height:525px; width:100%;\"></div>            <script type=\"text/javascript\">                require([\"plotly\"], function(Plotly) {                    window.PLOTLYENV=window.PLOTLYENV || {};\n",
       "                    window.PLOTLYENV.BASE_URL='https://plot.ly';                                    if (document.getElementById(\"bf4fc84a-d8b5-4644-8093-a420bf7362af\")) {                    Plotly.newPlot(                        \"bf4fc84a-d8b5-4644-8093-a420bf7362af\",                        [{\"marker\":{\"color\":\"rgba(255, 153, 51, 0.6)\",\"line\":{\"color\":\"rgba(255, 153, 51, 1.0)\",\"width\":1}},\"name\":\"wordCount\",\"orientation\":\"v\",\"text\":\"\",\"x\":[\"wine\",\"flavors\",\"fruit\",\"aromas\",\"palate\",\"finish\",\"acidity\",\"tannins\",\"drink\",\"cherry\",\"ripe\",\"black\",\"notes\",\"red\",\"spice\",\"rich\",\"fresh\",\"nose\",\"oak\",\"dry\"],\"y\":[72157,57958,41575,36242,34726,32126,32104,28443,27543,25145,24769,23358,17456,17328,17315,16050,15527,15477,15391,14313],\"type\":\"bar\"}],                        {\"legend\":{\"bgcolor\":\"#F5F6F9\",\"font\":{\"color\":\"#4D5663\"}},\"paper_bgcolor\":\"#F5F6F9\",\"plot_bgcolor\":\"#F5F6F9\",\"template\":{\"data\":{\"barpolar\":[{\"marker\":{\"line\":{\"color\":\"#E5ECF6\",\"width\":0.5},\"pattern\":{\"fillmode\":\"overlay\",\"size\":10,\"solidity\":0.2}},\"type\":\"barpolar\"}],\"bar\":[{\"error_x\":{\"color\":\"#2a3f5f\"},\"error_y\":{\"color\":\"#2a3f5f\"},\"marker\":{\"line\":{\"color\":\"#E5ECF6\",\"width\":0.5},\"pattern\":{\"fillmode\":\"overlay\",\"size\":10,\"solidity\":0.2}},\"type\":\"bar\"}],\"carpet\":[{\"aaxis\":{\"endlinecolor\":\"#2a3f5f\",\"gridcolor\":\"white\",\"linecolor\":\"white\",\"minorgridcolor\":\"white\",\"startlinecolor\":\"#2a3f5f\"},\"baxis\":{\"endlinecolor\":\"#2a3f5f\",\"gridcolor\":\"white\",\"linecolor\":\"white\",\"minorgridcolor\":\"white\",\"startlinecolor\":\"#2a3f5f\"},\"type\":\"carpet\"}],\"choropleth\":[{\"colorbar\":{\"outlinewidth\":0,\"ticks\":\"\"},\"type\":\"choropleth\"}],\"contourcarpet\":[{\"colorbar\":{\"outlinewidth\":0,\"ticks\":\"\"},\"type\":\"contourcarpet\"}],\"contour\":[{\"colorbar\":{\"outlinewidth\":0,\"ticks\":\"\"},\"colorscale\":[[0.0,\"#0d0887\"],[0.1111111111111111,\"#46039f\"],[0.2222222222222222,\"#7201a8\"],[0.3333333333333333,\"#9c179e\"],[0.4444444444444444,\"#bd3786\"],[0.5555555555555556,\"#d8576b\"],[0.6666666666666666,\"#ed7953\"],[0.7777777777777778,\"#fb9f3a\"],[0.8888888888888888,\"#fdca26\"],[1.0,\"#f0f921\"]],\"type\":\"contour\"}],\"heatmapgl\":[{\"colorbar\":{\"outlinewidth\":0,\"ticks\":\"\"},\"colorscale\":[[0.0,\"#0d0887\"],[0.1111111111111111,\"#46039f\"],[0.2222222222222222,\"#7201a8\"],[0.3333333333333333,\"#9c179e\"],[0.4444444444444444,\"#bd3786\"],[0.5555555555555556,\"#d8576b\"],[0.6666666666666666,\"#ed7953\"],[0.7777777777777778,\"#fb9f3a\"],[0.8888888888888888,\"#fdca26\"],[1.0,\"#f0f921\"]],\"type\":\"heatmapgl\"}],\"heatmap\":[{\"colorbar\":{\"outlinewidth\":0,\"ticks\":\"\"},\"colorscale\":[[0.0,\"#0d0887\"],[0.1111111111111111,\"#46039f\"],[0.2222222222222222,\"#7201a8\"],[0.3333333333333333,\"#9c179e\"],[0.4444444444444444,\"#bd3786\"],[0.5555555555555556,\"#d8576b\"],[0.6666666666666666,\"#ed7953\"],[0.7777777777777778,\"#fb9f3a\"],[0.8888888888888888,\"#fdca26\"],[1.0,\"#f0f921\"]],\"type\":\"heatmap\"}],\"histogram2dcontour\":[{\"colorbar\":{\"outlinewidth\":0,\"ticks\":\"\"},\"colorscale\":[[0.0,\"#0d0887\"],[0.1111111111111111,\"#46039f\"],[0.2222222222222222,\"#7201a8\"],[0.3333333333333333,\"#9c179e\"],[0.4444444444444444,\"#bd3786\"],[0.5555555555555556,\"#d8576b\"],[0.6666666666666666,\"#ed7953\"],[0.7777777777777778,\"#fb9f3a\"],[0.8888888888888888,\"#fdca26\"],[1.0,\"#f0f921\"]],\"type\":\"histogram2dcontour\"}],\"histogram2d\":[{\"colorbar\":{\"outlinewidth\":0,\"ticks\":\"\"},\"colorscale\":[[0.0,\"#0d0887\"],[0.1111111111111111,\"#46039f\"],[0.2222222222222222,\"#7201a8\"],[0.3333333333333333,\"#9c179e\"],[0.4444444444444444,\"#bd3786\"],[0.5555555555555556,\"#d8576b\"],[0.6666666666666666,\"#ed7953\"],[0.7777777777777778,\"#fb9f3a\"],[0.8888888888888888,\"#fdca26\"],[1.0,\"#f0f921\"]],\"type\":\"histogram2d\"}],\"histogram\":[{\"marker\":{\"pattern\":{\"fillmode\":\"overlay\",\"size\":10,\"solidity\":0.2}},\"type\":\"histogram\"}],\"mesh3d\":[{\"colorbar\":{\"outlinewidth\":0,\"ticks\":\"\"},\"type\":\"mesh3d\"}],\"parcoords\":[{\"line\":{\"colorbar\":{\"outlinewidth\":0,\"ticks\":\"\"}},\"type\":\"parcoords\"}],\"pie\":[{\"automargin\":true,\"type\":\"pie\"}],\"scatter3d\":[{\"line\":{\"colorbar\":{\"outlinewidth\":0,\"ticks\":\"\"}},\"marker\":{\"colorbar\":{\"outlinewidth\":0,\"ticks\":\"\"}},\"type\":\"scatter3d\"}],\"scattercarpet\":[{\"marker\":{\"colorbar\":{\"outlinewidth\":0,\"ticks\":\"\"}},\"type\":\"scattercarpet\"}],\"scattergeo\":[{\"marker\":{\"colorbar\":{\"outlinewidth\":0,\"ticks\":\"\"}},\"type\":\"scattergeo\"}],\"scattergl\":[{\"marker\":{\"colorbar\":{\"outlinewidth\":0,\"ticks\":\"\"}},\"type\":\"scattergl\"}],\"scattermapbox\":[{\"marker\":{\"colorbar\":{\"outlinewidth\":0,\"ticks\":\"\"}},\"type\":\"scattermapbox\"}],\"scatterpolargl\":[{\"marker\":{\"colorbar\":{\"outlinewidth\":0,\"ticks\":\"\"}},\"type\":\"scatterpolargl\"}],\"scatterpolar\":[{\"marker\":{\"colorbar\":{\"outlinewidth\":0,\"ticks\":\"\"}},\"type\":\"scatterpolar\"}],\"scatter\":[{\"marker\":{\"colorbar\":{\"outlinewidth\":0,\"ticks\":\"\"}},\"type\":\"scatter\"}],\"scatterternary\":[{\"marker\":{\"colorbar\":{\"outlinewidth\":0,\"ticks\":\"\"}},\"type\":\"scatterternary\"}],\"surface\":[{\"colorbar\":{\"outlinewidth\":0,\"ticks\":\"\"},\"colorscale\":[[0.0,\"#0d0887\"],[0.1111111111111111,\"#46039f\"],[0.2222222222222222,\"#7201a8\"],[0.3333333333333333,\"#9c179e\"],[0.4444444444444444,\"#bd3786\"],[0.5555555555555556,\"#d8576b\"],[0.6666666666666666,\"#ed7953\"],[0.7777777777777778,\"#fb9f3a\"],[0.8888888888888888,\"#fdca26\"],[1.0,\"#f0f921\"]],\"type\":\"surface\"}],\"table\":[{\"cells\":{\"fill\":{\"color\":\"#EBF0F8\"},\"line\":{\"color\":\"white\"}},\"header\":{\"fill\":{\"color\":\"#C8D4E3\"},\"line\":{\"color\":\"white\"}},\"type\":\"table\"}]},\"layout\":{\"annotationdefaults\":{\"arrowcolor\":\"#2a3f5f\",\"arrowhead\":0,\"arrowwidth\":1},\"autotypenumbers\":\"strict\",\"coloraxis\":{\"colorbar\":{\"outlinewidth\":0,\"ticks\":\"\"}},\"colorscale\":{\"diverging\":[[0,\"#8e0152\"],[0.1,\"#c51b7d\"],[0.2,\"#de77ae\"],[0.3,\"#f1b6da\"],[0.4,\"#fde0ef\"],[0.5,\"#f7f7f7\"],[0.6,\"#e6f5d0\"],[0.7,\"#b8e186\"],[0.8,\"#7fbc41\"],[0.9,\"#4d9221\"],[1,\"#276419\"]],\"sequential\":[[0.0,\"#0d0887\"],[0.1111111111111111,\"#46039f\"],[0.2222222222222222,\"#7201a8\"],[0.3333333333333333,\"#9c179e\"],[0.4444444444444444,\"#bd3786\"],[0.5555555555555556,\"#d8576b\"],[0.6666666666666666,\"#ed7953\"],[0.7777777777777778,\"#fb9f3a\"],[0.8888888888888888,\"#fdca26\"],[1.0,\"#f0f921\"]],\"sequentialminus\":[[0.0,\"#0d0887\"],[0.1111111111111111,\"#46039f\"],[0.2222222222222222,\"#7201a8\"],[0.3333333333333333,\"#9c179e\"],[0.4444444444444444,\"#bd3786\"],[0.5555555555555556,\"#d8576b\"],[0.6666666666666666,\"#ed7953\"],[0.7777777777777778,\"#fb9f3a\"],[0.8888888888888888,\"#fdca26\"],[1.0,\"#f0f921\"]]},\"colorway\":[\"#636efa\",\"#EF553B\",\"#00cc96\",\"#ab63fa\",\"#FFA15A\",\"#19d3f3\",\"#FF6692\",\"#B6E880\",\"#FF97FF\",\"#FECB52\"],\"font\":{\"color\":\"#2a3f5f\"},\"geo\":{\"bgcolor\":\"white\",\"lakecolor\":\"white\",\"landcolor\":\"#E5ECF6\",\"showlakes\":true,\"showland\":true,\"subunitcolor\":\"white\"},\"hoverlabel\":{\"align\":\"left\"},\"hovermode\":\"closest\",\"mapbox\":{\"style\":\"light\"},\"paper_bgcolor\":\"white\",\"plot_bgcolor\":\"#E5ECF6\",\"polar\":{\"angularaxis\":{\"gridcolor\":\"white\",\"linecolor\":\"white\",\"ticks\":\"\"},\"bgcolor\":\"#E5ECF6\",\"radialaxis\":{\"gridcolor\":\"white\",\"linecolor\":\"white\",\"ticks\":\"\"}},\"scene\":{\"xaxis\":{\"backgroundcolor\":\"#E5ECF6\",\"gridcolor\":\"white\",\"gridwidth\":2,\"linecolor\":\"white\",\"showbackground\":true,\"ticks\":\"\",\"zerolinecolor\":\"white\"},\"yaxis\":{\"backgroundcolor\":\"#E5ECF6\",\"gridcolor\":\"white\",\"gridwidth\":2,\"linecolor\":\"white\",\"showbackground\":true,\"ticks\":\"\",\"zerolinecolor\":\"white\"},\"zaxis\":{\"backgroundcolor\":\"#E5ECF6\",\"gridcolor\":\"white\",\"gridwidth\":2,\"linecolor\":\"white\",\"showbackground\":true,\"ticks\":\"\",\"zerolinecolor\":\"white\"}},\"shapedefaults\":{\"line\":{\"color\":\"#2a3f5f\"}},\"ternary\":{\"aaxis\":{\"gridcolor\":\"white\",\"linecolor\":\"white\",\"ticks\":\"\"},\"baxis\":{\"gridcolor\":\"white\",\"linecolor\":\"white\",\"ticks\":\"\"},\"bgcolor\":\"#E5ECF6\",\"caxis\":{\"gridcolor\":\"white\",\"linecolor\":\"white\",\"ticks\":\"\"}},\"title\":{\"x\":0.05},\"xaxis\":{\"automargin\":true,\"gridcolor\":\"white\",\"linecolor\":\"white\",\"ticks\":\"\",\"title\":{\"standoff\":15},\"zerolinecolor\":\"white\",\"zerolinewidth\":2},\"yaxis\":{\"automargin\":true,\"gridcolor\":\"white\",\"linecolor\":\"white\",\"ticks\":\"\",\"title\":{\"standoff\":15},\"zerolinecolor\":\"white\",\"zerolinewidth\":2}}},\"title\":{\"font\":{\"color\":\"#4D5663\"},\"text\":\"Most frequent words in Corpus\"},\"xaxis\":{\"gridcolor\":\"#E1E5ED\",\"showgrid\":true,\"tickfont\":{\"color\":\"#4D5663\"},\"title\":{\"font\":{\"color\":\"#4D5663\"},\"text\":\"Word\"},\"zerolinecolor\":\"#E1E5ED\"},\"yaxis\":{\"gridcolor\":\"#E1E5ED\",\"showgrid\":true,\"tickfont\":{\"color\":\"#4D5663\"},\"title\":{\"font\":{\"color\":\"#4D5663\"},\"text\":\"Count\"},\"zerolinecolor\":\"#E1E5ED\"}},                        {\"showLink\": true, \"linkText\": \"Export to plot.ly\", \"plotlyServerURL\": \"https://plot.ly\", \"responsive\": true}                    ).then(function(){\n",
       "                            \n",
       "var gd = document.getElementById('bf4fc84a-d8b5-4644-8093-a420bf7362af');\n",
       "var x = new MutationObserver(function (mutations, observer) {{\n",
       "        var display = window.getComputedStyle(gd).display;\n",
       "        if (!display || display === 'none') {{\n",
       "            console.log([gd, 'removed!']);\n",
       "            Plotly.purge(gd);\n",
       "            observer.disconnect();\n",
       "        }}\n",
       "}});\n",
       "\n",
       "// Listen for the removal of the full notebook cells\n",
       "var notebookContainer = gd.closest('#notebook-container');\n",
       "if (notebookContainer) {{\n",
       "    x.observe(notebookContainer, {childList: true});\n",
       "}}\n",
       "\n",
       "// Listen for the clearing of the current output cell\n",
       "var outputEl = gd.closest('.output');\n",
       "if (outputEl) {{\n",
       "    x.observe(outputEl, {childList: true});\n",
       "}}\n",
       "\n",
       "                        })                };                });            </script>        </div>"
      ]
     },
     "metadata": {},
     "output_type": "display_data"
    }
   ],
   "source": [
    "words_df.set_index('word').wordCount.head(20).iplot(kind = 'bar', title = 'Most frequent words in Corpus', yTitle = 'Count', xTitle = 'Word')"
   ]
  },
  {
   "cell_type": "code",
   "execution_count": 44,
   "metadata": {},
   "outputs": [
    {
     "name": "stdout",
     "output_type": "stream",
     "text": [
      "Total of 2949360 words, 44567 unique words\n"
     ]
    }
   ],
   "source": [
    "print(\"Total of {} words, {} unique words\".format(len(all_words), len(words_df)))"
   ]
  },
  {
   "cell_type": "markdown",
   "metadata": {},
   "source": [
    "to reduce the corpus size more, we probably don't care about words that appear too little. Let's drop any word which have under 5 appearnces:"
   ]
  },
  {
   "cell_type": "code",
   "execution_count": 45,
   "metadata": {},
   "outputs": [
    {
     "name": "stdout",
     "output_type": "stream",
     "text": [
      "Using words with 5 or more appearnces will reduce the corpus size to: 13075\n"
     ]
    }
   ],
   "source": [
    "print (\"Using words with 5 or more appearnces will reduce the corpus size to: {}\".format(sum(words_df.wordCount >= 5)))"
   ]
  },
  {
   "cell_type": "code",
   "execution_count": 46,
   "metadata": {},
   "outputs": [],
   "source": [
    "words_df = words_df[words_df.wordCount >= 5]"
   ]
  },
  {
   "cell_type": "markdown",
   "metadata": {},
   "source": [
    "#### Bag of words (One-hot-encoding)"
   ]
  },
  {
   "cell_type": "code",
   "execution_count": 47,
   "metadata": {},
   "outputs": [],
   "source": [
    "from sklearn.feature_extraction.text import CountVectorizer\n",
    "from sklearn.feature_extraction.text import TfidfVectorizer"
   ]
  },
  {
   "cell_type": "code",
   "execution_count": 48,
   "metadata": {},
   "outputs": [
    {
     "data": {
      "text/plain": [
       "(119988, 13075)"
      ]
     },
     "execution_count": 48,
     "metadata": {},
     "output_type": "execute_result"
    }
   ],
   "source": [
    "clean_vocab = set(words_df.word)\n",
    "count_vect = CountVectorizer(vocabulary = clean_vocab, tokenizer=nltk.word_tokenize)\n",
    "clean_bow_counts = count_vect.fit_transform(df.pureTextDescription)\n",
    "clean_bow_counts.shape"
   ]
  },
  {
   "cell_type": "code",
   "execution_count": 49,
   "metadata": {},
   "outputs": [
    {
     "data": {
      "text/plain": [
       "'this is ripe and fruity  a wine that is smooth while still structured  firm tannins are filled out with juicy red berry fruits and freshened with acidity  its  already drinkable  although it will certainly be better from '"
      ]
     },
     "execution_count": 49,
     "metadata": {},
     "output_type": "execute_result"
    }
   ],
   "source": [
    "df.iloc[1].pureTextDescription"
   ]
  },
  {
   "cell_type": "code",
   "execution_count": 50,
   "metadata": {},
   "outputs": [
    {
     "name": "stdout",
     "output_type": "stream",
     "text": [
      "  (0, 76)\t1\n",
      "  (0, 271)\t1\n",
      "  (0, 280)\t1\n",
      "  (0, 941)\t1\n",
      "  (0, 961)\t1\n",
      "  (0, 1814)\t1\n",
      "  (0, 3426)\t1\n",
      "  (0, 4203)\t1\n",
      "  (0, 4247)\t1\n",
      "  (0, 4554)\t1\n",
      "  (0, 4633)\t1\n",
      "  (0, 4636)\t1\n",
      "  (0, 5987)\t1\n",
      "  (0, 9187)\t1\n",
      "  (0, 9529)\t1\n",
      "  (0, 10517)\t1\n",
      "  (0, 10936)\t1\n",
      "  (0, 11050)\t1\n",
      "  (0, 11439)\t1\n",
      "  (0, 12843)\t1\n"
     ]
    }
   ],
   "source": [
    "print(clean_bow_counts[1])"
   ]
  },
  {
   "cell_type": "code",
   "execution_count": 51,
   "metadata": {},
   "outputs": [
    {
     "name": "stdout",
     "output_type": "stream",
     "text": [
      "acidity\n",
      "already\n",
      "although\n",
      "berry\n"
     ]
    }
   ],
   "source": [
    "rev_dict = {v:k for k,v in count_vect.vocabulary_.items()}\n",
    "print(rev_dict[76])\n",
    "print(rev_dict[271])\n",
    "print(rev_dict[280])\n",
    "print(rev_dict[941])"
   ]
  },
  {
   "cell_type": "code",
   "execution_count": 52,
   "metadata": {},
   "outputs": [
    {
     "data": {
      "text/plain": [
       "2900818"
      ]
     },
     "execution_count": 52,
     "metadata": {},
     "output_type": "execute_result"
    }
   ],
   "source": [
    "clean_bow_counts.sum()"
   ]
  },
  {
   "cell_type": "markdown",
   "metadata": {},
   "source": [
    "### Training and testing on the entire dataset (no split to test/train)\n",
    "(1) Cross-validation for searching the optimal regularization level<br>\n",
    "(2) Predicting 'points' using optimal regularization level on the entire dataset and evaluating prediction quality"
   ]
  },
  {
   "cell_type": "code",
   "execution_count": 53,
   "metadata": {},
   "outputs": [],
   "source": [
    "import numpy as np\n",
    "from sklearn.model_selection import train_test_split, cross_val_score\n",
    "from sklearn.metrics import roc_auc_score, precision_score, recall_score, accuracy_score"
   ]
  },
  {
   "cell_type": "code",
   "execution_count": 54,
   "metadata": {},
   "outputs": [],
   "source": [
    "from sklearn.linear_model import LogisticRegression\n",
    "from sklearn.linear_model import LinearRegression\n",
    "from sklearn.linear_model import Ridge"
   ]
  },
  {
   "cell_type": "code",
   "execution_count": 55,
   "metadata": {},
   "outputs": [],
   "source": [
    "%%capture\n",
    "search_grid = np.logspace(-2, 4, num=50, endpoint=True, base=10.0)\n",
    "mse_by_alpha = []\n",
    "for alpha in search_grid:\n",
    "    model = Ridge(alpha = alpha, tol=0.0001, max_iter=10000)\n",
    "    avg_score = cross_val_score(model, clean_bow_counts, y = df.y, cv = 10, scoring = 'neg_mean_squared_error').mean()\n",
    "    mse_by_alpha.append((alpha,abs(avg_score)))"
   ]
  },
  {
   "cell_type": "code",
   "execution_count": 56,
   "metadata": {},
   "outputs": [
    {
     "data": {
      "application/vnd.plotly.v1+json": {
       "config": {
        "linkText": "Export to plot.ly",
        "plotlyServerURL": "https://plot.ly",
        "showLink": true
       },
       "data": [
        {
         "line": {
          "color": "rgba(255, 153, 51, 1.0)",
          "dash": "solid",
          "shape": "linear",
          "width": 3
         },
         "mode": "lines",
         "name": "mean_squared_error",
         "text": "",
         "type": "scatter",
         "x": [
          0,
          1,
          2,
          3,
          4,
          5,
          6,
          7,
          8,
          9,
          10,
          11,
          12,
          13,
          14,
          15,
          16,
          17,
          18,
          19,
          20,
          21,
          22,
          23,
          24,
          25,
          26,
          27,
          28,
          29,
          30,
          31,
          32,
          33,
          34,
          35,
          36,
          37,
          38,
          39,
          40,
          41,
          42,
          43,
          44,
          45,
          46,
          47,
          48,
          49
         ],
         "y": [
          3.2265923170764266,
          3.2260210177974904,
          3.225260779691159,
          3.2242530691894524,
          3.222917304968612,
          3.221153352815885,
          3.2188618529688497,
          3.215920033201919,
          3.212148262583143,
          3.207334423149844,
          3.201243140372379,
          3.193647961774551,
          3.184294380070842,
          3.1729443559808823,
          3.159338108008927,
          3.1434011600676652,
          3.1252621509897254,
          3.105184555190626,
          3.083724019142103,
          3.061680522385628,
          3.039930432285809,
          3.019451205831228,
          3.001157473868226,
          2.9858524716167127,
          2.974204692728832,
          2.9667396564817947,
          2.963803105209001,
          2.965716521448907,
          2.9726992056457155,
          2.9850416367042283,
          3.003058018052477,
          3.0271573877274784,
          3.0578812732277303,
          3.095858220999309,
          3.141838120982728,
          3.196641472630858,
          3.2611313995694067,
          3.33624051756383,
          3.4229768806808942,
          3.522514193628917,
          3.6362956270405866,
          3.7661713411946787,
          3.9145450445183485,
          4.084378542607107,
          4.279061746674603,
          4.501978980319632,
          4.755781724586674,
          5.04147006219692,
          5.357535924189856,
          5.699510229410043
         ]
        }
       ],
       "layout": {
        "autosize": true,
        "legend": {
         "bgcolor": "#F5F6F9",
         "font": {
          "color": "#4D5663"
         }
        },
        "paper_bgcolor": "#F5F6F9",
        "plot_bgcolor": "#F5F6F9",
        "shapes": [
         {
          "line": {
           "color": "#db4052",
           "dash": "solid",
           "width": 1
          },
          "type": "line",
          "x0": 0,
          "x1": 1,
          "xref": "paper",
          "y0": [
           0,
           0
          ],
          "y1": [
           0,
           0
          ],
          "yref": "y"
         }
        ],
        "title": {
         "font": {
          "color": "#4D5663"
         },
         "text": "BOW Counts - mean_squared_error as a function of Regularization rate (alpha)"
        },
        "xaxis": {
         "autorange": true,
         "gridcolor": "#E1E5ED",
         "range": [
          0,
          49
         ],
         "showgrid": true,
         "tickfont": {
          "color": "#4D5663"
         },
         "title": {
          "font": {
           "color": "#4D5663"
          },
          "text": "alpha"
         },
         "type": "linear",
         "zerolinecolor": "#E1E5ED"
        },
        "yaxis": {
         "autorange": true,
         "gridcolor": "#E1E5ED",
         "range": [
          2.8118193760867207,
          5.851493958532323
         ],
         "showgrid": true,
         "tickfont": {
          "color": "#4D5663"
         },
         "title": {
          "font": {
           "color": "#4D5663"
          },
          "text": "mean_squared_error"
         },
         "type": "linear",
         "zerolinecolor": "#E1E5ED"
        }
       }
      },
      "image/png": "[encoded data removed]",
      "text/html": [
       "<div>                            <div id=\"1724000c-9530-4bae-8456-0192c2db7e3a\" class=\"plotly-graph-div\" style=\"height:525px; width:100%;\"></div>            <script type=\"text/javascript\">                require([\"plotly\"], function(Plotly) {                    window.PLOTLYENV=window.PLOTLYENV || {};\n",
       "                    window.PLOTLYENV.BASE_URL='https://plot.ly';                                    if (document.getElementById(\"1724000c-9530-4bae-8456-0192c2db7e3a\")) {                    Plotly.newPlot(                        \"1724000c-9530-4bae-8456-0192c2db7e3a\",                        [{\"line\":{\"color\":\"rgba(255, 153, 51, 1.0)\",\"dash\":\"solid\",\"shape\":\"linear\",\"width\":3},\"mode\":\"lines\",\"name\":\"mean_squared_error\",\"text\":\"\",\"x\":[0,1,2,3,4,5,6,7,8,9,10,11,12,13,14,15,16,17,18,19,20,21,22,23,24,25,26,27,28,29,30,31,32,33,34,35,36,37,38,39,40,41,42,43,44,45,46,47,48,49],\"y\":[3.2265923170764266,3.2260210177974904,3.225260779691159,3.2242530691894524,3.222917304968612,3.221153352815885,3.2188618529688497,3.215920033201919,3.212148262583143,3.207334423149844,3.201243140372379,3.193647961774551,3.184294380070842,3.1729443559808823,3.159338108008927,3.1434011600676652,3.1252621509897254,3.105184555190626,3.083724019142103,3.061680522385628,3.039930432285809,3.019451205831228,3.001157473868226,2.9858524716167127,2.974204692728832,2.9667396564817947,2.963803105209001,2.965716521448907,2.9726992056457155,2.9850416367042283,3.003058018052477,3.0271573877274784,3.0578812732277303,3.095858220999309,3.141838120982728,3.196641472630858,3.2611313995694067,3.33624051756383,3.4229768806808942,3.522514193628917,3.6362956270405866,3.7661713411946787,3.9145450445183485,4.084378542607107,4.279061746674603,4.501978980319632,4.755781724586674,5.04147006219692,5.357535924189856,5.699510229410043],\"type\":\"scatter\"}],                        {\"legend\":{\"bgcolor\":\"#F5F6F9\",\"font\":{\"color\":\"#4D5663\"}},\"paper_bgcolor\":\"#F5F6F9\",\"plot_bgcolor\":\"#F5F6F9\",\"yaxis\":{\"tickfont\":{\"color\":\"#4D5663\"},\"gridcolor\":\"#E1E5ED\",\"titlefont\":{\"color\":\"#4D5663\"},\"zerolinecolor\":\"#E1E5ED\",\"showgrid\":true,\"title\":\"mean_squared_error\"},\"xaxis\":{\"tickfont\":{\"color\":\"#4D5663\"},\"gridcolor\":\"#E1E5ED\",\"titlefont\":{\"color\":\"#4D5663\"},\"zerolinecolor\":\"#E1E5ED\",\"showgrid\":true,\"title\":\"alpha\"},\"titlefont\":{\"color\":\"#4D5663\"},\"title\":\"BOW Counts - mean_squared_error as a function of Regularization rate (alpha)\",\"shapes\":[{\"x0\":0,\"y0\":[0,0],\"x1\":1,\"y1\":[0,0],\"line\":{\"color\":\"#db4052\",\"width\":1,\"dash\":\"solid\"},\"xref\":\"paper\",\"yref\":\"y\",\"type\":\"line\"}]},                        {\"showLink\": true, \"linkText\": \"Export to plot.ly\", \"plotlyServerURL\": \"https://plot.ly\", \"responsive\": true}                    ).then(function(){\n",
       "                            \n",
       "var gd = document.getElementById('1724000c-9530-4bae-8456-0192c2db7e3a');\n",
       "var x = new MutationObserver(function (mutations, observer) {{\n",
       "        var display = window.getComputedStyle(gd).display;\n",
       "        if (!display || display === 'none') {{\n",
       "            console.log([gd, 'removed!']);\n",
       "            Plotly.purge(gd);\n",
       "            observer.disconnect();\n",
       "        }}\n",
       "}});\n",
       "\n",
       "// Listen for the removal of the full notebook cells\n",
       "var notebookContainer = gd.closest('#notebook-container');\n",
       "if (notebookContainer) {{\n",
       "    x.observe(notebookContainer, {childList: true});\n",
       "}}\n",
       "\n",
       "// Listen for the clearing of the current output cell\n",
       "var outputEl = gd.closest('.output');\n",
       "if (outputEl) {{\n",
       "    x.observe(outputEl, {childList: true});\n",
       "}}\n",
       "\n",
       "                        })                };                });            </script>        </div>"
      ]
     },
     "metadata": {},
     "output_type": "display_data"
    }
   ],
   "source": [
    "cv_results = DataFrame(mse_by_alpha, columns = ['alpha', 'mean_squared_error'])\n",
    "cv_results.mean_squared_error.iplot(title = 'BOW Counts - mean_squared_error as a function of Regularization rate (alpha)', xTitle = 'alpha', yTitle = 'mean_squared_error', width = 3, hline=(0,0))"
   ]
  },
  {
   "cell_type": "code",
   "execution_count": 57,
   "metadata": {},
   "outputs": [
    {
     "name": "stdout",
     "output_type": "stream",
     "text": [
      "15.264179671752334 2.963803105209001\n"
     ]
    }
   ],
   "source": [
    "opt_alpha, min_mean_squared_error = cv_results.loc[cv_results.mean_squared_error.idxmin()]\n",
    "print(opt_alpha, min_mean_squared_error)"
   ]
  },
  {
   "cell_type": "markdown",
   "metadata": {},
   "source": [
    "#### Predicting 'points' with the optimal model and evaluating prediction quality"
   ]
  },
  {
   "cell_type": "code",
   "execution_count": 58,
   "metadata": {},
   "outputs": [
    {
     "data": {
      "text/plain": [
       "Ridge(alpha=15.264179671752334, max_iter=10000, tol=0.0001)"
      ]
     },
     "execution_count": 58,
     "metadata": {},
     "output_type": "execute_result"
    }
   ],
   "source": [
    "model = Ridge(alpha = opt_alpha, tol=0.0001, max_iter=10000)\n",
    "model.fit(clean_bow_counts, df.y)"
   ]
  },
  {
   "cell_type": "code",
   "execution_count": 59,
   "metadata": {},
   "outputs": [],
   "source": [
    "df['predicted_score'] = model.predict(clean_bow_counts)"
   ]
  },
  {
   "cell_type": "code",
   "execution_count": 60,
   "metadata": {
    "tags": []
   },
   "outputs": [
    {
     "data": {
      "text/plain": [
       "MSE    2.571613\n",
       "MAE    1.266684\n",
       "R2     0.731173\n",
       "dtype: float64"
      ]
     },
     "execution_count": 60,
     "metadata": {},
     "output_type": "execute_result"
    }
   ],
   "source": [
    "NLP_desc_stats = calc_prediction_quality(df, 'predicted_score','y')\n",
    "NLP_desc_stats"
   ]
  },
  {
   "cell_type": "code",
   "execution_count": 61,
   "metadata": {},
   "outputs": [
    {
     "data": {
      "text/html": [
       "<div>\n",
       "<style scoped>\n",
       "    .dataframe tbody tr th:only-of-type {\n",
       "        vertical-align: middle;\n",
       "    }\n",
       "\n",
       "    .dataframe tbody tr th {\n",
       "        vertical-align: top;\n",
       "    }\n",
       "\n",
       "    .dataframe thead th {\n",
       "        text-align: right;\n",
       "    }\n",
       "</style>\n",
       "<table border=\"1\" class=\"dataframe\">\n",
       "  <thead>\n",
       "    <tr style=\"text-align: right;\">\n",
       "      <th></th>\n",
       "      <th>MSE</th>\n",
       "      <th>MAE</th>\n",
       "      <th>R2</th>\n",
       "    </tr>\n",
       "  </thead>\n",
       "  <tbody>\n",
       "    <tr>\n",
       "      <th>baseline_1</th>\n",
       "      <td>9.684853</td>\n",
       "      <td>2.558104</td>\n",
       "      <td>-0.000009</td>\n",
       "    </tr>\n",
       "    <tr>\n",
       "      <th>baseline_2</th>\n",
       "      <td>9.168517</td>\n",
       "      <td>2.481975</td>\n",
       "      <td>0.053305</td>\n",
       "    </tr>\n",
       "    <tr>\n",
       "      <th>baseline_3</th>\n",
       "      <td>8.599106</td>\n",
       "      <td>2.382239</td>\n",
       "      <td>0.112099</td>\n",
       "    </tr>\n",
       "    <tr>\n",
       "      <th>regression_by_xgb</th>\n",
       "      <td>6.375198</td>\n",
       "      <td>1.912409</td>\n",
       "      <td>0.341729</td>\n",
       "    </tr>\n",
       "    <tr>\n",
       "      <th>NLP_desc_stats</th>\n",
       "      <td>2.571613</td>\n",
       "      <td>1.266684</td>\n",
       "      <td>0.731173</td>\n",
       "    </tr>\n",
       "  </tbody>\n",
       "</table>\n",
       "</div>"
      ],
      "text/plain": [
       "                        MSE       MAE        R2\n",
       "baseline_1         9.684853  2.558104 -0.000009\n",
       "baseline_2         9.168517  2.481975  0.053305\n",
       "baseline_3         8.599106  2.382239  0.112099\n",
       "regression_by_xgb  6.375198  1.912409  0.341729\n",
       "NLP_desc_stats     2.571613  1.266684  0.731173"
      ]
     },
     "execution_count": 61,
     "metadata": {},
     "output_type": "execute_result"
    }
   ],
   "source": [
    "all_compared = pd.DataFrame([b1_stats, b2_stats, b3_stats, xgb_stats, NLP_desc_stats], index=['baseline_1', 'baseline_2','baseline_3','regression_by_xgb', 'NLP_desc_stats'])\n",
    "all_compared"
   ]
  },
  {
   "cell_type": "code",
   "execution_count": 62,
   "metadata": {},
   "outputs": [],
   "source": [
    "all_compared.to_csv('data/all_models_compared.csv', index=False)"
   ]
  },
  {
   "cell_type": "markdown",
   "metadata": {},
   "source": [
    "### Using both the text and other features\n",
    "#### Training and testing on the entire dataset (no split to test/train)"
   ]
  },
  {
   "cell_type": "code",
   "execution_count": 63,
   "metadata": {},
   "outputs": [
    {
     "data": {
      "text/html": [
       "<div>\n",
       "<style scoped>\n",
       "    .dataframe tbody tr th:only-of-type {\n",
       "        vertical-align: middle;\n",
       "    }\n",
       "\n",
       "    .dataframe tbody tr th {\n",
       "        vertical-align: top;\n",
       "    }\n",
       "\n",
       "    .dataframe thead th {\n",
       "        text-align: right;\n",
       "    }\n",
       "</style>\n",
       "<table border=\"1\" class=\"dataframe\">\n",
       "  <thead>\n",
       "    <tr style=\"text-align: right;\">\n",
       "      <th></th>\n",
       "      <th>country</th>\n",
       "      <th>province</th>\n",
       "      <th>region_1</th>\n",
       "      <th>region_2</th>\n",
       "      <th>taster_name</th>\n",
       "      <th>variety</th>\n",
       "      <th>winery</th>\n",
       "      <th>price</th>\n",
       "    </tr>\n",
       "  </thead>\n",
       "  <tbody>\n",
       "    <tr>\n",
       "      <th>0</th>\n",
       "      <td>22</td>\n",
       "      <td>332</td>\n",
       "      <td>424</td>\n",
       "      <td>6</td>\n",
       "      <td>9</td>\n",
       "      <td>691</td>\n",
       "      <td>11608</td>\n",
       "      <td>-1.0</td>\n",
       "    </tr>\n",
       "    <tr>\n",
       "      <th>1</th>\n",
       "      <td>32</td>\n",
       "      <td>108</td>\n",
       "      <td>738</td>\n",
       "      <td>6</td>\n",
       "      <td>16</td>\n",
       "      <td>451</td>\n",
       "      <td>12956</td>\n",
       "      <td>15.0</td>\n",
       "    </tr>\n",
       "    <tr>\n",
       "      <th>2</th>\n",
       "      <td>41</td>\n",
       "      <td>269</td>\n",
       "      <td>1218</td>\n",
       "      <td>17</td>\n",
       "      <td>15</td>\n",
       "      <td>437</td>\n",
       "      <td>13018</td>\n",
       "      <td>14.0</td>\n",
       "    </tr>\n",
       "    <tr>\n",
       "      <th>3</th>\n",
       "      <td>41</td>\n",
       "      <td>218</td>\n",
       "      <td>549</td>\n",
       "      <td>6</td>\n",
       "      <td>0</td>\n",
       "      <td>480</td>\n",
       "      <td>14390</td>\n",
       "      <td>13.0</td>\n",
       "    </tr>\n",
       "    <tr>\n",
       "      <th>4</th>\n",
       "      <td>41</td>\n",
       "      <td>269</td>\n",
       "      <td>1218</td>\n",
       "      <td>17</td>\n",
       "      <td>15</td>\n",
       "      <td>441</td>\n",
       "      <td>14621</td>\n",
       "      <td>65.0</td>\n",
       "    </tr>\n",
       "    <tr>\n",
       "      <th>...</th>\n",
       "      <td>...</td>\n",
       "      <td>...</td>\n",
       "      <td>...</td>\n",
       "      <td>...</td>\n",
       "      <td>...</td>\n",
       "      <td>...</td>\n",
       "      <td>...</td>\n",
       "      <td>...</td>\n",
       "    </tr>\n",
       "    <tr>\n",
       "      <th>129966</th>\n",
       "      <td>17</td>\n",
       "      <td>232</td>\n",
       "      <td>738</td>\n",
       "      <td>6</td>\n",
       "      <td>1</td>\n",
       "      <td>480</td>\n",
       "      <td>6643</td>\n",
       "      <td>28.0</td>\n",
       "    </tr>\n",
       "    <tr>\n",
       "      <th>129967</th>\n",
       "      <td>41</td>\n",
       "      <td>269</td>\n",
       "      <td>788</td>\n",
       "      <td>11</td>\n",
       "      <td>15</td>\n",
       "      <td>441</td>\n",
       "      <td>4776</td>\n",
       "      <td>75.0</td>\n",
       "    </tr>\n",
       "    <tr>\n",
       "      <th>129968</th>\n",
       "      <td>15</td>\n",
       "      <td>11</td>\n",
       "      <td>21</td>\n",
       "      <td>6</td>\n",
       "      <td>16</td>\n",
       "      <td>209</td>\n",
       "      <td>5929</td>\n",
       "      <td>30.0</td>\n",
       "    </tr>\n",
       "    <tr>\n",
       "      <th>129969</th>\n",
       "      <td>15</td>\n",
       "      <td>11</td>\n",
       "      <td>21</td>\n",
       "      <td>6</td>\n",
       "      <td>16</td>\n",
       "      <td>437</td>\n",
       "      <td>6027</td>\n",
       "      <td>32.0</td>\n",
       "    </tr>\n",
       "    <tr>\n",
       "      <th>129970</th>\n",
       "      <td>15</td>\n",
       "      <td>11</td>\n",
       "      <td>21</td>\n",
       "      <td>6</td>\n",
       "      <td>16</td>\n",
       "      <td>209</td>\n",
       "      <td>6144</td>\n",
       "      <td>21.0</td>\n",
       "    </tr>\n",
       "  </tbody>\n",
       "</table>\n",
       "<p>119988 rows × 8 columns</p>\n",
       "</div>"
      ],
      "text/plain": [
       "        country  province  region_1  region_2  taster_name  variety  winery  \\\n",
       "0            22       332       424         6            9      691   11608   \n",
       "1            32       108       738         6           16      451   12956   \n",
       "2            41       269      1218        17           15      437   13018   \n",
       "3            41       218       549         6            0      480   14390   \n",
       "4            41       269      1218        17           15      441   14621   \n",
       "...         ...       ...       ...       ...          ...      ...     ...   \n",
       "129966       17       232       738         6            1      480    6643   \n",
       "129967       41       269       788        11           15      441    4776   \n",
       "129968       15        11        21         6           16      209    5929   \n",
       "129969       15        11        21         6           16      437    6027   \n",
       "129970       15        11        21         6           16      209    6144   \n",
       "\n",
       "        price  \n",
       "0        -1.0  \n",
       "1        15.0  \n",
       "2        14.0  \n",
       "3        13.0  \n",
       "4        65.0  \n",
       "...       ...  \n",
       "129966   28.0  \n",
       "129967   75.0  \n",
       "129968   30.0  \n",
       "129969   32.0  \n",
       "129970   21.0  \n",
       "\n",
       "[119988 rows x 8 columns]"
      ]
     },
     "execution_count": 63,
     "metadata": {},
     "output_type": "execute_result"
    }
   ],
   "source": [
    "other_features = encoded_features[['country', 'province', 'region_1', 'region_2', 'taster_name', 'variety', 'winery', 'price']]\n",
    "other_features"
   ]
  },
  {
   "cell_type": "code",
   "execution_count": 64,
   "metadata": {},
   "outputs": [],
   "source": [
    "from scipy.sparse import coo_matrix, hstack\n",
    "#other_features_spares_matrix = coo_matrix(other_features) # no need to apply coo_matrix as hstack converts to sparse matrix authomatically\n",
    "train_united_features = hstack((clean_bow_counts ,other_features))"
   ]
  },
  {
   "cell_type": "code",
   "execution_count": 65,
   "metadata": {},
   "outputs": [],
   "source": [
    "%%capture\n",
    "search_grid = np.logspace(-2, 4, num=50, endpoint=True, base=10.0)\n",
    "mse_by_alpha = []\n",
    "for alpha in search_grid:\n",
    "    model = Ridge(alpha = alpha, tol=0.0001, max_iter=10000)\n",
    "    avg_score = cross_val_score(model, train_united_features, y = df.y, cv = 10, scoring = 'neg_mean_squared_error').mean()\n",
    "    mse_by_alpha.append((alpha,abs(avg_score)))"
   ]
  },
  {
   "cell_type": "code",
   "execution_count": 66,
   "metadata": {},
   "outputs": [
    {
     "data": {
      "application/vnd.plotly.v1+json": {
       "config": {
        "linkText": "Export to plot.ly",
        "plotlyServerURL": "https://plot.ly",
        "showLink": true
       },
       "data": [
        {
         "line": {
          "color": "rgba(255, 153, 51, 1.0)",
          "dash": "solid",
          "shape": "linear",
          "width": 3
         },
         "mode": "lines",
         "name": "mean_squared_error",
         "text": "",
         "type": "scatter",
         "x": [
          0,
          1,
          2,
          3,
          4,
          5,
          6,
          7,
          8,
          9,
          10,
          11,
          12,
          13,
          14,
          15,
          16,
          17,
          18,
          19,
          20,
          21,
          22,
          23,
          24,
          25,
          26,
          27,
          28,
          29,
          30,
          31,
          32,
          33,
          34,
          35,
          36,
          37,
          38,
          39,
          40,
          41,
          42,
          43,
          44,
          45,
          46,
          47,
          48,
          49
         ],
         "y": [
          2.9003688739797724,
          2.9048718467732293,
          2.9005162376144056,
          2.899888833974275,
          2.9027315840855827,
          2.901282993045618,
          2.901303830134843,
          2.900228674797586,
          2.903461018027631,
          2.90052120258862,
          2.900068161254438,
          2.8943206498614886,
          2.897187132695098,
          2.8991063412538596,
          2.889876726016706,
          2.8883320545733837,
          2.883076909462658,
          2.8785201758251757,
          2.872096940358337,
          2.8659487866658706,
          2.8587968507019426,
          2.8513058789337054,
          2.8436937584241173,
          2.83638768717747,
          2.8295673170943254,
          2.826841228104473,
          2.827717461616677,
          2.829730702192755,
          2.8345869197567595,
          2.842420255262726,
          2.859718327403061,
          2.8803633924703425,
          2.904489647179708,
          2.9393553449591505,
          2.9797811337539652,
          3.030419094753927,
          3.086004892537889,
          3.152758866053472,
          3.2300004843708185,
          3.321521733376217,
          3.421456711755211,
          3.5378320819155733,
          3.6704635220274824,
          3.821132705887355,
          3.9926598610565605,
          4.187430773881369,
          4.405304291220641,
          4.649713992672852,
          4.914299760844615,
          5.197283755451493
         ]
        }
       ],
       "layout": {
        "autosize": true,
        "legend": {
         "bgcolor": "#F5F6F9",
         "font": {
          "color": "#4D5663"
         }
        },
        "paper_bgcolor": "#F5F6F9",
        "plot_bgcolor": "#F5F6F9",
        "shapes": [
         {
          "line": {
           "color": "#db4052",
           "dash": "solid",
           "width": 1
          },
          "type": "line",
          "x0": 0,
          "x1": 1,
          "xref": "paper",
          "y0": [
           0,
           0
          ],
          "y1": [
           0,
           0
          ],
          "yref": "y"
         }
        ],
        "title": {
         "font": {
          "color": "#4D5663"
         },
         "text": "BOW Counts - mean_squared_error as a function of the Regularization strength (alpha)"
        },
        "xaxis": {
         "autorange": true,
         "gridcolor": "#E1E5ED",
         "range": [
          0,
          49
         ],
         "showgrid": true,
         "tickfont": {
          "color": "#4D5663"
         },
         "title": {
          "font": {
           "color": "#4D5663"
          },
          "text": "alpha"
         },
         "type": "linear",
         "zerolinecolor": "#E1E5ED"
        },
        "yaxis": {
         "autorange": true,
         "gridcolor": "#E1E5ED",
         "range": [
          2.6951499765851943,
          5.328975006970772
         ],
         "showgrid": true,
         "tickfont": {
          "color": "#4D5663"
         },
         "title": {
          "font": {
           "color": "#4D5663"
          },
          "text": "mean_squared_error"
         },
         "type": "linear",
         "zerolinecolor": "#E1E5ED"
        }
       }
      },
      "image/png": "[encoded data removed]",
      "text/html": [
       "<div>                            <div id=\"c2281d29-65fc-43ac-9721-62ab9b91d71e\" class=\"plotly-graph-div\" style=\"height:525px; width:100%;\"></div>            <script type=\"text/javascript\">                require([\"plotly\"], function(Plotly) {                    window.PLOTLYENV=window.PLOTLYENV || {};\n",
       "                    window.PLOTLYENV.BASE_URL='https://plot.ly';                                    if (document.getElementById(\"c2281d29-65fc-43ac-9721-62ab9b91d71e\")) {                    Plotly.newPlot(                        \"c2281d29-65fc-43ac-9721-62ab9b91d71e\",                        [{\"line\":{\"color\":\"rgba(255, 153, 51, 1.0)\",\"dash\":\"solid\",\"shape\":\"linear\",\"width\":3},\"mode\":\"lines\",\"name\":\"mean_squared_error\",\"text\":\"\",\"x\":[0,1,2,3,4,5,6,7,8,9,10,11,12,13,14,15,16,17,18,19,20,21,22,23,24,25,26,27,28,29,30,31,32,33,34,35,36,37,38,39,40,41,42,43,44,45,46,47,48,49],\"y\":[2.9003688739797724,2.9048718467732293,2.9005162376144056,2.899888833974275,2.9027315840855827,2.901282993045618,2.901303830134843,2.900228674797586,2.903461018027631,2.90052120258862,2.900068161254438,2.8943206498614886,2.897187132695098,2.8991063412538596,2.889876726016706,2.8883320545733837,2.883076909462658,2.8785201758251757,2.872096940358337,2.8659487866658706,2.8587968507019426,2.8513058789337054,2.8436937584241173,2.83638768717747,2.8295673170943254,2.826841228104473,2.827717461616677,2.829730702192755,2.8345869197567595,2.842420255262726,2.859718327403061,2.8803633924703425,2.904489647179708,2.9393553449591505,2.9797811337539652,3.030419094753927,3.086004892537889,3.152758866053472,3.2300004843708185,3.321521733376217,3.421456711755211,3.5378320819155733,3.6704635220274824,3.821132705887355,3.9926598610565605,4.187430773881369,4.405304291220641,4.649713992672852,4.914299760844615,5.197283755451493],\"type\":\"scatter\"}],                        {\"legend\":{\"bgcolor\":\"#F5F6F9\",\"font\":{\"color\":\"#4D5663\"}},\"paper_bgcolor\":\"#F5F6F9\",\"plot_bgcolor\":\"#F5F6F9\",\"yaxis\":{\"tickfont\":{\"color\":\"#4D5663\"},\"gridcolor\":\"#E1E5ED\",\"titlefont\":{\"color\":\"#4D5663\"},\"zerolinecolor\":\"#E1E5ED\",\"showgrid\":true,\"title\":\"mean_squared_error\"},\"xaxis\":{\"tickfont\":{\"color\":\"#4D5663\"},\"gridcolor\":\"#E1E5ED\",\"titlefont\":{\"color\":\"#4D5663\"},\"zerolinecolor\":\"#E1E5ED\",\"showgrid\":true,\"title\":\"alpha\"},\"titlefont\":{\"color\":\"#4D5663\"},\"title\":\"BOW Counts - mean_squared_error as a function of the Regularization strength (alpha)\",\"shapes\":[{\"x0\":0,\"y0\":[0,0],\"x1\":1,\"y1\":[0,0],\"line\":{\"color\":\"#db4052\",\"width\":1,\"dash\":\"solid\"},\"xref\":\"paper\",\"yref\":\"y\",\"type\":\"line\"}]},                        {\"showLink\": true, \"linkText\": \"Export to plot.ly\", \"plotlyServerURL\": \"https://plot.ly\", \"responsive\": true}                    ).then(function(){\n",
       "                            \n",
       "var gd = document.getElementById('c2281d29-65fc-43ac-9721-62ab9b91d71e');\n",
       "var x = new MutationObserver(function (mutations, observer) {{\n",
       "        var display = window.getComputedStyle(gd).display;\n",
       "        if (!display || display === 'none') {{\n",
       "            console.log([gd, 'removed!']);\n",
       "            Plotly.purge(gd);\n",
       "            observer.disconnect();\n",
       "        }}\n",
       "}});\n",
       "\n",
       "// Listen for the removal of the full notebook cells\n",
       "var notebookContainer = gd.closest('#notebook-container');\n",
       "if (notebookContainer) {{\n",
       "    x.observe(notebookContainer, {childList: true});\n",
       "}}\n",
       "\n",
       "// Listen for the clearing of the current output cell\n",
       "var outputEl = gd.closest('.output');\n",
       "if (outputEl) {{\n",
       "    x.observe(outputEl, {childList: true});\n",
       "}}\n",
       "\n",
       "                        })                };                });            </script>        </div>"
      ]
     },
     "metadata": {},
     "output_type": "display_data"
    }
   ],
   "source": [
    "cv_results = DataFrame(mse_by_alpha, columns = ['alpha', 'mean_squared_error'])\n",
    "cv_results.mean_squared_error.iplot(title = 'BOW Counts - mean_squared_error as a function of the Regularization strength (alpha)', xTitle = 'alpha', yTitle = 'mean_squared_error', width = 3, hline=(0,0))"
   ]
  },
  {
   "cell_type": "code",
   "execution_count": 67,
   "metadata": {},
   "outputs": [
    {
     "name": "stdout",
     "output_type": "stream",
     "text": [
      "11.513953993264469 2.826841228104473\n"
     ]
    }
   ],
   "source": [
    "opt_alpha, min_mean_squared_error = cv_results.loc[cv_results.mean_squared_error.idxmin()]\n",
    "print(opt_alpha, min_mean_squared_error)"
   ]
  },
  {
   "cell_type": "code",
   "execution_count": 68,
   "metadata": {},
   "outputs": [
    {
     "data": {
      "text/plain": [
       "Ridge(alpha=11.513953993264469, max_iter=10000, tol=0.0001)"
      ]
     },
     "execution_count": 68,
     "metadata": {},
     "output_type": "execute_result"
    }
   ],
   "source": [
    "model = Ridge(alpha = opt_alpha, tol=0.0001, max_iter=10000)\n",
    "model.fit(train_united_features, df.y)"
   ]
  },
  {
   "cell_type": "code",
   "execution_count": 69,
   "metadata": {},
   "outputs": [],
   "source": [
    "df['predicted_score_extended_NLP'] = model.predict(train_united_features)"
   ]
  },
  {
   "cell_type": "code",
   "execution_count": 70,
   "metadata": {},
   "outputs": [
    {
     "data": {
      "text/plain": [
       "MSE    2.489510\n",
       "MAE    1.238033\n",
       "R2     0.739756\n",
       "dtype: float64"
      ]
     },
     "execution_count": 70,
     "metadata": {},
     "output_type": "execute_result"
    }
   ],
   "source": [
    "extended_NLP_stats = calc_prediction_quality(df, 'predicted_score_extended_NLP','y')\n",
    "extended_NLP_stats"
   ]
  },
  {
   "cell_type": "code",
   "execution_count": 71,
   "metadata": {},
   "outputs": [
    {
     "data": {
      "text/html": [
       "<div>\n",
       "<style scoped>\n",
       "    .dataframe tbody tr th:only-of-type {\n",
       "        vertical-align: middle;\n",
       "    }\n",
       "\n",
       "    .dataframe tbody tr th {\n",
       "        vertical-align: top;\n",
       "    }\n",
       "\n",
       "    .dataframe thead th {\n",
       "        text-align: right;\n",
       "    }\n",
       "</style>\n",
       "<table border=\"1\" class=\"dataframe\">\n",
       "  <thead>\n",
       "    <tr style=\"text-align: right;\">\n",
       "      <th></th>\n",
       "      <th>MSE</th>\n",
       "      <th>MAE</th>\n",
       "      <th>R2</th>\n",
       "    </tr>\n",
       "  </thead>\n",
       "  <tbody>\n",
       "    <tr>\n",
       "      <th>baseline_1</th>\n",
       "      <td>9.684853</td>\n",
       "      <td>2.558104</td>\n",
       "      <td>-0.000009</td>\n",
       "    </tr>\n",
       "    <tr>\n",
       "      <th>baseline_2</th>\n",
       "      <td>9.168517</td>\n",
       "      <td>2.481975</td>\n",
       "      <td>0.053305</td>\n",
       "    </tr>\n",
       "    <tr>\n",
       "      <th>baseline_3</th>\n",
       "      <td>8.599106</td>\n",
       "      <td>2.382239</td>\n",
       "      <td>0.112099</td>\n",
       "    </tr>\n",
       "    <tr>\n",
       "      <th>regression_by_xgb</th>\n",
       "      <td>6.375198</td>\n",
       "      <td>1.912409</td>\n",
       "      <td>0.341729</td>\n",
       "    </tr>\n",
       "    <tr>\n",
       "      <th>NLP_desc_stats</th>\n",
       "      <td>2.571613</td>\n",
       "      <td>1.266684</td>\n",
       "      <td>0.731173</td>\n",
       "    </tr>\n",
       "    <tr>\n",
       "      <th>extended_NLP_stats</th>\n",
       "      <td>2.489510</td>\n",
       "      <td>1.238033</td>\n",
       "      <td>0.739756</td>\n",
       "    </tr>\n",
       "  </tbody>\n",
       "</table>\n",
       "</div>"
      ],
      "text/plain": [
       "                         MSE       MAE        R2\n",
       "baseline_1          9.684853  2.558104 -0.000009\n",
       "baseline_2          9.168517  2.481975  0.053305\n",
       "baseline_3          8.599106  2.382239  0.112099\n",
       "regression_by_xgb   6.375198  1.912409  0.341729\n",
       "NLP_desc_stats      2.571613  1.266684  0.731173\n",
       "extended_NLP_stats  2.489510  1.238033  0.739756"
      ]
     },
     "execution_count": 71,
     "metadata": {},
     "output_type": "execute_result"
    }
   ],
   "source": [
    "all_compared = pd.DataFrame([b1_stats, b2_stats, b3_stats, xgb_stats, NLP_desc_stats, extended_NLP_stats], index=['baseline_1', 'baseline_2','baseline_3','regression_by_xgb', 'NLP_desc_stats', 'extended_NLP_stats'])\n",
    "all_compared"
   ]
  },
  {
   "cell_type": "markdown",
   "metadata": {},
   "source": [
    "Adding more features to the text resulted in improvement MSE (as well as on the other metrics). This is the expected result as we added more features to the model. The improvement is not significant though."
   ]
  },
  {
   "cell_type": "code",
   "execution_count": 72,
   "metadata": {},
   "outputs": [],
   "source": [
    "all_compared.to_csv('data/all_models_compared.csv', index=False)"
   ]
  },
  {
   "cell_type": "markdown",
   "metadata": {},
   "source": [
    "## Deep Learning approaches"
   ]
  },
  {
   "cell_type": "markdown",
   "metadata": {},
   "source": [
    "### Fully connected network on the 'description' text feature only"
   ]
  },
  {
   "cell_type": "markdown",
   "metadata": {},
   "source": [
    "#### (1) Internal embedding layer + average pooling"
   ]
  },
  {
   "cell_type": "markdown",
   "metadata": {},
   "source": [
    "##### Tokenization and vectorization:"
   ]
  },
  {
   "cell_type": "code",
   "execution_count": 73,
   "metadata": {},
   "outputs": [],
   "source": [
    "import tensorflow as tf\n",
    "from tensorflow.keras.layers import TextVectorization, Embedding, Dense, GlobalAveragePooling1D, Dropout\n",
    "from tensorflow.keras.callbacks import EarlyStopping"
   ]
  },
  {
   "cell_type": "markdown",
   "metadata": {},
   "source": [
    "What is a good size for the vocabulary? "
   ]
  },
  {
   "cell_type": "code",
   "execution_count": 74,
   "metadata": {},
   "outputs": [
    {
     "data": {
      "text/plain": [
       "0.95    60.0\n",
       "0.99    72.0\n",
       "Name: description, dtype: float64"
      ]
     },
     "execution_count": 74,
     "metadata": {},
     "output_type": "execute_result"
    }
   ],
   "source": [
    "wine_reviews.description.apply(lambda x: len(x.split(' '))).quantile([0.95, 0.99])"
   ]
  },
  {
   "cell_type": "code",
   "execution_count": 75,
   "metadata": {},
   "outputs": [],
   "source": [
    "vocab_size = 32000\n",
    "sequence_length = 72\n",
    "\n",
    "# Use the text vectorization layer to normalize, split, and map strings to integers. \n",
    "# Set maximum_sequence length as all samples are not of the same length.\n",
    "vectorize_layer = TextVectorization(\n",
    "    #standardize=lambda text: tf.strings.lower(text), # You can use your own normalization function here\n",
    "    standardize='lower_and_strip_punctuation', # Or you can use a pre-made normalization function\n",
    "    max_tokens=vocab_size,    \n",
    "    split='whitespace',\n",
    "    output_mode='int',\n",
    "    name = 'Text_processing',\n",
    "    output_sequence_length=sequence_length)"
   ]
  },
  {
   "cell_type": "markdown",
   "metadata": {},
   "source": [
    "Computing the vocabulary of the TextVectorization layer based on the 'description' variable:\n"
   ]
  },
  {
   "cell_type": "code",
   "execution_count": 76,
   "metadata": {},
   "outputs": [],
   "source": [
    "vectorize_layer.adapt(train_data['description'])"
   ]
  },
  {
   "cell_type": "code",
   "execution_count": 77,
   "metadata": {},
   "outputs": [
    {
     "name": "stdout",
     "output_type": "stream",
     "text": [
      "Pretty full-bodied for a rosé, with a copper-pink color and upfront red currant, raspberry cream, vanilla and cinnamon flavors that finish a little sweet. The acidity is just fine. Nice with charcuterie.\n"
     ]
    }
   ],
   "source": [
    "sample_description = train_data['description'].sample().iloc[0]\n",
    "print(sample_description)"
   ]
  },
  {
   "cell_type": "code",
   "execution_count": 78,
   "metadata": {},
   "outputs": [
    {
     "data": {
      "text/plain": [
       "<tf.Tensor: shape=(72,), dtype=int64, numpy=\n",
       "array([ 227,  146,   31,    4,  386,    6,    4, 7603,  176,    2, 1054,\n",
       "         34,  123,   74,  565,   64,    2,  213,   11,   19,   20,    4,\n",
       "        185,   51,    3,   21,    8,  104,  114,  260,    6, 3416,    0,\n",
       "          0,    0,    0,    0,    0,    0,    0,    0,    0,    0,    0,\n",
       "          0,    0,    0,    0,    0,    0,    0,    0,    0,    0,    0,\n",
       "          0,    0,    0,    0,    0,    0,    0,    0,    0,    0,    0,\n",
       "          0,    0,    0,    0,    0,    0], dtype=int64)>"
      ]
     },
     "execution_count": 78,
     "metadata": {},
     "output_type": "execute_result"
    }
   ],
   "source": [
    "vectorize_layer(sample_description)"
   ]
  },
  {
   "cell_type": "code",
   "execution_count": 79,
   "metadata": {},
   "outputs": [
    {
     "data": {
      "text/plain": [
       "array([ 227,  146,   31,    4,  386,    6,    4, 7603,  176,    2, 1054,\n",
       "         34,  123,   74,  565,   64,    2,  213,   11,   19], dtype=int64)"
      ]
     },
     "execution_count": 79,
     "metadata": {},
     "output_type": "execute_result"
    }
   ],
   "source": [
    "vectorize_layer(sample_description).numpy()[:20]"
   ]
  },
  {
   "cell_type": "code",
   "execution_count": 80,
   "metadata": {},
   "outputs": [
    {
     "name": "stdout",
     "output_type": "stream",
     "text": [
      "227 --->  pretty\n",
      "146 --->  fullbodied\n",
      "31 --->  for\n",
      "4 --->  a\n",
      "386 --->  rosé\n",
      "6 --->  with\n",
      "4 --->  a\n",
      "7603 --->  copperpink\n",
      "176 --->  color\n",
      "2 --->  and\n",
      "1054 --->  upfront\n",
      "34 --->  red\n",
      "123 --->  currant\n",
      "74 --->  raspberry\n",
      "565 --->  cream\n",
      "64 --->  vanilla\n",
      "2 --->  and\n",
      "213 --->  cinnamon\n",
      "11 --->  flavors\n",
      "19 --->  that\n"
     ]
    }
   ],
   "source": [
    "for token in vectorize_layer(sample_description).numpy()[:20]:\n",
    "    print(f\"{token} ---> \",vectorize_layer.get_vocabulary()[token])"
   ]
  },
  {
   "cell_type": "markdown",
   "metadata": {},
   "source": [
    "##### Modeling (Sequential API):"
   ]
  },
  {
   "cell_type": "markdown",
   "metadata": {},
   "source": [
    "Total model parameters: 514,953"
   ]
  },
  {
   "cell_type": "code",
   "execution_count": 81,
   "metadata": {},
   "outputs": [],
   "source": [
    "embedding_dim=16\n",
    "\n",
    "model = tf.keras.Sequential([\n",
    "    tf.keras.Input(shape=(1,), dtype=tf.string),\n",
    "    vectorize_layer,\n",
    "    Embedding(vocab_size, embedding_dim, name=\"embedding\"),\n",
    "    GlobalAveragePooling1D(),\n",
    "    Dense(164, activation='tanh', name='hidden_layer'),\n",
    "    Dropout(0.2),\n",
    "    Dense(1, name = 'output_layer')\n",
    "])"
   ]
  },
  {
   "cell_type": "code",
   "execution_count": 82,
   "metadata": {},
   "outputs": [
    {
     "name": "stdout",
     "output_type": "stream",
     "text": [
      "Model: \"sequential\"\n",
      "_________________________________________________________________\n",
      " Layer (type)                Output Shape              Param #   \n",
      "=================================================================\n",
      " Text_processing (TextVector  (None, 72)               0         \n",
      " ization)                                                        \n",
      "                                                                 \n",
      " embedding (Embedding)       (None, 72, 16)            512000    \n",
      "                                                                 \n",
      " global_average_pooling1d (G  (None, 16)               0         \n",
      " lobalAveragePooling1D)                                          \n",
      "                                                                 \n",
      " hidden_layer (Dense)        (None, 164)               2788      \n",
      "                                                                 \n",
      " dropout (Dropout)           (None, 164)               0         \n",
      "                                                                 \n",
      " output_layer (Dense)        (None, 1)                 165       \n",
      "                                                                 \n",
      "=================================================================\n",
      "Total params: 514,953\n",
      "Trainable params: 514,953\n",
      "Non-trainable params: 0\n",
      "_________________________________________________________________\n"
     ]
    }
   ],
   "source": [
    "model.summary()"
   ]
  },
  {
   "cell_type": "code",
   "execution_count": 83,
   "metadata": {},
   "outputs": [
    {
     "data": {
      "image/png": "[encoded data removed]",
      "text/plain": [
       "<IPython.core.display.Image object>"
      ]
     },
     "execution_count": 83,
     "metadata": {},
     "output_type": "execute_result"
    }
   ],
   "source": [
    "tf.keras.utils.plot_model(model, show_dtype=False, show_shapes=True, show_layer_names=True)"
   ]
  },
  {
   "cell_type": "code",
   "execution_count": 84,
   "metadata": {},
   "outputs": [],
   "source": [
    "model.compile(\n",
    "    optimizer=tf.optimizers.Adam(), loss='mean_absolute_error', metrics=['mean_squared_error','mean_absolute_error'])"
   ]
  },
  {
   "cell_type": "code",
   "execution_count": 85,
   "metadata": {},
   "outputs": [
    {
     "data": {
      "text/plain": [
       "(95990, 13)"
      ]
     },
     "execution_count": 85,
     "metadata": {},
     "output_type": "execute_result"
    }
   ],
   "source": [
    "train_data.shape"
   ]
  },
  {
   "cell_type": "code",
   "execution_count": 86,
   "metadata": {},
   "outputs": [
    {
     "name": "stdout",
     "output_type": "stream",
     "text": [
      "Epoch 1/20\n",
      "750/750 [==============================] - 17s 21ms/step - loss: 22.2830 - mean_squared_error: 1380.5846 - mean_absolute_error: 22.2830 - val_loss: 2.5498 - val_mean_squared_error: 9.7179 - val_mean_absolute_error: 2.5498\n",
      "Epoch 2/20\n",
      "750/750 [==============================] - 15s 20ms/step - loss: 3.5661 - mean_squared_error: 19.8993 - mean_absolute_error: 3.5661 - val_loss: 1.8763 - val_mean_squared_error: 5.4466 - val_mean_absolute_error: 1.8763\n",
      "Epoch 3/20\n",
      "750/750 [==============================] - 15s 20ms/step - loss: 3.1819 - mean_squared_error: 15.9251 - mean_absolute_error: 3.1819 - val_loss: 1.5270 - val_mean_squared_error: 3.7028 - val_mean_absolute_error: 1.5270\n",
      "Epoch 4/20\n",
      "750/750 [==============================] - 15s 20ms/step - loss: 3.1027 - mean_squared_error: 15.1897 - mean_absolute_error: 3.1027 - val_loss: 1.4597 - val_mean_squared_error: 3.4005 - val_mean_absolute_error: 1.4597\n",
      "Epoch 5/20\n",
      "750/750 [==============================] - 15s 20ms/step - loss: 3.0783 - mean_squared_error: 14.8887 - mean_absolute_error: 3.0783 - val_loss: 1.4367 - val_mean_squared_error: 3.2824 - val_mean_absolute_error: 1.4367\n",
      "Epoch 6/20\n",
      "750/750 [==============================] - 15s 20ms/step - loss: 3.0706 - mean_squared_error: 14.8253 - mean_absolute_error: 3.0706 - val_loss: 1.4063 - val_mean_squared_error: 3.1733 - val_mean_absolute_error: 1.4063\n",
      "Epoch 7/20\n",
      "750/750 [==============================] - 15s 20ms/step - loss: 3.0489 - mean_squared_error: 14.6230 - mean_absolute_error: 3.0489 - val_loss: 1.3905 - val_mean_squared_error: 3.0891 - val_mean_absolute_error: 1.3905\n",
      "Epoch 8/20\n",
      "750/750 [==============================] - 15s 19ms/step - loss: 3.0293 - mean_squared_error: 14.4330 - mean_absolute_error: 3.0293 - val_loss: 1.3916 - val_mean_squared_error: 3.1070 - val_mean_absolute_error: 1.3916\n",
      "Epoch 9/20\n",
      "750/750 [==============================] - 15s 19ms/step - loss: 3.0145 - mean_squared_error: 14.3321 - mean_absolute_error: 3.0145 - val_loss: 1.3735 - val_mean_squared_error: 3.0236 - val_mean_absolute_error: 1.3735\n",
      "Epoch 10/20\n",
      "750/750 [==============================] - 15s 20ms/step - loss: 2.9990 - mean_squared_error: 14.1692 - mean_absolute_error: 2.9990 - val_loss: 1.3737 - val_mean_squared_error: 3.0381 - val_mean_absolute_error: 1.3737\n",
      "Epoch 11/20\n",
      "750/750 [==============================] - 15s 20ms/step - loss: 2.9976 - mean_squared_error: 14.1512 - mean_absolute_error: 2.9976 - val_loss: 1.3652 - val_mean_squared_error: 2.9996 - val_mean_absolute_error: 1.3652\n",
      "Epoch 12/20\n",
      "750/750 [==============================] - 15s 19ms/step - loss: 2.9801 - mean_squared_error: 13.9872 - mean_absolute_error: 2.9801 - val_loss: 1.3783 - val_mean_squared_error: 3.0396 - val_mean_absolute_error: 1.3783\n",
      "Epoch 13/20\n",
      "750/750 [==============================] - 15s 20ms/step - loss: 2.9584 - mean_squared_error: 13.8142 - mean_absolute_error: 2.9584 - val_loss: 1.3578 - val_mean_squared_error: 2.9745 - val_mean_absolute_error: 1.3578\n",
      "Epoch 14/20\n",
      "750/750 [==============================] - 15s 20ms/step - loss: 2.9704 - mean_squared_error: 13.9174 - mean_absolute_error: 2.9704 - val_loss: 1.3525 - val_mean_squared_error: 2.9417 - val_mean_absolute_error: 1.3525\n",
      "Epoch 15/20\n",
      "750/750 [==============================] - 15s 20ms/step - loss: 2.9483 - mean_squared_error: 13.6778 - mean_absolute_error: 2.9483 - val_loss: 1.3638 - val_mean_squared_error: 2.9946 - val_mean_absolute_error: 1.3638\n",
      "Epoch 16/20\n",
      "750/750 [==============================] - 15s 20ms/step - loss: 2.9413 - mean_squared_error: 13.6258 - mean_absolute_error: 2.9413 - val_loss: 1.3525 - val_mean_squared_error: 2.9351 - val_mean_absolute_error: 1.3525\n",
      "Epoch 17/20\n",
      "750/750 [==============================] - 14s 19ms/step - loss: 2.9224 - mean_squared_error: 13.4751 - mean_absolute_error: 2.9224 - val_loss: 1.3539 - val_mean_squared_error: 2.9570 - val_mean_absolute_error: 1.3539\n",
      "Epoch 18/20\n",
      "750/750 [==============================] - 15s 20ms/step - loss: 2.9358 - mean_squared_error: 13.5840 - mean_absolute_error: 2.9358 - val_loss: 1.4707 - val_mean_squared_error: 3.4742 - val_mean_absolute_error: 1.4707\n",
      "Wall time: 4min 29s\n"
     ]
    }
   ],
   "source": [
    "%%time\n",
    "text_col, target_col = 'description', 'points'\n",
    "\n",
    "early_stopping_monitor = EarlyStopping(\n",
    "    monitor='val_mean_squared_error',\n",
    "    min_delta=0,\n",
    "    patience=2,\n",
    "    verbose=0,\n",
    "    restore_best_weights=True\n",
    ")\n",
    "\n",
    "history = model.fit(\n",
    "    train_data[text_col],\n",
    "    train_data[target_col],\n",
    "    epochs=20,\n",
    "    batch_size=128,\n",
    "    verbose=1,    \n",
    "    callbacks=[early_stopping_monitor],\n",
    "    validation_data = (test_data[text_col], test_data[target_col]))"
   ]
  },
  {
   "cell_type": "markdown",
   "metadata": {},
   "source": [
    "##### Model evaluation:"
   ]
  },
  {
   "cell_type": "code",
   "execution_count": 87,
   "metadata": {},
   "outputs": [],
   "source": [
    "test_data['predicted_score_fully_connected_NN'] = model.predict(test_data[text_col])"
   ]
  },
  {
   "cell_type": "code",
   "execution_count": 88,
   "metadata": {},
   "outputs": [
    {
     "data": {
      "text/plain": [
       "MSE    2.935073\n",
       "MAE    1.352488\n",
       "R2     0.696939\n",
       "dtype: float64"
      ]
     },
     "execution_count": 88,
     "metadata": {},
     "output_type": "execute_result"
    }
   ],
   "source": [
    "fully_connected_NN_stats = calc_prediction_quality(test_data, 'predicted_score_fully_connected_NN', target_col)\n",
    "fully_connected_NN_stats"
   ]
  },
  {
   "cell_type": "code",
   "execution_count": 89,
   "metadata": {},
   "outputs": [
    {
     "data": {
      "text/html": [
       "<div>\n",
       "<style scoped>\n",
       "    .dataframe tbody tr th:only-of-type {\n",
       "        vertical-align: middle;\n",
       "    }\n",
       "\n",
       "    .dataframe tbody tr th {\n",
       "        vertical-align: top;\n",
       "    }\n",
       "\n",
       "    .dataframe thead th {\n",
       "        text-align: right;\n",
       "    }\n",
       "</style>\n",
       "<table border=\"1\" class=\"dataframe\">\n",
       "  <thead>\n",
       "    <tr style=\"text-align: right;\">\n",
       "      <th></th>\n",
       "      <th>MSE</th>\n",
       "      <th>MAE</th>\n",
       "      <th>R2</th>\n",
       "    </tr>\n",
       "  </thead>\n",
       "  <tbody>\n",
       "    <tr>\n",
       "      <th>baseline_1</th>\n",
       "      <td>9.684853</td>\n",
       "      <td>2.558104</td>\n",
       "      <td>-0.000009</td>\n",
       "    </tr>\n",
       "    <tr>\n",
       "      <th>baseline_2</th>\n",
       "      <td>9.168517</td>\n",
       "      <td>2.481975</td>\n",
       "      <td>0.053305</td>\n",
       "    </tr>\n",
       "    <tr>\n",
       "      <th>baseline_3</th>\n",
       "      <td>8.599106</td>\n",
       "      <td>2.382239</td>\n",
       "      <td>0.112099</td>\n",
       "    </tr>\n",
       "    <tr>\n",
       "      <th>regression_by_xgb</th>\n",
       "      <td>6.375198</td>\n",
       "      <td>1.912409</td>\n",
       "      <td>0.341729</td>\n",
       "    </tr>\n",
       "    <tr>\n",
       "      <th>NLP_desc_stats</th>\n",
       "      <td>2.571613</td>\n",
       "      <td>1.266684</td>\n",
       "      <td>0.731173</td>\n",
       "    </tr>\n",
       "    <tr>\n",
       "      <th>extended_NLP_stats</th>\n",
       "      <td>2.489510</td>\n",
       "      <td>1.238033</td>\n",
       "      <td>0.739756</td>\n",
       "    </tr>\n",
       "    <tr>\n",
       "      <th>fully_connected_NN</th>\n",
       "      <td>2.935073</td>\n",
       "      <td>1.352488</td>\n",
       "      <td>0.696939</td>\n",
       "    </tr>\n",
       "  </tbody>\n",
       "</table>\n",
       "</div>"
      ],
      "text/plain": [
       "                         MSE       MAE        R2\n",
       "baseline_1          9.684853  2.558104 -0.000009\n",
       "baseline_2          9.168517  2.481975  0.053305\n",
       "baseline_3          8.599106  2.382239  0.112099\n",
       "regression_by_xgb   6.375198  1.912409  0.341729\n",
       "NLP_desc_stats      2.571613  1.266684  0.731173\n",
       "extended_NLP_stats  2.489510  1.238033  0.739756\n",
       "fully_connected_NN  2.935073  1.352488  0.696939"
      ]
     },
     "execution_count": 89,
     "metadata": {},
     "output_type": "execute_result"
    }
   ],
   "source": [
    "all_compared = pd.DataFrame([b1_stats, b2_stats, b3_stats, xgb_stats, NLP_desc_stats, extended_NLP_stats, fully_connected_NN_stats], index=['baseline_1', 'baseline_2','baseline_3','regression_by_xgb', 'NLP_desc_stats', 'extended_NLP_stats', 'fully_connected_NN'])\n",
    "all_compared"
   ]
  },
  {
   "cell_type": "code",
   "execution_count": 90,
   "metadata": {},
   "outputs": [],
   "source": [
    "all_compared.to_csv('data/all_models_compared.csv', index=False)"
   ]
  },
  {
   "cell_type": "markdown",
   "metadata": {},
   "source": [
    "#### (2) Fully connected NN with internal embedding and concatination (instead of average pooling)"
   ]
  },
  {
   "cell_type": "markdown",
   "metadata": {},
   "source": [
    "The concatination is performed by reshaping of the outputs of the embedding layer to 1D vector"
   ]
  },
  {
   "cell_type": "markdown",
   "metadata": {},
   "source": [
    "##### Modeling (Sequential API):"
   ]
  },
  {
   "cell_type": "markdown",
   "metadata": {},
   "source": [
    "Total model parameters: 701,257"
   ]
  },
  {
   "cell_type": "code",
   "execution_count": 91,
   "metadata": {},
   "outputs": [],
   "source": [
    "from tensorflow.keras.layers import Reshape, Dense, Dropout\n",
    "from tensorflow.keras import Sequential"
   ]
  },
  {
   "cell_type": "code",
   "execution_count": 92,
   "metadata": {},
   "outputs": [],
   "source": [
    "embedding_dim=16\n",
    "\n",
    "model = tf.keras.Sequential([\n",
    "    tf.keras.Input(shape=(1,), dtype=tf.string),\n",
    "    vectorize_layer,\n",
    "    Embedding(vocab_size, embedding_dim, name=\"embedding\"),\n",
    "    Reshape((embedding_dim * sequence_length, ), name='concat_words'),\n",
    "    Dense(164, activation='tanh', name='hidden_layer'),\n",
    "    Dropout(0.7),\n",
    "    Dense(1, activation='linear', name = 'output_layer')\n",
    "])"
   ]
  },
  {
   "cell_type": "code",
   "execution_count": 93,
   "metadata": {},
   "outputs": [
    {
     "name": "stdout",
     "output_type": "stream",
     "text": [
      "Model: \"sequential_1\"\n",
      "_________________________________________________________________\n",
      " Layer (type)                Output Shape              Param #   \n",
      "=================================================================\n",
      " Text_processing (TextVector  (None, 72)               0         \n",
      " ization)                                                        \n",
      "                                                                 \n",
      " embedding (Embedding)       (None, 72, 16)            512000    \n",
      "                                                                 \n",
      " concat_words (Reshape)      (None, 1152)              0         \n",
      "                                                                 \n",
      " hidden_layer (Dense)        (None, 164)               189092    \n",
      "                                                                 \n",
      " dropout_1 (Dropout)         (None, 164)               0         \n",
      "                                                                 \n",
      " output_layer (Dense)        (None, 1)                 165       \n",
      "                                                                 \n",
      "=================================================================\n",
      "Total params: 701,257\n",
      "Trainable params: 701,257\n",
      "Non-trainable params: 0\n",
      "_________________________________________________________________\n"
     ]
    }
   ],
   "source": [
    "model.summary()"
   ]
  },
  {
   "cell_type": "code",
   "execution_count": 94,
   "metadata": {},
   "outputs": [],
   "source": [
    "model.compile(\n",
    "    optimizer=tf.optimizers.Adam(), loss='mean_absolute_error', metrics=['mean_squared_error','mean_absolute_error'])"
   ]
  },
  {
   "cell_type": "code",
   "execution_count": 95,
   "metadata": {},
   "outputs": [
    {
     "data": {
      "image/png": "[encoded data removed]",
      "text/plain": [
       "<IPython.core.display.Image object>"
      ]
     },
     "execution_count": 95,
     "metadata": {},
     "output_type": "execute_result"
    }
   ],
   "source": [
    "tf.keras.utils.plot_model(model, show_dtype=True, show_shapes=True, show_layer_names=True)"
   ]
  },
  {
   "cell_type": "code",
   "execution_count": 96,
   "metadata": {},
   "outputs": [
    {
     "name": "stdout",
     "output_type": "stream",
     "text": [
      "Epoch 1/20\n",
      "750/750 [==============================] - 17s 22ms/step - loss: 24.3496 - mean_squared_error: 1092.7155 - mean_absolute_error: 24.3496 - val_loss: 2.7028 - val_mean_squared_error: 11.3856 - val_mean_absolute_error: 2.7028\n",
      "Epoch 2/20\n",
      "750/750 [==============================] - 16s 21ms/step - loss: 8.6952 - mean_squared_error: 118.3838 - mean_absolute_error: 8.6952 - val_loss: 2.7042 - val_mean_squared_error: 11.4081 - val_mean_absolute_error: 2.7042\n",
      "Epoch 3/20\n",
      "750/750 [==============================] - 16s 21ms/step - loss: 8.6735 - mean_squared_error: 117.9226 - mean_absolute_error: 8.6735 - val_loss: 2.6124 - val_mean_squared_error: 10.3889 - val_mean_absolute_error: 2.6124\n",
      "Epoch 4/20\n",
      "750/750 [==============================] - 16s 21ms/step - loss: 8.6432 - mean_squared_error: 116.9605 - mean_absolute_error: 8.6432 - val_loss: 2.7496 - val_mean_squared_error: 11.8898 - val_mean_absolute_error: 2.7496\n",
      "Epoch 5/20\n",
      "750/750 [==============================] - 15s 21ms/step - loss: 8.6272 - mean_squared_error: 116.5321 - mean_absolute_error: 8.6272 - val_loss: 2.6443 - val_mean_squared_error: 10.6939 - val_mean_absolute_error: 2.6443\n",
      "Wall time: 1min 20s\n"
     ]
    }
   ],
   "source": [
    "%%time\n",
    "text_col, target_col = 'description', 'points'\n",
    "\n",
    "early_stopping_monitor = EarlyStopping(\n",
    "    monitor='val_mean_squared_error',\n",
    "    min_delta=0,\n",
    "    patience=2,\n",
    "    verbose=0,\n",
    "    restore_best_weights=True\n",
    ")\n",
    "\n",
    "history = model.fit(\n",
    "    train_data[text_col],\n",
    "    train_data[target_col],\n",
    "    epochs=20,\n",
    "    batch_size=128,\n",
    "    verbose=1,    \n",
    "    callbacks=[early_stopping_monitor],\n",
    "    validation_data = (test_data[text_col], test_data[target_col]))"
   ]
  },
  {
   "cell_type": "markdown",
   "metadata": {},
   "source": [
    "##### Model evaluation:"
   ]
  },
  {
   "cell_type": "code",
   "execution_count": 97,
   "metadata": {},
   "outputs": [],
   "source": [
    "test_data['predicted_score_FC_NN_concatinated_words'] = model.predict(test_data[text_col])"
   ]
  },
  {
   "cell_type": "code",
   "execution_count": 98,
   "metadata": {},
   "outputs": [
    {
     "data": {
      "text/plain": [
       "MSE    10.388935\n",
       "MAE     2.612426\n",
       "R2     -0.072709\n",
       "dtype: float64"
      ]
     },
     "execution_count": 98,
     "metadata": {},
     "output_type": "execute_result"
    }
   ],
   "source": [
    "fully_connected_NN_concatinated_words_stats = calc_prediction_quality(test_data, 'predicted_score_FC_NN_concatinated_words', target_col)\n",
    "fully_connected_NN_concatinated_words_stats"
   ]
  },
  {
   "cell_type": "code",
   "execution_count": 99,
   "metadata": {},
   "outputs": [
    {
     "data": {
      "text/html": [
       "<div>\n",
       "<style scoped>\n",
       "    .dataframe tbody tr th:only-of-type {\n",
       "        vertical-align: middle;\n",
       "    }\n",
       "\n",
       "    .dataframe tbody tr th {\n",
       "        vertical-align: top;\n",
       "    }\n",
       "\n",
       "    .dataframe thead th {\n",
       "        text-align: right;\n",
       "    }\n",
       "</style>\n",
       "<table border=\"1\" class=\"dataframe\">\n",
       "  <thead>\n",
       "    <tr style=\"text-align: right;\">\n",
       "      <th></th>\n",
       "      <th>MSE</th>\n",
       "      <th>MAE</th>\n",
       "      <th>R2</th>\n",
       "    </tr>\n",
       "  </thead>\n",
       "  <tbody>\n",
       "    <tr>\n",
       "      <th>baseline_1</th>\n",
       "      <td>9.684853</td>\n",
       "      <td>2.558104</td>\n",
       "      <td>-0.000009</td>\n",
       "    </tr>\n",
       "    <tr>\n",
       "      <th>baseline_2</th>\n",
       "      <td>9.168517</td>\n",
       "      <td>2.481975</td>\n",
       "      <td>0.053305</td>\n",
       "    </tr>\n",
       "    <tr>\n",
       "      <th>baseline_3</th>\n",
       "      <td>8.599106</td>\n",
       "      <td>2.382239</td>\n",
       "      <td>0.112099</td>\n",
       "    </tr>\n",
       "    <tr>\n",
       "      <th>regression_by_xgb</th>\n",
       "      <td>6.375198</td>\n",
       "      <td>1.912409</td>\n",
       "      <td>0.341729</td>\n",
       "    </tr>\n",
       "    <tr>\n",
       "      <th>NLP_desc_stats</th>\n",
       "      <td>2.571613</td>\n",
       "      <td>1.266684</td>\n",
       "      <td>0.731173</td>\n",
       "    </tr>\n",
       "    <tr>\n",
       "      <th>extended_NLP_stats</th>\n",
       "      <td>2.489510</td>\n",
       "      <td>1.238033</td>\n",
       "      <td>0.739756</td>\n",
       "    </tr>\n",
       "    <tr>\n",
       "      <th>fully_connected_NN</th>\n",
       "      <td>2.935073</td>\n",
       "      <td>1.352488</td>\n",
       "      <td>0.696939</td>\n",
       "    </tr>\n",
       "    <tr>\n",
       "      <th>fully_connected_NN_concatinated_words</th>\n",
       "      <td>10.388935</td>\n",
       "      <td>2.612426</td>\n",
       "      <td>-0.072709</td>\n",
       "    </tr>\n",
       "  </tbody>\n",
       "</table>\n",
       "</div>"
      ],
      "text/plain": [
       "                                             MSE       MAE        R2\n",
       "baseline_1                              9.684853  2.558104 -0.000009\n",
       "baseline_2                              9.168517  2.481975  0.053305\n",
       "baseline_3                              8.599106  2.382239  0.112099\n",
       "regression_by_xgb                       6.375198  1.912409  0.341729\n",
       "NLP_desc_stats                          2.571613  1.266684  0.731173\n",
       "extended_NLP_stats                      2.489510  1.238033  0.739756\n",
       "fully_connected_NN                      2.935073  1.352488  0.696939\n",
       "fully_connected_NN_concatinated_words  10.388935  2.612426 -0.072709"
      ]
     },
     "execution_count": 99,
     "metadata": {},
     "output_type": "execute_result"
    }
   ],
   "source": [
    "all_compared = pd.DataFrame([b1_stats, b2_stats, b3_stats, xgb_stats, NLP_desc_stats, extended_NLP_stats, fully_connected_NN_stats, fully_connected_NN_concatinated_words_stats], index=['baseline_1', 'baseline_2','baseline_3','regression_by_xgb', 'NLP_desc_stats', 'extended_NLP_stats', 'fully_connected_NN', 'fully_connected_NN_concatinated_words'])\n",
    "all_compared"
   ]
  },
  {
   "cell_type": "markdown",
   "metadata": {},
   "source": [
    "By concatinating the embedding output vectors, instead of average pooling, we increased the number of parameters from 514,953 to 701,257 which increases the risk for overfitting. This may explain the degradation we see across the evaluation metrics.  "
   ]
  },
  {
   "cell_type": "code",
   "execution_count": 100,
   "metadata": {},
   "outputs": [],
   "source": [
    "all_compared.to_csv('data/all_models_compared.csv', index=False)"
   ]
  },
  {
   "cell_type": "markdown",
   "metadata": {},
   "source": [
    "#### (3) Fully connected network, using the external GloVe embedding"
   ]
  },
  {
   "cell_type": "code",
   "execution_count": 101,
   "metadata": {},
   "outputs": [],
   "source": [
    "import os"
   ]
  },
  {
   "cell_type": "markdown",
   "metadata": {},
   "source": [
    "##### Creating a dictionary with the pre-trained GloVe word embeddings:"
   ]
  },
  {
   "cell_type": "code",
   "execution_count": 102,
   "metadata": {},
   "outputs": [
    {
     "name": "stdout",
     "output_type": "stream",
     "text": [
      "Found 400000 word vectors.\n"
     ]
    }
   ],
   "source": [
    "filename = \"glove.6B.50d.txt\"\n",
    "mypath = os.getcwd()\n",
    "path_to_glove_file = mypath + \"\\\\data\\\\\" + filename\n",
    "path_to_glove_file\n",
    "\n",
    "embeddings_index = {}   # the disctionary storing the GloVe words and their respective embedding vector  \n",
    "with open(path_to_glove_file) as f:\n",
    "    for line in f:\n",
    "        word, coefs = line.split(maxsplit=1)\n",
    "        coefs = np.fromstring(coefs, \"f\", sep=\" \")\n",
    "        embeddings_index[word] = coefs\n",
    "\n",
    "f.close()\n",
    "\n",
    "print(\"Found %s word vectors.\" % len(embeddings_index))"
   ]
  },
  {
   "cell_type": "code",
   "execution_count": 103,
   "metadata": {},
   "outputs": [
    {
     "data": {
      "text/plain": [
       "array([-0.05289  ,  0.26076  , -0.85169  , -0.74672  , -0.71359  ,\n",
       "        0.53861  , -0.34331  , -0.0039209,  0.84767  ,  1.0095   ,\n",
       "       -0.055063 ,  0.10804  ,  0.75691  , -0.67601  ,  0.9791   ,\n",
       "        0.058604 ,  0.052446 ,  0.87095  , -0.093627 , -1.0251   ,\n",
       "        0.71056  ,  0.65858  ,  1.2839   ,  0.43429  ,  0.22294  ,\n",
       "       -1.0757   ,  0.33904  ,  0.67773  ,  1.2916   ,  0.73883  ,\n",
       "        2.2522   ,  0.63342  , -0.45855  , -0.31717  ,  0.25738  ,\n",
       "        0.67247  ,  0.044691 ,  0.37343  ,  0.91146  ,  0.75325  ,\n",
       "       -0.32958  ,  0.31682  , -0.13106  ,  1.0679   ,  0.85072  ,\n",
       "       -0.1199   , -1.0389   , -0.63142  ,  1.0357   , -0.4152   ],\n",
       "      dtype=float32)"
      ]
     },
     "execution_count": 103,
     "metadata": {},
     "output_type": "execute_result"
    }
   ],
   "source": [
    "embeddings_index.get('drinking')"
   ]
  },
  {
   "cell_type": "markdown",
   "metadata": {},
   "source": [
    "Creating a word embedding matrix with a word embedding vector for each word of the wine_reviews vocabulary:"
   ]
  },
  {
   "cell_type": "code",
   "execution_count": 104,
   "metadata": {},
   "outputs": [],
   "source": [
    "embedding_matrix = np.zeros((vocab_size, 50))"
   ]
  },
  {
   "cell_type": "code",
   "execution_count": 105,
   "metadata": {},
   "outputs": [],
   "source": [
    "out_of_glove_vocub = []\n",
    "i = 0\n",
    "for word in vectorize_layer.get_vocabulary():\n",
    "    embedding_vector = embeddings_index.get(word)\n",
    "    if embedding_vector is not None:\n",
    "        # words not found in embedding index will be all-zeros.\n",
    "        embedding_matrix[i] = embedding_vector\n",
    "    else:\n",
    "        out_of_glove_vocub.append((i, vectorize_layer.get_vocabulary()[i]))     # record the words that do not have an embedding   \n",
    "    i = i + 1"
   ]
  },
  {
   "cell_type": "code",
   "execution_count": 106,
   "metadata": {},
   "outputs": [
    {
     "data": {
      "text/plain": [
       "[(0, ''),\n",
       " (1, '[UNK]'),\n",
       " (146, 'fullbodied'),\n",
       " (297, 'mediumbodied'),\n",
       " (448, 'midpalate'),\n",
       " (540, 'offdry'),\n",
       " (545, 'finegrained'),\n",
       " (571, 'blackfruit'),\n",
       " (606, 'winerys'),\n",
       " (632, 'easydrinking')]"
      ]
     },
     "execution_count": 106,
     "metadata": {},
     "output_type": "execute_result"
    }
   ],
   "source": [
    "out_of_glove_vocub[:10]"
   ]
  },
  {
   "cell_type": "markdown",
   "metadata": {},
   "source": [
    "##### Creating the embedding layer:"
   ]
  },
  {
   "cell_type": "code",
   "execution_count": 107,
   "metadata": {},
   "outputs": [],
   "source": [
    "embedding_layer = Embedding(input_dim=vocab_size,\n",
    "                            output_dim=50,\n",
    "                            weights=[embedding_matrix],\n",
    "                            input_length=sequence_length,\n",
    "                            trainable=False)"
   ]
  },
  {
   "cell_type": "markdown",
   "metadata": {},
   "source": [
    "##### Modeling (Sequential API)"
   ]
  },
  {
   "cell_type": "code",
   "execution_count": 108,
   "metadata": {},
   "outputs": [],
   "source": [
    "model = tf.keras.Sequential([\n",
    "    tf.keras.Input(shape=(1,), dtype=tf.string),\n",
    "    vectorize_layer,\n",
    "    embedding_layer,\n",
    "    GlobalAveragePooling1D(),\n",
    "    Dense(164, activation='tanh', name='hidden_layer'),\n",
    "    Dropout(0.2),\n",
    "    Dense(1, name = 'output_layer')\n",
    "])"
   ]
  },
  {
   "cell_type": "code",
   "execution_count": 109,
   "metadata": {},
   "outputs": [
    {
     "name": "stdout",
     "output_type": "stream",
     "text": [
      "Model: \"sequential_2\"\n",
      "_________________________________________________________________\n",
      " Layer (type)                Output Shape              Param #   \n",
      "=================================================================\n",
      " Text_processing (TextVector  (None, 72)               0         \n",
      " ization)                                                        \n",
      "                                                                 \n",
      " embedding (Embedding)       (None, 72, 50)            1600000   \n",
      "                                                                 \n",
      " global_average_pooling1d_1   (None, 50)               0         \n",
      " (GlobalAveragePooling1D)                                        \n",
      "                                                                 \n",
      " hidden_layer (Dense)        (None, 164)               8364      \n",
      "                                                                 \n",
      " dropout_2 (Dropout)         (None, 164)               0         \n",
      "                                                                 \n",
      " output_layer (Dense)        (None, 1)                 165       \n",
      "                                                                 \n",
      "=================================================================\n",
      "Total params: 1,608,529\n",
      "Trainable params: 8,529\n",
      "Non-trainable params: 1,600,000\n",
      "_________________________________________________________________\n"
     ]
    }
   ],
   "source": [
    "model.summary()"
   ]
  },
  {
   "cell_type": "code",
   "execution_count": 110,
   "metadata": {},
   "outputs": [],
   "source": [
    "model.compile(\n",
    "    optimizer=tf.optimizers.Adam(), loss='mean_absolute_error', metrics=['mean_squared_error','mean_absolute_error'])"
   ]
  },
  {
   "cell_type": "code",
   "execution_count": 111,
   "metadata": {},
   "outputs": [
    {
     "name": "stdout",
     "output_type": "stream",
     "text": [
      "Epoch 1/20\n",
      "750/750 [==============================] - 12s 15ms/step - loss: 23.8958 - mean_squared_error: 1356.5234 - mean_absolute_error: 23.8958 - val_loss: 2.4305 - val_mean_squared_error: 10.0182 - val_mean_absolute_error: 2.4305\n",
      "Epoch 2/20\n",
      "750/750 [==============================] - 10s 14ms/step - loss: 3.6157 - mean_squared_error: 20.7928 - mean_absolute_error: 3.6157 - val_loss: 2.3273 - val_mean_squared_error: 8.6461 - val_mean_absolute_error: 2.3273\n",
      "Epoch 3/20\n",
      "750/750 [==============================] - 11s 15ms/step - loss: 3.5645 - mean_squared_error: 20.0731 - mean_absolute_error: 3.5645 - val_loss: 2.3050 - val_mean_squared_error: 8.2792 - val_mean_absolute_error: 2.3050\n",
      "Epoch 4/20\n",
      "750/750 [==============================] - 11s 15ms/step - loss: 3.5521 - mean_squared_error: 19.8880 - mean_absolute_error: 3.5521 - val_loss: 2.2876 - val_mean_squared_error: 8.1192 - val_mean_absolute_error: 2.2876\n",
      "Epoch 5/20\n",
      "750/750 [==============================] - 10s 14ms/step - loss: 3.5266 - mean_squared_error: 19.6272 - mean_absolute_error: 3.5266 - val_loss: 2.2465 - val_mean_squared_error: 7.8285 - val_mean_absolute_error: 2.2465\n",
      "Epoch 6/20\n",
      "750/750 [==============================] - 11s 14ms/step - loss: 3.4698 - mean_squared_error: 18.9125 - mean_absolute_error: 3.4698 - val_loss: 2.0715 - val_mean_squared_error: 6.7055 - val_mean_absolute_error: 2.0715\n",
      "Epoch 7/20\n",
      "750/750 [==============================] - 11s 14ms/step - loss: 3.3707 - mean_squared_error: 17.8811 - mean_absolute_error: 3.3707 - val_loss: 2.0061 - val_mean_squared_error: 6.3599 - val_mean_absolute_error: 2.0061\n",
      "Epoch 8/20\n",
      "750/750 [==============================] - 10s 14ms/step - loss: 3.3384 - mean_squared_error: 17.5610 - mean_absolute_error: 3.3384 - val_loss: 1.9428 - val_mean_squared_error: 5.8909 - val_mean_absolute_error: 1.9428\n",
      "Epoch 9/20\n",
      "750/750 [==============================] - 11s 15ms/step - loss: 3.3146 - mean_squared_error: 17.3012 - mean_absolute_error: 3.3146 - val_loss: 1.9119 - val_mean_squared_error: 5.7205 - val_mean_absolute_error: 1.9119\n",
      "Epoch 10/20\n",
      "750/750 [==============================] - 11s 14ms/step - loss: 3.2963 - mean_squared_error: 17.1759 - mean_absolute_error: 3.2963 - val_loss: 1.9014 - val_mean_squared_error: 5.6801 - val_mean_absolute_error: 1.9014\n",
      "Epoch 11/20\n",
      "750/750 [==============================] - 10s 14ms/step - loss: 3.2935 - mean_squared_error: 17.0286 - mean_absolute_error: 3.2935 - val_loss: 1.8922 - val_mean_squared_error: 5.6289 - val_mean_absolute_error: 1.8922\n",
      "Epoch 12/20\n",
      "750/750 [==============================] - 11s 14ms/step - loss: 3.2849 - mean_squared_error: 16.9457 - mean_absolute_error: 3.2849 - val_loss: 1.9092 - val_mean_squared_error: 5.7406 - val_mean_absolute_error: 1.9092\n",
      "Epoch 13/20\n",
      "750/750 [==============================] - 11s 14ms/step - loss: 3.2751 - mean_squared_error: 16.8617 - mean_absolute_error: 3.2751 - val_loss: 1.8914 - val_mean_squared_error: 5.5985 - val_mean_absolute_error: 1.8914\n",
      "Epoch 14/20\n",
      "750/750 [==============================] - 10s 14ms/step - loss: 3.2860 - mean_squared_error: 16.9798 - mean_absolute_error: 3.2860 - val_loss: 1.8915 - val_mean_squared_error: 5.6306 - val_mean_absolute_error: 1.8915\n",
      "Epoch 15/20\n",
      "750/750 [==============================] - 11s 15ms/step - loss: 3.2598 - mean_squared_error: 16.7551 - mean_absolute_error: 3.2598 - val_loss: 1.8836 - val_mean_squared_error: 5.5761 - val_mean_absolute_error: 1.8836\n",
      "Epoch 16/20\n",
      "750/750 [==============================] - 11s 14ms/step - loss: 3.2569 - mean_squared_error: 16.6844 - mean_absolute_error: 3.2569 - val_loss: 1.8799 - val_mean_squared_error: 5.5531 - val_mean_absolute_error: 1.8799\n",
      "Epoch 17/20\n",
      "750/750 [==============================] - 10s 13ms/step - loss: 3.2556 - mean_squared_error: 16.6905 - mean_absolute_error: 3.2556 - val_loss: 1.8876 - val_mean_squared_error: 5.6072 - val_mean_absolute_error: 1.8876\n",
      "Epoch 18/20\n",
      "750/750 [==============================] - 10s 14ms/step - loss: 3.2641 - mean_squared_error: 16.6477 - mean_absolute_error: 3.2641 - val_loss: 1.9025 - val_mean_squared_error: 5.7055 - val_mean_absolute_error: 1.9025\n",
      "Wall time: 3min 12s\n"
     ]
    }
   ],
   "source": [
    "%%time\n",
    "text_col, target_col = 'description', 'points'\n",
    "\n",
    "early_stopping_monitor = EarlyStopping(\n",
    "    monitor='val_mean_squared_error',\n",
    "    min_delta=0,\n",
    "    patience=2,\n",
    "    verbose=0,\n",
    "    restore_best_weights=True\n",
    ")\n",
    "\n",
    "history = model.fit(\n",
    "    train_data[text_col],\n",
    "    train_data[target_col],\n",
    "    epochs=20,\n",
    "    batch_size=128,\n",
    "    verbose=1,    \n",
    "    callbacks=[early_stopping_monitor],\n",
    "    validation_data = (test_data[text_col], test_data[target_col]))"
   ]
  },
  {
   "cell_type": "markdown",
   "metadata": {},
   "source": [
    "##### Model evaluation:"
   ]
  },
  {
   "cell_type": "code",
   "execution_count": 112,
   "metadata": {},
   "outputs": [],
   "source": [
    "test_data['predicted_score_DNN_external_embedding_stats'] = model.predict(test_data[text_col])"
   ]
  },
  {
   "cell_type": "code",
   "execution_count": 113,
   "metadata": {},
   "outputs": [
    {
     "data": {
      "text/plain": [
       "MSE    5.553059\n",
       "MAE    1.879923\n",
       "R2     0.426619\n",
       "dtype: float64"
      ]
     },
     "execution_count": 113,
     "metadata": {},
     "output_type": "execute_result"
    }
   ],
   "source": [
    "DNN_external_embedding_stats = calc_prediction_quality(test_data, 'predicted_score_DNN_external_embedding_stats', target_col)\n",
    "DNN_external_embedding_stats"
   ]
  },
  {
   "cell_type": "code",
   "execution_count": 114,
   "metadata": {},
   "outputs": [
    {
     "data": {
      "text/html": [
       "<div>\n",
       "<style scoped>\n",
       "    .dataframe tbody tr th:only-of-type {\n",
       "        vertical-align: middle;\n",
       "    }\n",
       "\n",
       "    .dataframe tbody tr th {\n",
       "        vertical-align: top;\n",
       "    }\n",
       "\n",
       "    .dataframe thead th {\n",
       "        text-align: right;\n",
       "    }\n",
       "</style>\n",
       "<table border=\"1\" class=\"dataframe\">\n",
       "  <thead>\n",
       "    <tr style=\"text-align: right;\">\n",
       "      <th></th>\n",
       "      <th>MSE</th>\n",
       "      <th>MAE</th>\n",
       "      <th>R2</th>\n",
       "    </tr>\n",
       "  </thead>\n",
       "  <tbody>\n",
       "    <tr>\n",
       "      <th>baseline_1</th>\n",
       "      <td>9.684853</td>\n",
       "      <td>2.558104</td>\n",
       "      <td>-0.000009</td>\n",
       "    </tr>\n",
       "    <tr>\n",
       "      <th>baseline_2</th>\n",
       "      <td>9.168517</td>\n",
       "      <td>2.481975</td>\n",
       "      <td>0.053305</td>\n",
       "    </tr>\n",
       "    <tr>\n",
       "      <th>baseline_3</th>\n",
       "      <td>8.599106</td>\n",
       "      <td>2.382239</td>\n",
       "      <td>0.112099</td>\n",
       "    </tr>\n",
       "    <tr>\n",
       "      <th>regression_by_xgb</th>\n",
       "      <td>6.375198</td>\n",
       "      <td>1.912409</td>\n",
       "      <td>0.341729</td>\n",
       "    </tr>\n",
       "    <tr>\n",
       "      <th>NLP_desc_stats</th>\n",
       "      <td>2.571613</td>\n",
       "      <td>1.266684</td>\n",
       "      <td>0.731173</td>\n",
       "    </tr>\n",
       "    <tr>\n",
       "      <th>extended_NLP_stats</th>\n",
       "      <td>2.489510</td>\n",
       "      <td>1.238033</td>\n",
       "      <td>0.739756</td>\n",
       "    </tr>\n",
       "    <tr>\n",
       "      <th>fully_connected_NN</th>\n",
       "      <td>2.935073</td>\n",
       "      <td>1.352488</td>\n",
       "      <td>0.696939</td>\n",
       "    </tr>\n",
       "    <tr>\n",
       "      <th>fully_connected_NN_concatinated_words</th>\n",
       "      <td>10.388935</td>\n",
       "      <td>2.612426</td>\n",
       "      <td>-0.072709</td>\n",
       "    </tr>\n",
       "    <tr>\n",
       "      <th>DNN_external_embedding_stats</th>\n",
       "      <td>5.553059</td>\n",
       "      <td>1.879923</td>\n",
       "      <td>0.426619</td>\n",
       "    </tr>\n",
       "  </tbody>\n",
       "</table>\n",
       "</div>"
      ],
      "text/plain": [
       "                                             MSE       MAE        R2\n",
       "baseline_1                              9.684853  2.558104 -0.000009\n",
       "baseline_2                              9.168517  2.481975  0.053305\n",
       "baseline_3                              8.599106  2.382239  0.112099\n",
       "regression_by_xgb                       6.375198  1.912409  0.341729\n",
       "NLP_desc_stats                          2.571613  1.266684  0.731173\n",
       "extended_NLP_stats                      2.489510  1.238033  0.739756\n",
       "fully_connected_NN                      2.935073  1.352488  0.696939\n",
       "fully_connected_NN_concatinated_words  10.388935  2.612426 -0.072709\n",
       "DNN_external_embedding_stats            5.553059  1.879923  0.426619"
      ]
     },
     "execution_count": 114,
     "metadata": {},
     "output_type": "execute_result"
    }
   ],
   "source": [
    "all_compared = pd.DataFrame([b1_stats, b2_stats, b3_stats, xgb_stats, NLP_desc_stats, extended_NLP_stats, fully_connected_NN_stats, fully_connected_NN_concatinated_words_stats, DNN_external_embedding_stats], index=['baseline_1', 'baseline_2','baseline_3','regression_by_xgb', 'NLP_desc_stats', 'extended_NLP_stats', 'fully_connected_NN', 'fully_connected_NN_concatinated_words', 'DNN_external_embedding_stats'])\n",
    "all_compared"
   ]
  },
  {
   "cell_type": "markdown",
   "metadata": {},
   "source": [
    "We can see that using the external GloVe embeddings yielded poorer performance across the evaluation metrics. This can be expected as the GloVe vocabulary does not contain many of the wineray domain-specific words (out-of-vocab) and therefore does not provide effective embeddings for the wine-reviews texts.   "
   ]
  },
  {
   "cell_type": "code",
   "execution_count": 115,
   "metadata": {},
   "outputs": [],
   "source": [
    "all_compared.to_csv('data/all_models_compared.csv', index=False)"
   ]
  },
  {
   "cell_type": "markdown",
   "metadata": {},
   "source": [
    "#### (4) Fully connected network with LSTM layer"
   ]
  },
  {
   "cell_type": "markdown",
   "metadata": {},
   "source": [
    "##### Defining the LSTM layer (with 164 units):"
   ]
  },
  {
   "cell_type": "code",
   "execution_count": 116,
   "metadata": {},
   "outputs": [],
   "source": [
    "LSTM_layer = tf.keras.layers.LSTM(\n",
    "    164,\n",
    "    activation='tanh',\n",
    "    recurrent_activation='sigmoid',\n",
    "    use_bias=True,\n",
    "    kernel_initializer='glorot_uniform',\n",
    "    recurrent_initializer='orthogonal',\n",
    "    bias_initializer='zeros',\n",
    "    unit_forget_bias=True,\n",
    "    kernel_regularizer=None,\n",
    "    recurrent_regularizer=None,\n",
    "    bias_regularizer=None,\n",
    "    activity_regularizer=None,\n",
    "    kernel_constraint=None,\n",
    "    recurrent_constraint=None,\n",
    "    bias_constraint=None,\n",
    "    dropout=0.0,\n",
    "    recurrent_dropout=0.0,\n",
    "    return_sequences=False,\n",
    "    return_state=False,\n",
    "    go_backwards=False,\n",
    "    stateful=False,\n",
    "    time_major=False,\n",
    "    unroll=False,\n",
    ")"
   ]
  },
  {
   "cell_type": "markdown",
   "metadata": {},
   "source": [
    "##### Modeling (Sequential API):"
   ]
  },
  {
   "cell_type": "code",
   "execution_count": 117,
   "metadata": {},
   "outputs": [],
   "source": [
    "embedding_dim=16\n",
    "\n",
    "model = tf.keras.Sequential([\n",
    "    tf.keras.Input(shape=(1,), dtype=tf.string),\n",
    "    vectorize_layer,\n",
    "    Embedding(vocab_size, embedding_dim, name=\"embedding\"),\n",
    "    LSTM_layer,\n",
    "    Dense(164, activation='relu', name='hidden_layer'),\n",
    "    #Dropout(0.7),\n",
    "    Dense(1, activation='linear', name = 'output_layer')\n",
    "])"
   ]
  },
  {
   "cell_type": "code",
   "execution_count": 118,
   "metadata": {},
   "outputs": [
    {
     "name": "stdout",
     "output_type": "stream",
     "text": [
      "Model: \"sequential_3\"\n",
      "_________________________________________________________________\n",
      " Layer (type)                Output Shape              Param #   \n",
      "=================================================================\n",
      " Text_processing (TextVector  (None, 72)               0         \n",
      " ization)                                                        \n",
      "                                                                 \n",
      " embedding (Embedding)       (None, 72, 16)            512000    \n",
      "                                                                 \n",
      " lstm (LSTM)                 (None, 164)               118736    \n",
      "                                                                 \n",
      " hidden_layer (Dense)        (None, 164)               27060     \n",
      "                                                                 \n",
      " output_layer (Dense)        (None, 1)                 165       \n",
      "                                                                 \n",
      "=================================================================\n",
      "Total params: 657,961\n",
      "Trainable params: 657,961\n",
      "Non-trainable params: 0\n",
      "_________________________________________________________________\n"
     ]
    }
   ],
   "source": [
    "model.summary()"
   ]
  },
  {
   "cell_type": "code",
   "execution_count": 119,
   "metadata": {},
   "outputs": [],
   "source": [
    "model.compile(\n",
    "    optimizer=tf.optimizers.Adam(), loss='mean_absolute_error', metrics=['mean_squared_error','mean_absolute_error'])"
   ]
  },
  {
   "cell_type": "code",
   "execution_count": 120,
   "metadata": {},
   "outputs": [
    {
     "data": {
      "image/png": "[encoded data removed]",
      "text/plain": [
       "<IPython.core.display.Image object>"
      ]
     },
     "execution_count": 120,
     "metadata": {},
     "output_type": "execute_result"
    }
   ],
   "source": [
    "tf.keras.utils.plot_model(model, show_dtype=True, show_shapes=True, show_layer_names=True)"
   ]
  },
  {
   "cell_type": "code",
   "execution_count": 121,
   "metadata": {},
   "outputs": [
    {
     "name": "stdout",
     "output_type": "stream",
     "text": [
      "Epoch 1/20\n",
      "750/750 [==============================] - 213s 279ms/step - loss: 5.8879 - mean_squared_error: 243.8778 - mean_absolute_error: 5.8879 - val_loss: 2.5533 - val_mean_squared_error: 9.6916 - val_mean_absolute_error: 2.5533\n",
      "Epoch 2/20\n",
      "750/750 [==============================] - 202s 269ms/step - loss: 2.5409 - mean_squared_error: 9.7490 - mean_absolute_error: 2.5409 - val_loss: 2.6069 - val_mean_squared_error: 10.3411 - val_mean_absolute_error: 2.6069\n",
      "Epoch 3/20\n",
      "750/750 [==============================] - 201s 268ms/step - loss: 2.5505 - mean_squared_error: 9.8461 - mean_absolute_error: 2.5505 - val_loss: 2.5394 - val_mean_squared_error: 9.8009 - val_mean_absolute_error: 2.5394\n",
      "Wall time: 10min 17s\n"
     ]
    }
   ],
   "source": [
    "%%time\n",
    "text_col, target_col = 'description', 'points'\n",
    "\n",
    "early_stopping_monitor = EarlyStopping(\n",
    "    monitor='val_mean_squared_error',\n",
    "    min_delta=0,\n",
    "    patience=2,\n",
    "    verbose=0,\n",
    "    restore_best_weights=True\n",
    ")\n",
    "\n",
    "history = model.fit(\n",
    "    train_data[text_col],\n",
    "    train_data[target_col],\n",
    "    epochs=20,\n",
    "    batch_size=128,\n",
    "    verbose=1,    \n",
    "    callbacks=[early_stopping_monitor],\n",
    "    validation_data = (test_data[text_col], test_data[target_col]))"
   ]
  },
  {
   "cell_type": "markdown",
   "metadata": {},
   "source": [
    "##### Model evaluation:"
   ]
  },
  {
   "cell_type": "code",
   "execution_count": 122,
   "metadata": {},
   "outputs": [],
   "source": [
    "test_data['predicted_score_LSTM'] = model.predict(test_data[text_col])"
   ]
  },
  {
   "cell_type": "code",
   "execution_count": 123,
   "metadata": {},
   "outputs": [
    {
     "data": {
      "text/plain": [
       "MSE    9.691631\n",
       "MAE    2.553311\n",
       "R2    -0.000709\n",
       "dtype: float64"
      ]
     },
     "execution_count": 123,
     "metadata": {},
     "output_type": "execute_result"
    }
   ],
   "source": [
    "LSTM_stats = calc_prediction_quality(test_data, 'predicted_score_LSTM', target_col)\n",
    "LSTM_stats"
   ]
  },
  {
   "cell_type": "code",
   "execution_count": 124,
   "metadata": {},
   "outputs": [
    {
     "data": {
      "text/html": [
       "<div>\n",
       "<style scoped>\n",
       "    .dataframe tbody tr th:only-of-type {\n",
       "        vertical-align: middle;\n",
       "    }\n",
       "\n",
       "    .dataframe tbody tr th {\n",
       "        vertical-align: top;\n",
       "    }\n",
       "\n",
       "    .dataframe thead th {\n",
       "        text-align: right;\n",
       "    }\n",
       "</style>\n",
       "<table border=\"1\" class=\"dataframe\">\n",
       "  <thead>\n",
       "    <tr style=\"text-align: right;\">\n",
       "      <th></th>\n",
       "      <th>MSE</th>\n",
       "      <th>MAE</th>\n",
       "      <th>R2</th>\n",
       "    </tr>\n",
       "  </thead>\n",
       "  <tbody>\n",
       "    <tr>\n",
       "      <th>baseline_1</th>\n",
       "      <td>9.684853</td>\n",
       "      <td>2.558104</td>\n",
       "      <td>-0.000009</td>\n",
       "    </tr>\n",
       "    <tr>\n",
       "      <th>baseline_2</th>\n",
       "      <td>9.168517</td>\n",
       "      <td>2.481975</td>\n",
       "      <td>0.053305</td>\n",
       "    </tr>\n",
       "    <tr>\n",
       "      <th>baseline_3</th>\n",
       "      <td>8.599106</td>\n",
       "      <td>2.382239</td>\n",
       "      <td>0.112099</td>\n",
       "    </tr>\n",
       "    <tr>\n",
       "      <th>regression_by_xgb</th>\n",
       "      <td>6.375198</td>\n",
       "      <td>1.912409</td>\n",
       "      <td>0.341729</td>\n",
       "    </tr>\n",
       "    <tr>\n",
       "      <th>NLP_desc_stats</th>\n",
       "      <td>2.571613</td>\n",
       "      <td>1.266684</td>\n",
       "      <td>0.731173</td>\n",
       "    </tr>\n",
       "    <tr>\n",
       "      <th>extended_NLP_stats</th>\n",
       "      <td>2.489510</td>\n",
       "      <td>1.238033</td>\n",
       "      <td>0.739756</td>\n",
       "    </tr>\n",
       "    <tr>\n",
       "      <th>fully_connected_NN</th>\n",
       "      <td>2.935073</td>\n",
       "      <td>1.352488</td>\n",
       "      <td>0.696939</td>\n",
       "    </tr>\n",
       "    <tr>\n",
       "      <th>fully_connected_NN_concatinated_words</th>\n",
       "      <td>10.388935</td>\n",
       "      <td>2.612426</td>\n",
       "      <td>-0.072709</td>\n",
       "    </tr>\n",
       "    <tr>\n",
       "      <th>DNN_external_embedding_stats</th>\n",
       "      <td>5.553059</td>\n",
       "      <td>1.879923</td>\n",
       "      <td>0.426619</td>\n",
       "    </tr>\n",
       "    <tr>\n",
       "      <th>LSTM</th>\n",
       "      <td>9.691631</td>\n",
       "      <td>2.553311</td>\n",
       "      <td>-0.000709</td>\n",
       "    </tr>\n",
       "  </tbody>\n",
       "</table>\n",
       "</div>"
      ],
      "text/plain": [
       "                                             MSE       MAE        R2\n",
       "baseline_1                              9.684853  2.558104 -0.000009\n",
       "baseline_2                              9.168517  2.481975  0.053305\n",
       "baseline_3                              8.599106  2.382239  0.112099\n",
       "regression_by_xgb                       6.375198  1.912409  0.341729\n",
       "NLP_desc_stats                          2.571613  1.266684  0.731173\n",
       "extended_NLP_stats                      2.489510  1.238033  0.739756\n",
       "fully_connected_NN                      2.935073  1.352488  0.696939\n",
       "fully_connected_NN_concatinated_words  10.388935  2.612426 -0.072709\n",
       "DNN_external_embedding_stats            5.553059  1.879923  0.426619\n",
       "LSTM                                    9.691631  2.553311 -0.000709"
      ]
     },
     "execution_count": 124,
     "metadata": {},
     "output_type": "execute_result"
    }
   ],
   "source": [
    "all_compared = pd.DataFrame([b1_stats, b2_stats, b3_stats, xgb_stats, NLP_desc_stats, extended_NLP_stats, fully_connected_NN_stats, fully_connected_NN_concatinated_words_stats, DNN_external_embedding_stats, LSTM_stats], index=['baseline_1', 'baseline_2','baseline_3','regression_by_xgb', 'NLP_desc_stats', 'extended_NLP_stats', 'fully_connected_NN', 'fully_connected_NN_concatinated_words', 'DNN_external_embedding_stats', 'LSTM'])\n",
    "all_compared"
   ]
  },
  {
   "cell_type": "code",
   "execution_count": 125,
   "metadata": {},
   "outputs": [],
   "source": [
    "all_compared.to_csv('data/all_models_compared.csv', index=False)"
   ]
  },
  {
   "cell_type": "markdown",
   "metadata": {},
   "source": [
    "### Bonus task: Using all features applying the Keras Functional API"
   ]
  },
  {
   "cell_type": "code",
   "execution_count": 126,
   "metadata": {},
   "outputs": [],
   "source": [
    "from tensorflow.keras import Model\n",
    "from tensorflow.keras.layers import Input, concatenate"
   ]
  },
  {
   "cell_type": "code",
   "execution_count": 127,
   "metadata": {},
   "outputs": [],
   "source": [
    "# Define two sets of inputs: InputA is the 'description' text feature, InputB is the rest of the features which we already labeled before.\n",
    "inputA = Input(shape=(1,), name=\"text input layer\", dtype=tf.string)\n",
    "inputB = Input(shape=(8,), name=\"other features input layer\")\n",
    "\n",
    "# The first branch operates on InputA: \n",
    "x = vectorize_layer(inputA)\n",
    "x = Embedding(vocab_size, embedding_dim, name=\"embedding\")(x)\n",
    "x = GlobalAveragePooling1D()(x)\n",
    "x = Dense(164, activation='relu')(x)\n",
    "x = Dropout(0.2)(x)\n",
    "x = Dense(164, activation='relu')(x)\n",
    "x = Model(inputs=inputA, outputs=x)\n",
    "\n",
    "# The second branch opreates on InputB:\n",
    "y = Dense(164, activation=\"relu\")(inputB)\n",
    "y = Dropout(0.2)(y)\n",
    "y = Dense(164, activation=\"relu\")(y)\n",
    "y = Model(inputs=inputB, outputs=y)\n",
    "\n",
    "# Combine the output of the two branches\n",
    "combined = concatenate([x.output, y.output])\n",
    "\n",
    "# Apply a fully-connected layer and then a regression prediction on the combined outputs\n",
    "z = Dense(164, activation=\"relu\")(combined)\n",
    "z = Dense(1, activation=\"linear\")(z)\n",
    "\n",
    "# Define a model that will accept the inputs of the two branches and then output a single value\n",
    "model = Model(inputs=[x.input, y.input], outputs=z)"
   ]
  },
  {
   "cell_type": "code",
   "execution_count": 128,
   "metadata": {},
   "outputs": [],
   "source": [
    "model.compile(\n",
    "    optimizer=tf.optimizers.Adam(), loss='mean_absolute_error', metrics=['mean_squared_error','mean_absolute_error'])"
   ]
  },
  {
   "cell_type": "code",
   "execution_count": 129,
   "metadata": {},
   "outputs": [
    {
     "data": {
      "image/png": "[encoded data removed]",
      "text/plain": [
       "<IPython.core.display.Image object>"
      ]
     },
     "execution_count": 129,
     "metadata": {},
     "output_type": "execute_result"
    }
   ],
   "source": [
    "tf.keras.utils.plot_model(model, show_dtype=True, show_shapes=True, show_layer_names=True)"
   ]
  },
  {
   "cell_type": "markdown",
   "metadata": {},
   "source": [
    "Preparing the Train and Test datasets:"
   ]
  },
  {
   "cell_type": "code",
   "execution_count": 130,
   "metadata": {},
   "outputs": [],
   "source": [
    "# organizing the Text train and test datasets\n",
    "trainTextX = train_data[text_col]\n",
    "testTextX = test_data[text_col]"
   ]
  },
  {
   "cell_type": "code",
   "execution_count": 131,
   "metadata": {},
   "outputs": [],
   "source": [
    "# organizing the train and test datasets of the rest of features and which we already encoded before \n",
    "trainAttrX = train_encoded_features.loc[:,train_encoded_features.columns != 'points']\n",
    "testAttrX = test_encoded_features.loc[:,test_encoded_features.columns != 'points']\n",
    "testAttrX = testAttrX.drop(['xgb_clf_points_prediction'], axis=1)"
   ]
  },
  {
   "cell_type": "code",
   "execution_count": 132,
   "metadata": {},
   "outputs": [
    {
     "name": "stdout",
     "output_type": "stream",
     "text": [
      "Epoch 1/20\n",
      "750/750 [==============================] - 19s 23ms/step - loss: 19.2721 - mean_squared_error: 2728.8604 - mean_absolute_error: 19.2721 - val_loss: 7.4789 - val_mean_squared_error: 71.4285 - val_mean_absolute_error: 7.4789\n",
      "Epoch 2/20\n",
      "750/750 [==============================] - 17s 23ms/step - loss: 4.7155 - mean_squared_error: 36.6466 - mean_absolute_error: 4.7155 - val_loss: 1.7144 - val_mean_squared_error: 4.7591 - val_mean_absolute_error: 1.7144\n",
      "Epoch 3/20\n",
      "750/750 [==============================] - 17s 22ms/step - loss: 3.7271 - mean_squared_error: 22.1970 - mean_absolute_error: 3.7271 - val_loss: 1.8694 - val_mean_squared_error: 5.4699 - val_mean_absolute_error: 1.8694\n",
      "Epoch 4/20\n",
      "750/750 [==============================] - 17s 23ms/step - loss: 2.7954 - mean_squared_error: 12.5180 - mean_absolute_error: 2.7954 - val_loss: 1.4713 - val_mean_squared_error: 3.4451 - val_mean_absolute_error: 1.4713\n",
      "Epoch 5/20\n",
      "750/750 [==============================] - 17s 22ms/step - loss: 1.9845 - mean_squared_error: 6.3368 - mean_absolute_error: 1.9845 - val_loss: 1.5931 - val_mean_squared_error: 4.0317 - val_mean_absolute_error: 1.5931\n",
      "Epoch 6/20\n",
      "750/750 [==============================] - 17s 22ms/step - loss: 1.5600 - mean_squared_error: 3.9033 - mean_absolute_error: 1.5600 - val_loss: 1.5879 - val_mean_squared_error: 3.9105 - val_mean_absolute_error: 1.5879\n",
      "Wall time: 1min 44s\n"
     ]
    }
   ],
   "source": [
    "%%time\n",
    "text_col, target_col = 'description', 'points'\n",
    "\n",
    "early_stopping_monitor = EarlyStopping(\n",
    "    monitor='val_mean_squared_error',\n",
    "    min_delta=0,\n",
    "    patience=2,\n",
    "    verbose=0,\n",
    "    restore_best_weights=True\n",
    ")\n",
    "\n",
    "history = model.fit(\n",
    "    x= [trainTextX, trainAttrX],\n",
    "    y = train_data[target_col],\n",
    "    epochs=20,\n",
    "    batch_size=128,\n",
    "    verbose=1,    \n",
    "    callbacks=[early_stopping_monitor],\n",
    "    validation_data = ([testTextX, testAttrX], test_data[target_col]))"
   ]
  },
  {
   "cell_type": "markdown",
   "metadata": {},
   "source": [
    "##### Model evaluation:"
   ]
  },
  {
   "cell_type": "code",
   "execution_count": 133,
   "metadata": {},
   "outputs": [],
   "source": [
    "test_data['Multiple_Inputs_Mixed_Data_NN_Functional_API'] = model.predict([testTextX, testAttrX])"
   ]
  },
  {
   "cell_type": "code",
   "execution_count": 134,
   "metadata": {},
   "outputs": [
    {
     "data": {
      "text/plain": [
       "MSE    3.445103\n",
       "MAE    1.471253\n",
       "R2     0.644276\n",
       "dtype: float64"
      ]
     },
     "execution_count": 134,
     "metadata": {},
     "output_type": "execute_result"
    }
   ],
   "source": [
    "Multiple_Inputs_Mixed_Data_NN_Functional_API_stats = calc_prediction_quality(test_data, 'Multiple_Inputs_Mixed_Data_NN_Functional_API', target_col)\n",
    "Multiple_Inputs_Mixed_Data_NN_Functional_API_stats"
   ]
  },
  {
   "cell_type": "code",
   "execution_count": 135,
   "metadata": {},
   "outputs": [
    {
     "data": {
      "text/html": [
       "<div>\n",
       "<style scoped>\n",
       "    .dataframe tbody tr th:only-of-type {\n",
       "        vertical-align: middle;\n",
       "    }\n",
       "\n",
       "    .dataframe tbody tr th {\n",
       "        vertical-align: top;\n",
       "    }\n",
       "\n",
       "    .dataframe thead th {\n",
       "        text-align: right;\n",
       "    }\n",
       "</style>\n",
       "<table border=\"1\" class=\"dataframe\">\n",
       "  <thead>\n",
       "    <tr style=\"text-align: right;\">\n",
       "      <th></th>\n",
       "      <th>MSE</th>\n",
       "      <th>MAE</th>\n",
       "      <th>R2</th>\n",
       "    </tr>\n",
       "  </thead>\n",
       "  <tbody>\n",
       "    <tr>\n",
       "      <th>baseline_1</th>\n",
       "      <td>9.684853</td>\n",
       "      <td>2.558104</td>\n",
       "      <td>-0.000009</td>\n",
       "    </tr>\n",
       "    <tr>\n",
       "      <th>baseline_2</th>\n",
       "      <td>9.168517</td>\n",
       "      <td>2.481975</td>\n",
       "      <td>0.053305</td>\n",
       "    </tr>\n",
       "    <tr>\n",
       "      <th>baseline_3</th>\n",
       "      <td>8.599106</td>\n",
       "      <td>2.382239</td>\n",
       "      <td>0.112099</td>\n",
       "    </tr>\n",
       "    <tr>\n",
       "      <th>regression_by_xgb</th>\n",
       "      <td>6.375198</td>\n",
       "      <td>1.912409</td>\n",
       "      <td>0.341729</td>\n",
       "    </tr>\n",
       "    <tr>\n",
       "      <th>NLP_desc_stats</th>\n",
       "      <td>2.571613</td>\n",
       "      <td>1.266684</td>\n",
       "      <td>0.731173</td>\n",
       "    </tr>\n",
       "    <tr>\n",
       "      <th>extended_NLP_stats</th>\n",
       "      <td>2.489510</td>\n",
       "      <td>1.238033</td>\n",
       "      <td>0.739756</td>\n",
       "    </tr>\n",
       "    <tr>\n",
       "      <th>fully_connected_NN</th>\n",
       "      <td>2.935073</td>\n",
       "      <td>1.352488</td>\n",
       "      <td>0.696939</td>\n",
       "    </tr>\n",
       "    <tr>\n",
       "      <th>fully_connected_NN_concatinated_words</th>\n",
       "      <td>10.388935</td>\n",
       "      <td>2.612426</td>\n",
       "      <td>-0.072709</td>\n",
       "    </tr>\n",
       "    <tr>\n",
       "      <th>DNN_external_embedding_stats</th>\n",
       "      <td>5.553059</td>\n",
       "      <td>1.879923</td>\n",
       "      <td>0.426619</td>\n",
       "    </tr>\n",
       "    <tr>\n",
       "      <th>LSTM</th>\n",
       "      <td>9.691631</td>\n",
       "      <td>2.553311</td>\n",
       "      <td>-0.000709</td>\n",
       "    </tr>\n",
       "    <tr>\n",
       "      <th>Multiple_Inputs_Mixed_Data_NN_Functional_API</th>\n",
       "      <td>3.445103</td>\n",
       "      <td>1.471253</td>\n",
       "      <td>0.644276</td>\n",
       "    </tr>\n",
       "  </tbody>\n",
       "</table>\n",
       "</div>"
      ],
      "text/plain": [
       "                                                    MSE       MAE        R2\n",
       "baseline_1                                     9.684853  2.558104 -0.000009\n",
       "baseline_2                                     9.168517  2.481975  0.053305\n",
       "baseline_3                                     8.599106  2.382239  0.112099\n",
       "regression_by_xgb                              6.375198  1.912409  0.341729\n",
       "NLP_desc_stats                                 2.571613  1.266684  0.731173\n",
       "extended_NLP_stats                             2.489510  1.238033  0.739756\n",
       "fully_connected_NN                             2.935073  1.352488  0.696939\n",
       "fully_connected_NN_concatinated_words         10.388935  2.612426 -0.072709\n",
       "DNN_external_embedding_stats                   5.553059  1.879923  0.426619\n",
       "LSTM                                           9.691631  2.553311 -0.000709\n",
       "Multiple_Inputs_Mixed_Data_NN_Functional_API   3.445103  1.471253  0.644276"
      ]
     },
     "execution_count": 135,
     "metadata": {},
     "output_type": "execute_result"
    }
   ],
   "source": [
    "all_compared = pd.DataFrame([b1_stats, b2_stats, b3_stats, xgb_stats, NLP_desc_stats, extended_NLP_stats, fully_connected_NN_stats, fully_connected_NN_concatinated_words_stats, DNN_external_embedding_stats, LSTM_stats, Multiple_Inputs_Mixed_Data_NN_Functional_API_stats], index=['baseline_1', 'baseline_2','baseline_3','regression_by_xgb', 'NLP_desc_stats', 'extended_NLP_stats', 'fully_connected_NN', 'fully_connected_NN_concatinated_words', 'DNN_external_embedding_stats', 'LSTM', 'Multiple_Inputs_Mixed_Data_NN_Functional_API'])\n",
    "all_compared"
   ]
  },
  {
   "cell_type": "markdown",
   "metadata": {},
   "source": [
    "The network with multiple inputs and mixed data (text and other features) yielded a prety good result - similar to, yet slightly lower than, the classical NLP regression model with the other parameters.\n",
    "After running several rounds of executining all the models, the best performing model (consistently in every round) is the classical NLP regression model with the other parameters. "
   ]
  },
  {
   "cell_type": "code",
   "execution_count": 136,
   "metadata": {},
   "outputs": [],
   "source": [
    "all_compared.to_csv('data/all_models_compared.csv', index=False)"
   ]
  },
  {
   "cell_type": "code",
   "execution_count": null,
   "metadata": {},
   "outputs": [],
   "source": []
  },
  {
   "cell_type": "markdown",
   "metadata": {},
   "source": [
    "## Visualization"
   ]
  },
  {
   "cell_type": "code",
   "execution_count": 137,
   "metadata": {},
   "outputs": [],
   "source": [
    "import plotly_express as px"
   ]
  },
  {
   "cell_type": "code",
   "execution_count": 138,
   "metadata": {},
   "outputs": [
    {
     "data": {
      "application/vnd.plotly.v1+json": {
       "config": {
        "plotlyServerURL": "https://plot.ly"
       },
       "data": [
        {
         "alignmentgroup": "True",
         "hovertemplate": "index=%{x}<br>MSE=%{y}<extra></extra>",
         "legendgroup": "",
         "marker": {
          "color": "#636efa",
          "pattern": {
           "shape": ""
          }
         },
         "name": "",
         "offsetgroup": "",
         "orientation": "v",
         "showlegend": false,
         "textposition": "auto",
         "type": "bar",
         "x": [
          "baseline_1",
          "baseline_2",
          "baseline_3",
          "regression_by_xgb",
          "NLP_desc_stats",
          "extended_NLP_stats",
          "fully_connected_NN",
          "fully_connected_NN_concatinated_words",
          "DNN_external_embedding_stats",
          "LSTM",
          "Multiple_Inputs_Mixed_Data_NN_Functional_API"
         ],
         "xaxis": "x",
         "y": [
          9.684852622567933,
          9.16851706060463,
          8.599106244199879,
          6.375197933161097,
          2.5716132207605464,
          2.489510378066442,
          2.9350734455899374,
          10.388935052226978,
          5.553058775595891,
          9.69163126783261,
          3.445102796040516
         ],
         "yaxis": "y"
        }
       ],
       "layout": {
        "autosize": true,
        "barmode": "relative",
        "legend": {
         "tracegroupgap": 0
        },
        "template": {
         "data": {
          "bar": [
           {
            "error_x": {
             "color": "#2a3f5f"
            },
            "error_y": {
             "color": "#2a3f5f"
            },
            "marker": {
             "line": {
              "color": "#E5ECF6",
              "width": 0.5
             },
             "pattern": {
              "fillmode": "overlay",
              "size": 10,
              "solidity": 0.2
             }
            },
            "type": "bar"
           }
          ],
          "barpolar": [
           {
            "marker": {
             "line": {
              "color": "#E5ECF6",
              "width": 0.5
             },
             "pattern": {
              "fillmode": "overlay",
              "size": 10,
              "solidity": 0.2
             }
            },
            "type": "barpolar"
           }
          ],
          "carpet": [
           {
            "aaxis": {
             "endlinecolor": "#2a3f5f",
             "gridcolor": "white",
             "linecolor": "white",
             "minorgridcolor": "white",
             "startlinecolor": "#2a3f5f"
            },
            "baxis": {
             "endlinecolor": "#2a3f5f",
             "gridcolor": "white",
             "linecolor": "white",
             "minorgridcolor": "white",
             "startlinecolor": "#2a3f5f"
            },
            "type": "carpet"
           }
          ],
          "choropleth": [
           {
            "colorbar": {
             "outlinewidth": 0,
             "ticks": ""
            },
            "type": "choropleth"
           }
          ],
          "contour": [
           {
            "colorbar": {
             "outlinewidth": 0,
             "ticks": ""
            },
            "colorscale": [
             [
              0,
              "#0d0887"
             ],
             [
              0.1111111111111111,
              "#46039f"
             ],
             [
              0.2222222222222222,
              "#7201a8"
             ],
             [
              0.3333333333333333,
              "#9c179e"
             ],
             [
              0.4444444444444444,
              "#bd3786"
             ],
             [
              0.5555555555555556,
              "#d8576b"
             ],
             [
              0.6666666666666666,
              "#ed7953"
             ],
             [
              0.7777777777777778,
              "#fb9f3a"
             ],
             [
              0.8888888888888888,
              "#fdca26"
             ],
             [
              1,
              "#f0f921"
             ]
            ],
            "type": "contour"
           }
          ],
          "contourcarpet": [
           {
            "colorbar": {
             "outlinewidth": 0,
             "ticks": ""
            },
            "type": "contourcarpet"
           }
          ],
          "heatmap": [
           {
            "colorbar": {
             "outlinewidth": 0,
             "ticks": ""
            },
            "colorscale": [
             [
              0,
              "#0d0887"
             ],
             [
              0.1111111111111111,
              "#46039f"
             ],
             [
              0.2222222222222222,
              "#7201a8"
             ],
             [
              0.3333333333333333,
              "#9c179e"
             ],
             [
              0.4444444444444444,
              "#bd3786"
             ],
             [
              0.5555555555555556,
              "#d8576b"
             ],
             [
              0.6666666666666666,
              "#ed7953"
             ],
             [
              0.7777777777777778,
              "#fb9f3a"
             ],
             [
              0.8888888888888888,
              "#fdca26"
             ],
             [
              1,
              "#f0f921"
             ]
            ],
            "type": "heatmap"
           }
          ],
          "heatmapgl": [
           {
            "colorbar": {
             "outlinewidth": 0,
             "ticks": ""
            },
            "colorscale": [
             [
              0,
              "#0d0887"
             ],
             [
              0.1111111111111111,
              "#46039f"
             ],
             [
              0.2222222222222222,
              "#7201a8"
             ],
             [
              0.3333333333333333,
              "#9c179e"
             ],
             [
              0.4444444444444444,
              "#bd3786"
             ],
             [
              0.5555555555555556,
              "#d8576b"
             ],
             [
              0.6666666666666666,
              "#ed7953"
             ],
             [
              0.7777777777777778,
              "#fb9f3a"
             ],
             [
              0.8888888888888888,
              "#fdca26"
             ],
             [
              1,
              "#f0f921"
             ]
            ],
            "type": "heatmapgl"
           }
          ],
          "histogram": [
           {
            "marker": {
             "pattern": {
              "fillmode": "overlay",
              "size": 10,
              "solidity": 0.2
             }
            },
            "type": "histogram"
           }
          ],
          "histogram2d": [
           {
            "colorbar": {
             "outlinewidth": 0,
             "ticks": ""
            },
            "colorscale": [
             [
              0,
              "#0d0887"
             ],
             [
              0.1111111111111111,
              "#46039f"
             ],
             [
              0.2222222222222222,
              "#7201a8"
             ],
             [
              0.3333333333333333,
              "#9c179e"
             ],
             [
              0.4444444444444444,
              "#bd3786"
             ],
             [
              0.5555555555555556,
              "#d8576b"
             ],
             [
              0.6666666666666666,
              "#ed7953"
             ],
             [
              0.7777777777777778,
              "#fb9f3a"
             ],
             [
              0.8888888888888888,
              "#fdca26"
             ],
             [
              1,
              "#f0f921"
             ]
            ],
            "type": "histogram2d"
           }
          ],
          "histogram2dcontour": [
           {
            "colorbar": {
             "outlinewidth": 0,
             "ticks": ""
            },
            "colorscale": [
             [
              0,
              "#0d0887"
             ],
             [
              0.1111111111111111,
              "#46039f"
             ],
             [
              0.2222222222222222,
              "#7201a8"
             ],
             [
              0.3333333333333333,
              "#9c179e"
             ],
             [
              0.4444444444444444,
              "#bd3786"
             ],
             [
              0.5555555555555556,
              "#d8576b"
             ],
             [
              0.6666666666666666,
              "#ed7953"
             ],
             [
              0.7777777777777778,
              "#fb9f3a"
             ],
             [
              0.8888888888888888,
              "#fdca26"
             ],
             [
              1,
              "#f0f921"
             ]
            ],
            "type": "histogram2dcontour"
           }
          ],
          "mesh3d": [
           {
            "colorbar": {
             "outlinewidth": 0,
             "ticks": ""
            },
            "type": "mesh3d"
           }
          ],
          "parcoords": [
           {
            "line": {
             "colorbar": {
              "outlinewidth": 0,
              "ticks": ""
             }
            },
            "type": "parcoords"
           }
          ],
          "pie": [
           {
            "automargin": true,
            "type": "pie"
           }
          ],
          "scatter": [
           {
            "marker": {
             "colorbar": {
              "outlinewidth": 0,
              "ticks": ""
             }
            },
            "type": "scatter"
           }
          ],
          "scatter3d": [
           {
            "line": {
             "colorbar": {
              "outlinewidth": 0,
              "ticks": ""
             }
            },
            "marker": {
             "colorbar": {
              "outlinewidth": 0,
              "ticks": ""
             }
            },
            "type": "scatter3d"
           }
          ],
          "scattercarpet": [
           {
            "marker": {
             "colorbar": {
              "outlinewidth": 0,
              "ticks": ""
             }
            },
            "type": "scattercarpet"
           }
          ],
          "scattergeo": [
           {
            "marker": {
             "colorbar": {
              "outlinewidth": 0,
              "ticks": ""
             }
            },
            "type": "scattergeo"
           }
          ],
          "scattergl": [
           {
            "marker": {
             "colorbar": {
              "outlinewidth": 0,
              "ticks": ""
             }
            },
            "type": "scattergl"
           }
          ],
          "scattermapbox": [
           {
            "marker": {
             "colorbar": {
              "outlinewidth": 0,
              "ticks": ""
             }
            },
            "type": "scattermapbox"
           }
          ],
          "scatterpolar": [
           {
            "marker": {
             "colorbar": {
              "outlinewidth": 0,
              "ticks": ""
             }
            },
            "type": "scatterpolar"
           }
          ],
          "scatterpolargl": [
           {
            "marker": {
             "colorbar": {
              "outlinewidth": 0,
              "ticks": ""
             }
            },
            "type": "scatterpolargl"
           }
          ],
          "scatterternary": [
           {
            "marker": {
             "colorbar": {
              "outlinewidth": 0,
              "ticks": ""
             }
            },
            "type": "scatterternary"
           }
          ],
          "surface": [
           {
            "colorbar": {
             "outlinewidth": 0,
             "ticks": ""
            },
            "colorscale": [
             [
              0,
              "#0d0887"
             ],
             [
              0.1111111111111111,
              "#46039f"
             ],
             [
              0.2222222222222222,
              "#7201a8"
             ],
             [
              0.3333333333333333,
              "#9c179e"
             ],
             [
              0.4444444444444444,
              "#bd3786"
             ],
             [
              0.5555555555555556,
              "#d8576b"
             ],
             [
              0.6666666666666666,
              "#ed7953"
             ],
             [
              0.7777777777777778,
              "#fb9f3a"
             ],
             [
              0.8888888888888888,
              "#fdca26"
             ],
             [
              1,
              "#f0f921"
             ]
            ],
            "type": "surface"
           }
          ],
          "table": [
           {
            "cells": {
             "fill": {
              "color": "#EBF0F8"
             },
             "line": {
              "color": "white"
             }
            },
            "header": {
             "fill": {
              "color": "#C8D4E3"
             },
             "line": {
              "color": "white"
             }
            },
            "type": "table"
           }
          ]
         },
         "layout": {
          "annotationdefaults": {
           "arrowcolor": "#2a3f5f",
           "arrowhead": 0,
           "arrowwidth": 1
          },
          "autotypenumbers": "strict",
          "coloraxis": {
           "colorbar": {
            "outlinewidth": 0,
            "ticks": ""
           }
          },
          "colorscale": {
           "diverging": [
            [
             0,
             "#8e0152"
            ],
            [
             0.1,
             "#c51b7d"
            ],
            [
             0.2,
             "#de77ae"
            ],
            [
             0.3,
             "#f1b6da"
            ],
            [
             0.4,
             "#fde0ef"
            ],
            [
             0.5,
             "#f7f7f7"
            ],
            [
             0.6,
             "#e6f5d0"
            ],
            [
             0.7,
             "#b8e186"
            ],
            [
             0.8,
             "#7fbc41"
            ],
            [
             0.9,
             "#4d9221"
            ],
            [
             1,
             "#276419"
            ]
           ],
           "sequential": [
            [
             0,
             "#0d0887"
            ],
            [
             0.1111111111111111,
             "#46039f"
            ],
            [
             0.2222222222222222,
             "#7201a8"
            ],
            [
             0.3333333333333333,
             "#9c179e"
            ],
            [
             0.4444444444444444,
             "#bd3786"
            ],
            [
             0.5555555555555556,
             "#d8576b"
            ],
            [
             0.6666666666666666,
             "#ed7953"
            ],
            [
             0.7777777777777778,
             "#fb9f3a"
            ],
            [
             0.8888888888888888,
             "#fdca26"
            ],
            [
             1,
             "#f0f921"
            ]
           ],
           "sequentialminus": [
            [
             0,
             "#0d0887"
            ],
            [
             0.1111111111111111,
             "#46039f"
            ],
            [
             0.2222222222222222,
             "#7201a8"
            ],
            [
             0.3333333333333333,
             "#9c179e"
            ],
            [
             0.4444444444444444,
             "#bd3786"
            ],
            [
             0.5555555555555556,
             "#d8576b"
            ],
            [
             0.6666666666666666,
             "#ed7953"
            ],
            [
             0.7777777777777778,
             "#fb9f3a"
            ],
            [
             0.8888888888888888,
             "#fdca26"
            ],
            [
             1,
             "#f0f921"
            ]
           ]
          },
          "colorway": [
           "#636efa",
           "#EF553B",
           "#00cc96",
           "#ab63fa",
           "#FFA15A",
           "#19d3f3",
           "#FF6692",
           "#B6E880",
           "#FF97FF",
           "#FECB52"
          ],
          "font": {
           "color": "#2a3f5f"
          },
          "geo": {
           "bgcolor": "white",
           "lakecolor": "white",
           "landcolor": "#E5ECF6",
           "showlakes": true,
           "showland": true,
           "subunitcolor": "white"
          },
          "hoverlabel": {
           "align": "left"
          },
          "hovermode": "closest",
          "mapbox": {
           "style": "light"
          },
          "paper_bgcolor": "white",
          "plot_bgcolor": "#E5ECF6",
          "polar": {
           "angularaxis": {
            "gridcolor": "white",
            "linecolor": "white",
            "ticks": ""
           },
           "bgcolor": "#E5ECF6",
           "radialaxis": {
            "gridcolor": "white",
            "linecolor": "white",
            "ticks": ""
           }
          },
          "scene": {
           "xaxis": {
            "backgroundcolor": "#E5ECF6",
            "gridcolor": "white",
            "gridwidth": 2,
            "linecolor": "white",
            "showbackground": true,
            "ticks": "",
            "zerolinecolor": "white"
           },
           "yaxis": {
            "backgroundcolor": "#E5ECF6",
            "gridcolor": "white",
            "gridwidth": 2,
            "linecolor": "white",
            "showbackground": true,
            "ticks": "",
            "zerolinecolor": "white"
           },
           "zaxis": {
            "backgroundcolor": "#E5ECF6",
            "gridcolor": "white",
            "gridwidth": 2,
            "linecolor": "white",
            "showbackground": true,
            "ticks": "",
            "zerolinecolor": "white"
           }
          },
          "shapedefaults": {
           "line": {
            "color": "#2a3f5f"
           }
          },
          "ternary": {
           "aaxis": {
            "gridcolor": "white",
            "linecolor": "white",
            "ticks": ""
           },
           "baxis": {
            "gridcolor": "white",
            "linecolor": "white",
            "ticks": ""
           },
           "bgcolor": "#E5ECF6",
           "caxis": {
            "gridcolor": "white",
            "linecolor": "white",
            "ticks": ""
           }
          },
          "title": {
           "x": 0.05
          },
          "xaxis": {
           "automargin": true,
           "gridcolor": "white",
           "linecolor": "white",
           "ticks": "",
           "title": {
            "standoff": 15
           },
           "zerolinecolor": "white",
           "zerolinewidth": 2
          },
          "yaxis": {
           "automargin": true,
           "gridcolor": "white",
           "linecolor": "white",
           "ticks": "",
           "title": {
            "standoff": 15
           },
           "zerolinecolor": "white",
           "zerolinewidth": 2
          }
         }
        },
        "title": {
         "text": "MSE of the different models"
        },
        "xaxis": {
         "anchor": "y",
         "autorange": true,
         "domain": [
          0,
          1
         ],
         "range": [
          -0.5,
          10.5
         ],
         "title": {
          "text": "index"
         },
         "type": "category"
        },
        "yaxis": {
         "anchor": "x",
         "autorange": true,
         "domain": [
          0,
          1
         ],
         "range": [
          0,
          10.935721107607346
         ],
         "title": {
          "text": "MSE"
         },
         "type": "linear"
        }
       }
      },
      "image/png": "[encoded data removed]",
      "text/html": [
       "<div>                            <div id=\"c8598302-59a7-4cb4-b955-86a69aadd05a\" class=\"plotly-graph-div\" style=\"height:525px; width:100%;\"></div>            <script type=\"text/javascript\">                require([\"plotly\"], function(Plotly) {                    window.PLOTLYENV=window.PLOTLYENV || {};                                    if (document.getElementById(\"c8598302-59a7-4cb4-b955-86a69aadd05a\")) {                    Plotly.newPlot(                        \"c8598302-59a7-4cb4-b955-86a69aadd05a\",                        [{\"alignmentgroup\":\"True\",\"hovertemplate\":\"index=%{x}<br>MSE=%{y}<extra></extra>\",\"legendgroup\":\"\",\"marker\":{\"color\":\"#636efa\",\"pattern\":{\"shape\":\"\"}},\"name\":\"\",\"offsetgroup\":\"\",\"orientation\":\"v\",\"showlegend\":false,\"textposition\":\"auto\",\"x\":[\"baseline_1\",\"baseline_2\",\"baseline_3\",\"regression_by_xgb\",\"NLP_desc_stats\",\"extended_NLP_stats\",\"fully_connected_NN\",\"fully_connected_NN_concatinated_words\",\"DNN_external_embedding_stats\",\"LSTM\",\"Multiple_Inputs_Mixed_Data_NN_Functional_API\"],\"xaxis\":\"x\",\"y\":[9.684852622567933,9.16851706060463,8.599106244199879,6.375197933161097,2.5716132207605464,2.489510378066442,2.9350734455899374,10.388935052226978,5.553058775595891,9.69163126783261,3.445102796040516],\"yaxis\":\"y\",\"type\":\"bar\"}],                        {\"template\":{\"data\":{\"bar\":[{\"error_x\":{\"color\":\"#2a3f5f\"},\"error_y\":{\"color\":\"#2a3f5f\"},\"marker\":{\"line\":{\"color\":\"#E5ECF6\",\"width\":0.5},\"pattern\":{\"fillmode\":\"overlay\",\"size\":10,\"solidity\":0.2}},\"type\":\"bar\"}],\"barpolar\":[{\"marker\":{\"line\":{\"color\":\"#E5ECF6\",\"width\":0.5},\"pattern\":{\"fillmode\":\"overlay\",\"size\":10,\"solidity\":0.2}},\"type\":\"barpolar\"}],\"carpet\":[{\"aaxis\":{\"endlinecolor\":\"#2a3f5f\",\"gridcolor\":\"white\",\"linecolor\":\"white\",\"minorgridcolor\":\"white\",\"startlinecolor\":\"#2a3f5f\"},\"baxis\":{\"endlinecolor\":\"#2a3f5f\",\"gridcolor\":\"white\",\"linecolor\":\"white\",\"minorgridcolor\":\"white\",\"startlinecolor\":\"#2a3f5f\"},\"type\":\"carpet\"}],\"choropleth\":[{\"colorbar\":{\"outlinewidth\":0,\"ticks\":\"\"},\"type\":\"choropleth\"}],\"contour\":[{\"colorbar\":{\"outlinewidth\":0,\"ticks\":\"\"},\"colorscale\":[[0.0,\"#0d0887\"],[0.1111111111111111,\"#46039f\"],[0.2222222222222222,\"#7201a8\"],[0.3333333333333333,\"#9c179e\"],[0.4444444444444444,\"#bd3786\"],[0.5555555555555556,\"#d8576b\"],[0.6666666666666666,\"#ed7953\"],[0.7777777777777778,\"#fb9f3a\"],[0.8888888888888888,\"#fdca26\"],[1.0,\"#f0f921\"]],\"type\":\"contour\"}],\"contourcarpet\":[{\"colorbar\":{\"outlinewidth\":0,\"ticks\":\"\"},\"type\":\"contourcarpet\"}],\"heatmap\":[{\"colorbar\":{\"outlinewidth\":0,\"ticks\":\"\"},\"colorscale\":[[0.0,\"#0d0887\"],[0.1111111111111111,\"#46039f\"],[0.2222222222222222,\"#7201a8\"],[0.3333333333333333,\"#9c179e\"],[0.4444444444444444,\"#bd3786\"],[0.5555555555555556,\"#d8576b\"],[0.6666666666666666,\"#ed7953\"],[0.7777777777777778,\"#fb9f3a\"],[0.8888888888888888,\"#fdca26\"],[1.0,\"#f0f921\"]],\"type\":\"heatmap\"}],\"heatmapgl\":[{\"colorbar\":{\"outlinewidth\":0,\"ticks\":\"\"},\"colorscale\":[[0.0,\"#0d0887\"],[0.1111111111111111,\"#46039f\"],[0.2222222222222222,\"#7201a8\"],[0.3333333333333333,\"#9c179e\"],[0.4444444444444444,\"#bd3786\"],[0.5555555555555556,\"#d8576b\"],[0.6666666666666666,\"#ed7953\"],[0.7777777777777778,\"#fb9f3a\"],[0.8888888888888888,\"#fdca26\"],[1.0,\"#f0f921\"]],\"type\":\"heatmapgl\"}],\"histogram\":[{\"marker\":{\"pattern\":{\"fillmode\":\"overlay\",\"size\":10,\"solidity\":0.2}},\"type\":\"histogram\"}],\"histogram2d\":[{\"colorbar\":{\"outlinewidth\":0,\"ticks\":\"\"},\"colorscale\":[[0.0,\"#0d0887\"],[0.1111111111111111,\"#46039f\"],[0.2222222222222222,\"#7201a8\"],[0.3333333333333333,\"#9c179e\"],[0.4444444444444444,\"#bd3786\"],[0.5555555555555556,\"#d8576b\"],[0.6666666666666666,\"#ed7953\"],[0.7777777777777778,\"#fb9f3a\"],[0.8888888888888888,\"#fdca26\"],[1.0,\"#f0f921\"]],\"type\":\"histogram2d\"}],\"histogram2dcontour\":[{\"colorbar\":{\"outlinewidth\":0,\"ticks\":\"\"},\"colorscale\":[[0.0,\"#0d0887\"],[0.1111111111111111,\"#46039f\"],[0.2222222222222222,\"#7201a8\"],[0.3333333333333333,\"#9c179e\"],[0.4444444444444444,\"#bd3786\"],[0.5555555555555556,\"#d8576b\"],[0.6666666666666666,\"#ed7953\"],[0.7777777777777778,\"#fb9f3a\"],[0.8888888888888888,\"#fdca26\"],[1.0,\"#f0f921\"]],\"type\":\"histogram2dcontour\"}],\"mesh3d\":[{\"colorbar\":{\"outlinewidth\":0,\"ticks\":\"\"},\"type\":\"mesh3d\"}],\"parcoords\":[{\"line\":{\"colorbar\":{\"outlinewidth\":0,\"ticks\":\"\"}},\"type\":\"parcoords\"}],\"pie\":[{\"automargin\":true,\"type\":\"pie\"}],\"scatter\":[{\"marker\":{\"colorbar\":{\"outlinewidth\":0,\"ticks\":\"\"}},\"type\":\"scatter\"}],\"scatter3d\":[{\"line\":{\"colorbar\":{\"outlinewidth\":0,\"ticks\":\"\"}},\"marker\":{\"colorbar\":{\"outlinewidth\":0,\"ticks\":\"\"}},\"type\":\"scatter3d\"}],\"scattercarpet\":[{\"marker\":{\"colorbar\":{\"outlinewidth\":0,\"ticks\":\"\"}},\"type\":\"scattercarpet\"}],\"scattergeo\":[{\"marker\":{\"colorbar\":{\"outlinewidth\":0,\"ticks\":\"\"}},\"type\":\"scattergeo\"}],\"scattergl\":[{\"marker\":{\"colorbar\":{\"outlinewidth\":0,\"ticks\":\"\"}},\"type\":\"scattergl\"}],\"scattermapbox\":[{\"marker\":{\"colorbar\":{\"outlinewidth\":0,\"ticks\":\"\"}},\"type\":\"scattermapbox\"}],\"scatterpolar\":[{\"marker\":{\"colorbar\":{\"outlinewidth\":0,\"ticks\":\"\"}},\"type\":\"scatterpolar\"}],\"scatterpolargl\":[{\"marker\":{\"colorbar\":{\"outlinewidth\":0,\"ticks\":\"\"}},\"type\":\"scatterpolargl\"}],\"scatterternary\":[{\"marker\":{\"colorbar\":{\"outlinewidth\":0,\"ticks\":\"\"}},\"type\":\"scatterternary\"}],\"surface\":[{\"colorbar\":{\"outlinewidth\":0,\"ticks\":\"\"},\"colorscale\":[[0.0,\"#0d0887\"],[0.1111111111111111,\"#46039f\"],[0.2222222222222222,\"#7201a8\"],[0.3333333333333333,\"#9c179e\"],[0.4444444444444444,\"#bd3786\"],[0.5555555555555556,\"#d8576b\"],[0.6666666666666666,\"#ed7953\"],[0.7777777777777778,\"#fb9f3a\"],[0.8888888888888888,\"#fdca26\"],[1.0,\"#f0f921\"]],\"type\":\"surface\"}],\"table\":[{\"cells\":{\"fill\":{\"color\":\"#EBF0F8\"},\"line\":{\"color\":\"white\"}},\"header\":{\"fill\":{\"color\":\"#C8D4E3\"},\"line\":{\"color\":\"white\"}},\"type\":\"table\"}]},\"layout\":{\"annotationdefaults\":{\"arrowcolor\":\"#2a3f5f\",\"arrowhead\":0,\"arrowwidth\":1},\"autotypenumbers\":\"strict\",\"coloraxis\":{\"colorbar\":{\"outlinewidth\":0,\"ticks\":\"\"}},\"colorscale\":{\"diverging\":[[0,\"#8e0152\"],[0.1,\"#c51b7d\"],[0.2,\"#de77ae\"],[0.3,\"#f1b6da\"],[0.4,\"#fde0ef\"],[0.5,\"#f7f7f7\"],[0.6,\"#e6f5d0\"],[0.7,\"#b8e186\"],[0.8,\"#7fbc41\"],[0.9,\"#4d9221\"],[1,\"#276419\"]],\"sequential\":[[0.0,\"#0d0887\"],[0.1111111111111111,\"#46039f\"],[0.2222222222222222,\"#7201a8\"],[0.3333333333333333,\"#9c179e\"],[0.4444444444444444,\"#bd3786\"],[0.5555555555555556,\"#d8576b\"],[0.6666666666666666,\"#ed7953\"],[0.7777777777777778,\"#fb9f3a\"],[0.8888888888888888,\"#fdca26\"],[1.0,\"#f0f921\"]],\"sequentialminus\":[[0.0,\"#0d0887\"],[0.1111111111111111,\"#46039f\"],[0.2222222222222222,\"#7201a8\"],[0.3333333333333333,\"#9c179e\"],[0.4444444444444444,\"#bd3786\"],[0.5555555555555556,\"#d8576b\"],[0.6666666666666666,\"#ed7953\"],[0.7777777777777778,\"#fb9f3a\"],[0.8888888888888888,\"#fdca26\"],[1.0,\"#f0f921\"]]},\"colorway\":[\"#636efa\",\"#EF553B\",\"#00cc96\",\"#ab63fa\",\"#FFA15A\",\"#19d3f3\",\"#FF6692\",\"#B6E880\",\"#FF97FF\",\"#FECB52\"],\"font\":{\"color\":\"#2a3f5f\"},\"geo\":{\"bgcolor\":\"white\",\"lakecolor\":\"white\",\"landcolor\":\"#E5ECF6\",\"showlakes\":true,\"showland\":true,\"subunitcolor\":\"white\"},\"hoverlabel\":{\"align\":\"left\"},\"hovermode\":\"closest\",\"mapbox\":{\"style\":\"light\"},\"paper_bgcolor\":\"white\",\"plot_bgcolor\":\"#E5ECF6\",\"polar\":{\"angularaxis\":{\"gridcolor\":\"white\",\"linecolor\":\"white\",\"ticks\":\"\"},\"bgcolor\":\"#E5ECF6\",\"radialaxis\":{\"gridcolor\":\"white\",\"linecolor\":\"white\",\"ticks\":\"\"}},\"scene\":{\"xaxis\":{\"backgroundcolor\":\"#E5ECF6\",\"gridcolor\":\"white\",\"gridwidth\":2,\"linecolor\":\"white\",\"showbackground\":true,\"ticks\":\"\",\"zerolinecolor\":\"white\"},\"yaxis\":{\"backgroundcolor\":\"#E5ECF6\",\"gridcolor\":\"white\",\"gridwidth\":2,\"linecolor\":\"white\",\"showbackground\":true,\"ticks\":\"\",\"zerolinecolor\":\"white\"},\"zaxis\":{\"backgroundcolor\":\"#E5ECF6\",\"gridcolor\":\"white\",\"gridwidth\":2,\"linecolor\":\"white\",\"showbackground\":true,\"ticks\":\"\",\"zerolinecolor\":\"white\"}},\"shapedefaults\":{\"line\":{\"color\":\"#2a3f5f\"}},\"ternary\":{\"aaxis\":{\"gridcolor\":\"white\",\"linecolor\":\"white\",\"ticks\":\"\"},\"baxis\":{\"gridcolor\":\"white\",\"linecolor\":\"white\",\"ticks\":\"\"},\"bgcolor\":\"#E5ECF6\",\"caxis\":{\"gridcolor\":\"white\",\"linecolor\":\"white\",\"ticks\":\"\"}},\"title\":{\"x\":0.05},\"xaxis\":{\"automargin\":true,\"gridcolor\":\"white\",\"linecolor\":\"white\",\"ticks\":\"\",\"title\":{\"standoff\":15},\"zerolinecolor\":\"white\",\"zerolinewidth\":2},\"yaxis\":{\"automargin\":true,\"gridcolor\":\"white\",\"linecolor\":\"white\",\"ticks\":\"\",\"title\":{\"standoff\":15},\"zerolinecolor\":\"white\",\"zerolinewidth\":2}}},\"xaxis\":{\"anchor\":\"y\",\"domain\":[0.0,1.0],\"title\":{\"text\":\"index\"}},\"yaxis\":{\"anchor\":\"x\",\"domain\":[0.0,1.0],\"title\":{\"text\":\"MSE\"}},\"legend\":{\"tracegroupgap\":0},\"title\":{\"text\":\"MSE of the different models\"},\"barmode\":\"relative\"},                        {\"responsive\": true}                    ).then(function(){\n",
       "                            \n",
       "var gd = document.getElementById('c8598302-59a7-4cb4-b955-86a69aadd05a');\n",
       "var x = new MutationObserver(function (mutations, observer) {{\n",
       "        var display = window.getComputedStyle(gd).display;\n",
       "        if (!display || display === 'none') {{\n",
       "            console.log([gd, 'removed!']);\n",
       "            Plotly.purge(gd);\n",
       "            observer.disconnect();\n",
       "        }}\n",
       "}});\n",
       "\n",
       "// Listen for the removal of the full notebook cells\n",
       "var notebookContainer = gd.closest('#notebook-container');\n",
       "if (notebookContainer) {{\n",
       "    x.observe(notebookContainer, {childList: true});\n",
       "}}\n",
       "\n",
       "// Listen for the clearing of the current output cell\n",
       "var outputEl = gd.closest('.output');\n",
       "if (outputEl) {{\n",
       "    x.observe(outputEl, {childList: true});\n",
       "}}\n",
       "\n",
       "                        })                };                });            </script>        </div>"
      ]
     },
     "metadata": {},
     "output_type": "display_data"
    }
   ],
   "source": [
    "px.bar(all_compared, x=all_compared.index, y='MSE', \n",
    "        title=\"MSE of the different models\")"
   ]
  },
  {
   "cell_type": "code",
   "execution_count": 139,
   "metadata": {},
   "outputs": [
    {
     "data": {
      "application/vnd.plotly.v1+json": {
       "config": {
        "plotlyServerURL": "https://plot.ly"
       },
       "data": [
        {
         "alignmentgroup": "True",
         "hovertemplate": "index=%{x}<br>MAE=%{y}<extra></extra>",
         "legendgroup": "",
         "marker": {
          "color": "#636efa",
          "pattern": {
           "shape": ""
          }
         },
         "name": "",
         "offsetgroup": "",
         "orientation": "v",
         "showlegend": false,
         "textposition": "auto",
         "type": "bar",
         "x": [
          "baseline_1",
          "baseline_2",
          "baseline_3",
          "regression_by_xgb",
          "NLP_desc_stats",
          "extended_NLP_stats",
          "fully_connected_NN",
          "fully_connected_NN_concatinated_words",
          "DNN_external_embedding_stats",
          "LSTM",
          "Multiple_Inputs_Mixed_Data_NN_Functional_API"
         ],
         "xaxis": "x",
         "y": [
          2.5581043211391687,
          2.481975023987568,
          2.3822394841359738,
          1.9124093674472873,
          1.2666835723582195,
          1.2380333320937265,
          1.3524877298811155,
          2.612425552267702,
          1.8799231407075874,
          2.553310587263294,
          1.471252531059107
         ],
         "yaxis": "y"
        }
       ],
       "layout": {
        "autosize": true,
        "barmode": "relative",
        "legend": {
         "tracegroupgap": 0
        },
        "template": {
         "data": {
          "bar": [
           {
            "error_x": {
             "color": "#2a3f5f"
            },
            "error_y": {
             "color": "#2a3f5f"
            },
            "marker": {
             "line": {
              "color": "#E5ECF6",
              "width": 0.5
             },
             "pattern": {
              "fillmode": "overlay",
              "size": 10,
              "solidity": 0.2
             }
            },
            "type": "bar"
           }
          ],
          "barpolar": [
           {
            "marker": {
             "line": {
              "color": "#E5ECF6",
              "width": 0.5
             },
             "pattern": {
              "fillmode": "overlay",
              "size": 10,
              "solidity": 0.2
             }
            },
            "type": "barpolar"
           }
          ],
          "carpet": [
           {
            "aaxis": {
             "endlinecolor": "#2a3f5f",
             "gridcolor": "white",
             "linecolor": "white",
             "minorgridcolor": "white",
             "startlinecolor": "#2a3f5f"
            },
            "baxis": {
             "endlinecolor": "#2a3f5f",
             "gridcolor": "white",
             "linecolor": "white",
             "minorgridcolor": "white",
             "startlinecolor": "#2a3f5f"
            },
            "type": "carpet"
           }
          ],
          "choropleth": [
           {
            "colorbar": {
             "outlinewidth": 0,
             "ticks": ""
            },
            "type": "choropleth"
           }
          ],
          "contour": [
           {
            "colorbar": {
             "outlinewidth": 0,
             "ticks": ""
            },
            "colorscale": [
             [
              0,
              "#0d0887"
             ],
             [
              0.1111111111111111,
              "#46039f"
             ],
             [
              0.2222222222222222,
              "#7201a8"
             ],
             [
              0.3333333333333333,
              "#9c179e"
             ],
             [
              0.4444444444444444,
              "#bd3786"
             ],
             [
              0.5555555555555556,
              "#d8576b"
             ],
             [
              0.6666666666666666,
              "#ed7953"
             ],
             [
              0.7777777777777778,
              "#fb9f3a"
             ],
             [
              0.8888888888888888,
              "#fdca26"
             ],
             [
              1,
              "#f0f921"
             ]
            ],
            "type": "contour"
           }
          ],
          "contourcarpet": [
           {
            "colorbar": {
             "outlinewidth": 0,
             "ticks": ""
            },
            "type": "contourcarpet"
           }
          ],
          "heatmap": [
           {
            "colorbar": {
             "outlinewidth": 0,
             "ticks": ""
            },
            "colorscale": [
             [
              0,
              "#0d0887"
             ],
             [
              0.1111111111111111,
              "#46039f"
             ],
             [
              0.2222222222222222,
              "#7201a8"
             ],
             [
              0.3333333333333333,
              "#9c179e"
             ],
             [
              0.4444444444444444,
              "#bd3786"
             ],
             [
              0.5555555555555556,
              "#d8576b"
             ],
             [
              0.6666666666666666,
              "#ed7953"
             ],
             [
              0.7777777777777778,
              "#fb9f3a"
             ],
             [
              0.8888888888888888,
              "#fdca26"
             ],
             [
              1,
              "#f0f921"
             ]
            ],
            "type": "heatmap"
           }
          ],
          "heatmapgl": [
           {
            "colorbar": {
             "outlinewidth": 0,
             "ticks": ""
            },
            "colorscale": [
             [
              0,
              "#0d0887"
             ],
             [
              0.1111111111111111,
              "#46039f"
             ],
             [
              0.2222222222222222,
              "#7201a8"
             ],
             [
              0.3333333333333333,
              "#9c179e"
             ],
             [
              0.4444444444444444,
              "#bd3786"
             ],
             [
              0.5555555555555556,
              "#d8576b"
             ],
             [
              0.6666666666666666,
              "#ed7953"
             ],
             [
              0.7777777777777778,
              "#fb9f3a"
             ],
             [
              0.8888888888888888,
              "#fdca26"
             ],
             [
              1,
              "#f0f921"
             ]
            ],
            "type": "heatmapgl"
           }
          ],
          "histogram": [
           {
            "marker": {
             "pattern": {
              "fillmode": "overlay",
              "size": 10,
              "solidity": 0.2
             }
            },
            "type": "histogram"
           }
          ],
          "histogram2d": [
           {
            "colorbar": {
             "outlinewidth": 0,
             "ticks": ""
            },
            "colorscale": [
             [
              0,
              "#0d0887"
             ],
             [
              0.1111111111111111,
              "#46039f"
             ],
             [
              0.2222222222222222,
              "#7201a8"
             ],
             [
              0.3333333333333333,
              "#9c179e"
             ],
             [
              0.4444444444444444,
              "#bd3786"
             ],
             [
              0.5555555555555556,
              "#d8576b"
             ],
             [
              0.6666666666666666,
              "#ed7953"
             ],
             [
              0.7777777777777778,
              "#fb9f3a"
             ],
             [
              0.8888888888888888,
              "#fdca26"
             ],
             [
              1,
              "#f0f921"
             ]
            ],
            "type": "histogram2d"
           }
          ],
          "histogram2dcontour": [
           {
            "colorbar": {
             "outlinewidth": 0,
             "ticks": ""
            },
            "colorscale": [
             [
              0,
              "#0d0887"
             ],
             [
              0.1111111111111111,
              "#46039f"
             ],
             [
              0.2222222222222222,
              "#7201a8"
             ],
             [
              0.3333333333333333,
              "#9c179e"
             ],
             [
              0.4444444444444444,
              "#bd3786"
             ],
             [
              0.5555555555555556,
              "#d8576b"
             ],
             [
              0.6666666666666666,
              "#ed7953"
             ],
             [
              0.7777777777777778,
              "#fb9f3a"
             ],
             [
              0.8888888888888888,
              "#fdca26"
             ],
             [
              1,
              "#f0f921"
             ]
            ],
            "type": "histogram2dcontour"
           }
          ],
          "mesh3d": [
           {
            "colorbar": {
             "outlinewidth": 0,
             "ticks": ""
            },
            "type": "mesh3d"
           }
          ],
          "parcoords": [
           {
            "line": {
             "colorbar": {
              "outlinewidth": 0,
              "ticks": ""
             }
            },
            "type": "parcoords"
           }
          ],
          "pie": [
           {
            "automargin": true,
            "type": "pie"
           }
          ],
          "scatter": [
           {
            "marker": {
             "colorbar": {
              "outlinewidth": 0,
              "ticks": ""
             }
            },
            "type": "scatter"
           }
          ],
          "scatter3d": [
           {
            "line": {
             "colorbar": {
              "outlinewidth": 0,
              "ticks": ""
             }
            },
            "marker": {
             "colorbar": {
              "outlinewidth": 0,
              "ticks": ""
             }
            },
            "type": "scatter3d"
           }
          ],
          "scattercarpet": [
           {
            "marker": {
             "colorbar": {
              "outlinewidth": 0,
              "ticks": ""
             }
            },
            "type": "scattercarpet"
           }
          ],
          "scattergeo": [
           {
            "marker": {
             "colorbar": {
              "outlinewidth": 0,
              "ticks": ""
             }
            },
            "type": "scattergeo"
           }
          ],
          "scattergl": [
           {
            "marker": {
             "colorbar": {
              "outlinewidth": 0,
              "ticks": ""
             }
            },
            "type": "scattergl"
           }
          ],
          "scattermapbox": [
           {
            "marker": {
             "colorbar": {
              "outlinewidth": 0,
              "ticks": ""
             }
            },
            "type": "scattermapbox"
           }
          ],
          "scatterpolar": [
           {
            "marker": {
             "colorbar": {
              "outlinewidth": 0,
              "ticks": ""
             }
            },
            "type": "scatterpolar"
           }
          ],
          "scatterpolargl": [
           {
            "marker": {
             "colorbar": {
              "outlinewidth": 0,
              "ticks": ""
             }
            },
            "type": "scatterpolargl"
           }
          ],
          "scatterternary": [
           {
            "marker": {
             "colorbar": {
              "outlinewidth": 0,
              "ticks": ""
             }
            },
            "type": "scatterternary"
           }
          ],
          "surface": [
           {
            "colorbar": {
             "outlinewidth": 0,
             "ticks": ""
            },
            "colorscale": [
             [
              0,
              "#0d0887"
             ],
             [
              0.1111111111111111,
              "#46039f"
             ],
             [
              0.2222222222222222,
              "#7201a8"
             ],
             [
              0.3333333333333333,
              "#9c179e"
             ],
             [
              0.4444444444444444,
              "#bd3786"
             ],
             [
              0.5555555555555556,
              "#d8576b"
             ],
             [
              0.6666666666666666,
              "#ed7953"
             ],
             [
              0.7777777777777778,
              "#fb9f3a"
             ],
             [
              0.8888888888888888,
              "#fdca26"
             ],
             [
              1,
              "#f0f921"
             ]
            ],
            "type": "surface"
           }
          ],
          "table": [
           {
            "cells": {
             "fill": {
              "color": "#EBF0F8"
             },
             "line": {
              "color": "white"
             }
            },
            "header": {
             "fill": {
              "color": "#C8D4E3"
             },
             "line": {
              "color": "white"
             }
            },
            "type": "table"
           }
          ]
         },
         "layout": {
          "annotationdefaults": {
           "arrowcolor": "#2a3f5f",
           "arrowhead": 0,
           "arrowwidth": 1
          },
          "autotypenumbers": "strict",
          "coloraxis": {
           "colorbar": {
            "outlinewidth": 0,
            "ticks": ""
           }
          },
          "colorscale": {
           "diverging": [
            [
             0,
             "#8e0152"
            ],
            [
             0.1,
             "#c51b7d"
            ],
            [
             0.2,
             "#de77ae"
            ],
            [
             0.3,
             "#f1b6da"
            ],
            [
             0.4,
             "#fde0ef"
            ],
            [
             0.5,
             "#f7f7f7"
            ],
            [
             0.6,
             "#e6f5d0"
            ],
            [
             0.7,
             "#b8e186"
            ],
            [
             0.8,
             "#7fbc41"
            ],
            [
             0.9,
             "#4d9221"
            ],
            [
             1,
             "#276419"
            ]
           ],
           "sequential": [
            [
             0,
             "#0d0887"
            ],
            [
             0.1111111111111111,
             "#46039f"
            ],
            [
             0.2222222222222222,
             "#7201a8"
            ],
            [
             0.3333333333333333,
             "#9c179e"
            ],
            [
             0.4444444444444444,
             "#bd3786"
            ],
            [
             0.5555555555555556,
             "#d8576b"
            ],
            [
             0.6666666666666666,
             "#ed7953"
            ],
            [
             0.7777777777777778,
             "#fb9f3a"
            ],
            [
             0.8888888888888888,
             "#fdca26"
            ],
            [
             1,
             "#f0f921"
            ]
           ],
           "sequentialminus": [
            [
             0,
             "#0d0887"
            ],
            [
             0.1111111111111111,
             "#46039f"
            ],
            [
             0.2222222222222222,
             "#7201a8"
            ],
            [
             0.3333333333333333,
             "#9c179e"
            ],
            [
             0.4444444444444444,
             "#bd3786"
            ],
            [
             0.5555555555555556,
             "#d8576b"
            ],
            [
             0.6666666666666666,
             "#ed7953"
            ],
            [
             0.7777777777777778,
             "#fb9f3a"
            ],
            [
             0.8888888888888888,
             "#fdca26"
            ],
            [
             1,
             "#f0f921"
            ]
           ]
          },
          "colorway": [
           "#636efa",
           "#EF553B",
           "#00cc96",
           "#ab63fa",
           "#FFA15A",
           "#19d3f3",
           "#FF6692",
           "#B6E880",
           "#FF97FF",
           "#FECB52"
          ],
          "font": {
           "color": "#2a3f5f"
          },
          "geo": {
           "bgcolor": "white",
           "lakecolor": "white",
           "landcolor": "#E5ECF6",
           "showlakes": true,
           "showland": true,
           "subunitcolor": "white"
          },
          "hoverlabel": {
           "align": "left"
          },
          "hovermode": "closest",
          "mapbox": {
           "style": "light"
          },
          "paper_bgcolor": "white",
          "plot_bgcolor": "#E5ECF6",
          "polar": {
           "angularaxis": {
            "gridcolor": "white",
            "linecolor": "white",
            "ticks": ""
           },
           "bgcolor": "#E5ECF6",
           "radialaxis": {
            "gridcolor": "white",
            "linecolor": "white",
            "ticks": ""
           }
          },
          "scene": {
           "xaxis": {
            "backgroundcolor": "#E5ECF6",
            "gridcolor": "white",
            "gridwidth": 2,
            "linecolor": "white",
            "showbackground": true,
            "ticks": "",
            "zerolinecolor": "white"
           },
           "yaxis": {
            "backgroundcolor": "#E5ECF6",
            "gridcolor": "white",
            "gridwidth": 2,
            "linecolor": "white",
            "showbackground": true,
            "ticks": "",
            "zerolinecolor": "white"
           },
           "zaxis": {
            "backgroundcolor": "#E5ECF6",
            "gridcolor": "white",
            "gridwidth": 2,
            "linecolor": "white",
            "showbackground": true,
            "ticks": "",
            "zerolinecolor": "white"
           }
          },
          "shapedefaults": {
           "line": {
            "color": "#2a3f5f"
           }
          },
          "ternary": {
           "aaxis": {
            "gridcolor": "white",
            "linecolor": "white",
            "ticks": ""
           },
           "baxis": {
            "gridcolor": "white",
            "linecolor": "white",
            "ticks": ""
           },
           "bgcolor": "#E5ECF6",
           "caxis": {
            "gridcolor": "white",
            "linecolor": "white",
            "ticks": ""
           }
          },
          "title": {
           "x": 0.05
          },
          "xaxis": {
           "automargin": true,
           "gridcolor": "white",
           "linecolor": "white",
           "ticks": "",
           "title": {
            "standoff": 15
           },
           "zerolinecolor": "white",
           "zerolinewidth": 2
          },
          "yaxis": {
           "automargin": true,
           "gridcolor": "white",
           "linecolor": "white",
           "ticks": "",
           "title": {
            "standoff": 15
           },
           "zerolinecolor": "white",
           "zerolinewidth": 2
          }
         }
        },
        "title": {
         "text": "MAE of the different models"
        },
        "xaxis": {
         "anchor": "y",
         "autorange": true,
         "domain": [
          0,
          1
         ],
         "range": [
          -0.5,
          10.5
         ],
         "title": {
          "text": "index"
         },
         "type": "category"
        },
        "yaxis": {
         "anchor": "x",
         "autorange": true,
         "domain": [
          0,
          1
         ],
         "range": [
          0,
          2.749921633966002
         ],
         "title": {
          "text": "MAE"
         },
         "type": "linear"
        }
       }
      },
      "image/png": "[encoded data removed]",
      "text/html": [
       "<div>                            <div id=\"ade3976a-b17d-46be-ad0d-5edffd400eb2\" class=\"plotly-graph-div\" style=\"height:525px; width:100%;\"></div>            <script type=\"text/javascript\">                require([\"plotly\"], function(Plotly) {                    window.PLOTLYENV=window.PLOTLYENV || {};                                    if (document.getElementById(\"ade3976a-b17d-46be-ad0d-5edffd400eb2\")) {                    Plotly.newPlot(                        \"ade3976a-b17d-46be-ad0d-5edffd400eb2\",                        [{\"alignmentgroup\":\"True\",\"hovertemplate\":\"index=%{x}<br>MAE=%{y}<extra></extra>\",\"legendgroup\":\"\",\"marker\":{\"color\":\"#636efa\",\"pattern\":{\"shape\":\"\"}},\"name\":\"\",\"offsetgroup\":\"\",\"orientation\":\"v\",\"showlegend\":false,\"textposition\":\"auto\",\"x\":[\"baseline_1\",\"baseline_2\",\"baseline_3\",\"regression_by_xgb\",\"NLP_desc_stats\",\"extended_NLP_stats\",\"fully_connected_NN\",\"fully_connected_NN_concatinated_words\",\"DNN_external_embedding_stats\",\"LSTM\",\"Multiple_Inputs_Mixed_Data_NN_Functional_API\"],\"xaxis\":\"x\",\"y\":[2.5581043211391687,2.481975023987568,2.3822394841359738,1.9124093674472873,1.2666835723582195,1.2380333320937265,1.3524877298811155,2.612425552267702,1.8799231407075874,2.553310587263294,1.471252531059107],\"yaxis\":\"y\",\"type\":\"bar\"}],                        {\"template\":{\"data\":{\"bar\":[{\"error_x\":{\"color\":\"#2a3f5f\"},\"error_y\":{\"color\":\"#2a3f5f\"},\"marker\":{\"line\":{\"color\":\"#E5ECF6\",\"width\":0.5},\"pattern\":{\"fillmode\":\"overlay\",\"size\":10,\"solidity\":0.2}},\"type\":\"bar\"}],\"barpolar\":[{\"marker\":{\"line\":{\"color\":\"#E5ECF6\",\"width\":0.5},\"pattern\":{\"fillmode\":\"overlay\",\"size\":10,\"solidity\":0.2}},\"type\":\"barpolar\"}],\"carpet\":[{\"aaxis\":{\"endlinecolor\":\"#2a3f5f\",\"gridcolor\":\"white\",\"linecolor\":\"white\",\"minorgridcolor\":\"white\",\"startlinecolor\":\"#2a3f5f\"},\"baxis\":{\"endlinecolor\":\"#2a3f5f\",\"gridcolor\":\"white\",\"linecolor\":\"white\",\"minorgridcolor\":\"white\",\"startlinecolor\":\"#2a3f5f\"},\"type\":\"carpet\"}],\"choropleth\":[{\"colorbar\":{\"outlinewidth\":0,\"ticks\":\"\"},\"type\":\"choropleth\"}],\"contour\":[{\"colorbar\":{\"outlinewidth\":0,\"ticks\":\"\"},\"colorscale\":[[0.0,\"#0d0887\"],[0.1111111111111111,\"#46039f\"],[0.2222222222222222,\"#7201a8\"],[0.3333333333333333,\"#9c179e\"],[0.4444444444444444,\"#bd3786\"],[0.5555555555555556,\"#d8576b\"],[0.6666666666666666,\"#ed7953\"],[0.7777777777777778,\"#fb9f3a\"],[0.8888888888888888,\"#fdca26\"],[1.0,\"#f0f921\"]],\"type\":\"contour\"}],\"contourcarpet\":[{\"colorbar\":{\"outlinewidth\":0,\"ticks\":\"\"},\"type\":\"contourcarpet\"}],\"heatmap\":[{\"colorbar\":{\"outlinewidth\":0,\"ticks\":\"\"},\"colorscale\":[[0.0,\"#0d0887\"],[0.1111111111111111,\"#46039f\"],[0.2222222222222222,\"#7201a8\"],[0.3333333333333333,\"#9c179e\"],[0.4444444444444444,\"#bd3786\"],[0.5555555555555556,\"#d8576b\"],[0.6666666666666666,\"#ed7953\"],[0.7777777777777778,\"#fb9f3a\"],[0.8888888888888888,\"#fdca26\"],[1.0,\"#f0f921\"]],\"type\":\"heatmap\"}],\"heatmapgl\":[{\"colorbar\":{\"outlinewidth\":0,\"ticks\":\"\"},\"colorscale\":[[0.0,\"#0d0887\"],[0.1111111111111111,\"#46039f\"],[0.2222222222222222,\"#7201a8\"],[0.3333333333333333,\"#9c179e\"],[0.4444444444444444,\"#bd3786\"],[0.5555555555555556,\"#d8576b\"],[0.6666666666666666,\"#ed7953\"],[0.7777777777777778,\"#fb9f3a\"],[0.8888888888888888,\"#fdca26\"],[1.0,\"#f0f921\"]],\"type\":\"heatmapgl\"}],\"histogram\":[{\"marker\":{\"pattern\":{\"fillmode\":\"overlay\",\"size\":10,\"solidity\":0.2}},\"type\":\"histogram\"}],\"histogram2d\":[{\"colorbar\":{\"outlinewidth\":0,\"ticks\":\"\"},\"colorscale\":[[0.0,\"#0d0887\"],[0.1111111111111111,\"#46039f\"],[0.2222222222222222,\"#7201a8\"],[0.3333333333333333,\"#9c179e\"],[0.4444444444444444,\"#bd3786\"],[0.5555555555555556,\"#d8576b\"],[0.6666666666666666,\"#ed7953\"],[0.7777777777777778,\"#fb9f3a\"],[0.8888888888888888,\"#fdca26\"],[1.0,\"#f0f921\"]],\"type\":\"histogram2d\"}],\"histogram2dcontour\":[{\"colorbar\":{\"outlinewidth\":0,\"ticks\":\"\"},\"colorscale\":[[0.0,\"#0d0887\"],[0.1111111111111111,\"#46039f\"],[0.2222222222222222,\"#7201a8\"],[0.3333333333333333,\"#9c179e\"],[0.4444444444444444,\"#bd3786\"],[0.5555555555555556,\"#d8576b\"],[0.6666666666666666,\"#ed7953\"],[0.7777777777777778,\"#fb9f3a\"],[0.8888888888888888,\"#fdca26\"],[1.0,\"#f0f921\"]],\"type\":\"histogram2dcontour\"}],\"mesh3d\":[{\"colorbar\":{\"outlinewidth\":0,\"ticks\":\"\"},\"type\":\"mesh3d\"}],\"parcoords\":[{\"line\":{\"colorbar\":{\"outlinewidth\":0,\"ticks\":\"\"}},\"type\":\"parcoords\"}],\"pie\":[{\"automargin\":true,\"type\":\"pie\"}],\"scatter\":[{\"marker\":{\"colorbar\":{\"outlinewidth\":0,\"ticks\":\"\"}},\"type\":\"scatter\"}],\"scatter3d\":[{\"line\":{\"colorbar\":{\"outlinewidth\":0,\"ticks\":\"\"}},\"marker\":{\"colorbar\":{\"outlinewidth\":0,\"ticks\":\"\"}},\"type\":\"scatter3d\"}],\"scattercarpet\":[{\"marker\":{\"colorbar\":{\"outlinewidth\":0,\"ticks\":\"\"}},\"type\":\"scattercarpet\"}],\"scattergeo\":[{\"marker\":{\"colorbar\":{\"outlinewidth\":0,\"ticks\":\"\"}},\"type\":\"scattergeo\"}],\"scattergl\":[{\"marker\":{\"colorbar\":{\"outlinewidth\":0,\"ticks\":\"\"}},\"type\":\"scattergl\"}],\"scattermapbox\":[{\"marker\":{\"colorbar\":{\"outlinewidth\":0,\"ticks\":\"\"}},\"type\":\"scattermapbox\"}],\"scatterpolar\":[{\"marker\":{\"colorbar\":{\"outlinewidth\":0,\"ticks\":\"\"}},\"type\":\"scatterpolar\"}],\"scatterpolargl\":[{\"marker\":{\"colorbar\":{\"outlinewidth\":0,\"ticks\":\"\"}},\"type\":\"scatterpolargl\"}],\"scatterternary\":[{\"marker\":{\"colorbar\":{\"outlinewidth\":0,\"ticks\":\"\"}},\"type\":\"scatterternary\"}],\"surface\":[{\"colorbar\":{\"outlinewidth\":0,\"ticks\":\"\"},\"colorscale\":[[0.0,\"#0d0887\"],[0.1111111111111111,\"#46039f\"],[0.2222222222222222,\"#7201a8\"],[0.3333333333333333,\"#9c179e\"],[0.4444444444444444,\"#bd3786\"],[0.5555555555555556,\"#d8576b\"],[0.6666666666666666,\"#ed7953\"],[0.7777777777777778,\"#fb9f3a\"],[0.8888888888888888,\"#fdca26\"],[1.0,\"#f0f921\"]],\"type\":\"surface\"}],\"table\":[{\"cells\":{\"fill\":{\"color\":\"#EBF0F8\"},\"line\":{\"color\":\"white\"}},\"header\":{\"fill\":{\"color\":\"#C8D4E3\"},\"line\":{\"color\":\"white\"}},\"type\":\"table\"}]},\"layout\":{\"annotationdefaults\":{\"arrowcolor\":\"#2a3f5f\",\"arrowhead\":0,\"arrowwidth\":1},\"autotypenumbers\":\"strict\",\"coloraxis\":{\"colorbar\":{\"outlinewidth\":0,\"ticks\":\"\"}},\"colorscale\":{\"diverging\":[[0,\"#8e0152\"],[0.1,\"#c51b7d\"],[0.2,\"#de77ae\"],[0.3,\"#f1b6da\"],[0.4,\"#fde0ef\"],[0.5,\"#f7f7f7\"],[0.6,\"#e6f5d0\"],[0.7,\"#b8e186\"],[0.8,\"#7fbc41\"],[0.9,\"#4d9221\"],[1,\"#276419\"]],\"sequential\":[[0.0,\"#0d0887\"],[0.1111111111111111,\"#46039f\"],[0.2222222222222222,\"#7201a8\"],[0.3333333333333333,\"#9c179e\"],[0.4444444444444444,\"#bd3786\"],[0.5555555555555556,\"#d8576b\"],[0.6666666666666666,\"#ed7953\"],[0.7777777777777778,\"#fb9f3a\"],[0.8888888888888888,\"#fdca26\"],[1.0,\"#f0f921\"]],\"sequentialminus\":[[0.0,\"#0d0887\"],[0.1111111111111111,\"#46039f\"],[0.2222222222222222,\"#7201a8\"],[0.3333333333333333,\"#9c179e\"],[0.4444444444444444,\"#bd3786\"],[0.5555555555555556,\"#d8576b\"],[0.6666666666666666,\"#ed7953\"],[0.7777777777777778,\"#fb9f3a\"],[0.8888888888888888,\"#fdca26\"],[1.0,\"#f0f921\"]]},\"colorway\":[\"#636efa\",\"#EF553B\",\"#00cc96\",\"#ab63fa\",\"#FFA15A\",\"#19d3f3\",\"#FF6692\",\"#B6E880\",\"#FF97FF\",\"#FECB52\"],\"font\":{\"color\":\"#2a3f5f\"},\"geo\":{\"bgcolor\":\"white\",\"lakecolor\":\"white\",\"landcolor\":\"#E5ECF6\",\"showlakes\":true,\"showland\":true,\"subunitcolor\":\"white\"},\"hoverlabel\":{\"align\":\"left\"},\"hovermode\":\"closest\",\"mapbox\":{\"style\":\"light\"},\"paper_bgcolor\":\"white\",\"plot_bgcolor\":\"#E5ECF6\",\"polar\":{\"angularaxis\":{\"gridcolor\":\"white\",\"linecolor\":\"white\",\"ticks\":\"\"},\"bgcolor\":\"#E5ECF6\",\"radialaxis\":{\"gridcolor\":\"white\",\"linecolor\":\"white\",\"ticks\":\"\"}},\"scene\":{\"xaxis\":{\"backgroundcolor\":\"#E5ECF6\",\"gridcolor\":\"white\",\"gridwidth\":2,\"linecolor\":\"white\",\"showbackground\":true,\"ticks\":\"\",\"zerolinecolor\":\"white\"},\"yaxis\":{\"backgroundcolor\":\"#E5ECF6\",\"gridcolor\":\"white\",\"gridwidth\":2,\"linecolor\":\"white\",\"showbackground\":true,\"ticks\":\"\",\"zerolinecolor\":\"white\"},\"zaxis\":{\"backgroundcolor\":\"#E5ECF6\",\"gridcolor\":\"white\",\"gridwidth\":2,\"linecolor\":\"white\",\"showbackground\":true,\"ticks\":\"\",\"zerolinecolor\":\"white\"}},\"shapedefaults\":{\"line\":{\"color\":\"#2a3f5f\"}},\"ternary\":{\"aaxis\":{\"gridcolor\":\"white\",\"linecolor\":\"white\",\"ticks\":\"\"},\"baxis\":{\"gridcolor\":\"white\",\"linecolor\":\"white\",\"ticks\":\"\"},\"bgcolor\":\"#E5ECF6\",\"caxis\":{\"gridcolor\":\"white\",\"linecolor\":\"white\",\"ticks\":\"\"}},\"title\":{\"x\":0.05},\"xaxis\":{\"automargin\":true,\"gridcolor\":\"white\",\"linecolor\":\"white\",\"ticks\":\"\",\"title\":{\"standoff\":15},\"zerolinecolor\":\"white\",\"zerolinewidth\":2},\"yaxis\":{\"automargin\":true,\"gridcolor\":\"white\",\"linecolor\":\"white\",\"ticks\":\"\",\"title\":{\"standoff\":15},\"zerolinecolor\":\"white\",\"zerolinewidth\":2}}},\"xaxis\":{\"anchor\":\"y\",\"domain\":[0.0,1.0],\"title\":{\"text\":\"index\"}},\"yaxis\":{\"anchor\":\"x\",\"domain\":[0.0,1.0],\"title\":{\"text\":\"MAE\"}},\"legend\":{\"tracegroupgap\":0},\"title\":{\"text\":\"MAE of the different models\"},\"barmode\":\"relative\"},                        {\"responsive\": true}                    ).then(function(){\n",
       "                            \n",
       "var gd = document.getElementById('ade3976a-b17d-46be-ad0d-5edffd400eb2');\n",
       "var x = new MutationObserver(function (mutations, observer) {{\n",
       "        var display = window.getComputedStyle(gd).display;\n",
       "        if (!display || display === 'none') {{\n",
       "            console.log([gd, 'removed!']);\n",
       "            Plotly.purge(gd);\n",
       "            observer.disconnect();\n",
       "        }}\n",
       "}});\n",
       "\n",
       "// Listen for the removal of the full notebook cells\n",
       "var notebookContainer = gd.closest('#notebook-container');\n",
       "if (notebookContainer) {{\n",
       "    x.observe(notebookContainer, {childList: true});\n",
       "}}\n",
       "\n",
       "// Listen for the clearing of the current output cell\n",
       "var outputEl = gd.closest('.output');\n",
       "if (outputEl) {{\n",
       "    x.observe(outputEl, {childList: true});\n",
       "}}\n",
       "\n",
       "                        })                };                });            </script>        </div>"
      ]
     },
     "metadata": {},
     "output_type": "display_data"
    }
   ],
   "source": [
    "px.bar(all_compared, x=all_compared.index, y='MAE', \n",
    "        title=\"MAE of the different models\")"
   ]
  },
  {
   "cell_type": "code",
   "execution_count": null,
   "metadata": {},
   "outputs": [],
   "source": []
  }
 ],
 "metadata": {
  "kernelspec": {
   "display_name": "Python 3 (ipykernel)",
   "language": "python",
   "name": "python3"
  },
  "language_info": {
   "codemirror_mode": {
    "name": "ipython",
    "version": 3
   },
   "file_extension": ".py",
   "mimetype": "text/x-python",
   "name": "python",
   "nbconvert_exporter": "python",
   "pygments_lexer": "ipython3",
   "version": "3.9.7"
  }
 },
 "nbformat": 4,
 "nbformat_minor": 4
}
